{
 "cells": [
  {
   "cell_type": "markdown",
   "id": "090801cb",
   "metadata": {},
   "source": [
    "## Обработка исключений\n",
    "Обработка ошибок, или исключений, в Python – важная часть создания надежных программ. В приложениях для анализа данных многие функции работают\n",
    "только для входных данных определенного вида."
   ]
  },
  {
   "cell_type": "code",
   "execution_count": 1,
   "id": "0017fa00",
   "metadata": {},
   "outputs": [
    {
     "name": "stdout",
     "output_type": "stream",
     "text": [
      "1.2345\n"
     ]
    },
    {
     "ename": "ValueError",
     "evalue": "could not convert string to float: 'something'",
     "output_type": "error",
     "traceback": [
      "\u001b[31m---------------------------------------------------------------------------\u001b[39m",
      "\u001b[31mValueError\u001b[39m                                Traceback (most recent call last)",
      "\u001b[36mCell\u001b[39m\u001b[36m \u001b[39m\u001b[32mIn[1]\u001b[39m\u001b[32m, line 2\u001b[39m\n\u001b[32m      1\u001b[39m \u001b[38;5;28mprint\u001b[39m(\u001b[38;5;28mfloat\u001b[39m(\u001b[33m'\u001b[39m\u001b[33m1.2345\u001b[39m\u001b[33m'\u001b[39m))\n\u001b[32m----> \u001b[39m\u001b[32m2\u001b[39m \u001b[38;5;28mprint\u001b[39m(\u001b[38;5;28;43mfloat\u001b[39;49m\u001b[43m(\u001b[49m\u001b[33;43m'\u001b[39;49m\u001b[33;43msomething\u001b[39;49m\u001b[33;43m'\u001b[39;49m\u001b[43m)\u001b[49m)\n",
      "\u001b[31mValueError\u001b[39m: could not convert string to float: 'something'"
     ]
    }
   ],
   "source": [
    "print(float('1.2345'))\n",
    "print(float('something'))"
   ]
  },
  {
   "cell_type": "markdown",
   "id": "544d018a",
   "metadata": {},
   "source": [
    "Пусть требуется написать версию float, которая не завершается ошибкой. Это можно сделать, обернув вызов float блоком try/except:"
   ]
  },
  {
   "cell_type": "code",
   "execution_count": 2,
   "id": "8395a185",
   "metadata": {},
   "outputs": [],
   "source": [
    "def attempt_float(x):\n",
    "    try:\n",
    "        return float(x)\n",
    "    except (ValueError, TypeError):\n",
    "        return x"
   ]
  },
  {
   "cell_type": "markdown",
   "id": "b15c579b",
   "metadata": {},
   "source": [
    "Иногда исключение не нужно перехватывать, но какой-то код должен быть\n",
    "выполнен вне зависимости от того, возникло исключение в блоке try или нет.\n",
    "Для этого служит предложение finally:\n",
    "```\n",
    "f = open(path, mode=\"w\")\n",
    "try:\n",
    "    write_to_file(f)\n",
    "finally:\n",
    "    f.close()\n",
    " ```\n",
    "Здесь объект файла f закрывается в  любом случае."
   ]
  },
  {
   "cell_type": "markdown",
   "id": "92654221",
   "metadata": {},
   "source": [
    "*Если исключение возникает в  процессе выполнения скрипта командой %run или при выполнении любого предложения, то IPython по умолчанию распечатывает весь стек (выполняет трассировку стека) и  несколько строк вокруг каждого предложения в стеке, чтобы можно было понять контекст. `%run examples/ipython_bug.py`*"
   ]
  }
 ],
 "metadata": {
  "kernelspec": {
   "display_name": "venv",
   "language": "python",
   "name": "python3"
  },
  "language_info": {
   "codemirror_mode": {
    "name": "ipython",
    "version": 3
   },
   "file_extension": ".py",
   "mimetype": "text/x-python",
   "name": "python",
   "nbconvert_exporter": "python",
   "pygments_lexer": "ipython3",
   "version": "3.13.6"
  }
 },
 "nbformat": 4,
 "nbformat_minor": 5
}
