{
 "cells": [
  {
   "cell_type": "markdown",
   "id": "53279f45",
   "metadata": {},
   "source": [
    "# Список (list)"
   ]
  },
  {
   "cell_type": "markdown",
   "id": "fac7bef5",
   "metadata": {},
   "source": [
    "Списки имеют **переменную длину**, их содержимое **можно модифицировать**. В одном списке можно хранить переменные **разных типов**."
   ]
  },
  {
   "cell_type": "code",
   "execution_count": 4,
   "id": "24613c14",
   "metadata": {},
   "outputs": [
    {
     "data": {
      "text/plain": [
       "[4, 5, 10]"
      ]
     },
     "execution_count": 4,
     "metadata": {},
     "output_type": "execute_result"
    }
   ],
   "source": [
    "list1 = [1, 2, 3]\n",
    "tup = (4, 5, 6)\n",
    "list2 = list(tup)\n",
    "\n",
    "list2[2] = 10\n",
    "\n",
    "list2\n",
    "\n"
   ]
  },
  {
   "cell_type": "markdown",
   "id": "e99963a2",
   "metadata": {},
   "source": [
    "Добавление элементов реализуется с помощью:\n",
    "* **append** для добавления в конец\n",
    "* **insert** для добавления одного элемента в любое место\n",
    "* **extend** для добавления итерируемого объекта (список, кортеж...) в конец: "
   ]
  },
  {
   "cell_type": "code",
   "execution_count": 17,
   "id": "7cec858d",
   "metadata": {},
   "outputs": [
    {
     "name": "stdout",
     "output_type": "stream",
     "text": [
      "List after append ==>  ['foo', 'bar', 'baz']\n",
      "List after insert new element before second element ==>  ['foo', 'bim', 'bar', 'baz']\n",
      "List after extend ==>  ['foo', 'bim', 'bar', 'baz', 'bom', 'bum', 'bam']\n"
     ]
    }
   ],
   "source": [
    "list = ['foo', 'bar']\n",
    "\n",
    "list.append('baz')\n",
    "print(\"List after append ==> \", list)\n",
    "\n",
    "list.insert(1, 'bim')\n",
    "print(\"List after insert new element before second element ==> \", list)\n",
    "\n",
    "list.extend(('bom', 'bum', 'bam'))\n",
    "print(\"List after extend ==> \", list)"
   ]
  },
  {
   "cell_type": "markdown",
   "id": "1d1f0b44",
   "metadata": {},
   "source": [
    "*Метод insert вычислительно сложнее, чем append, так как чтобы освободить место для нового элемента, приходится сдвигать ссылки на элементы, следующие за ним. Если необходимо вставлять элементы **как в начало, так и в конец** последовательности, то лучше использовать объект **collections.deque**, специально оптимизированный для этой цели и  включенный в  стандартную библиотеку Python.*"
   ]
  },
  {
   "cell_type": "markdown",
   "id": "b58ff453",
   "metadata": {},
   "source": [
    "Операцией, обратной к insert, является **pop**, она удаляет из списка элемент,\n",
    "находившийся в указанной позиции, и возвращает его:"
   ]
  },
  {
   "cell_type": "code",
   "execution_count": 18,
   "id": "d3f563df",
   "metadata": {},
   "outputs": [
    {
     "data": {
      "text/plain": [
       "'bam'"
      ]
     },
     "execution_count": 18,
     "metadata": {},
     "output_type": "execute_result"
    }
   ],
   "source": [
    "list.pop()"
   ]
  },
  {
   "cell_type": "markdown",
   "id": "dd73616d",
   "metadata": {},
   "source": [
    "Элементы можно удалять также методом **remove**, который находит и удаляет\n",
    "из списка первый элемент с указанным значением:"
   ]
  },
  {
   "cell_type": "code",
   "execution_count": 21,
   "id": "47152855",
   "metadata": {},
   "outputs": [
    {
     "data": {
      "text/plain": [
       "['bar', 'baz']"
      ]
     },
     "execution_count": 21,
     "metadata": {},
     "output_type": "execute_result"
    }
   ],
   "source": [
    "list = ['foo', 'bar', 'baz']\n",
    "list.remove('foo')\n",
    "\n",
    "list"
   ]
  },
  {
   "cell_type": "markdown",
   "id": "a16bedb3",
   "metadata": {},
   "source": [
    "Отметим, что конкатенация – сравнительно дорогая операция, потому что\n",
    "нужно создать новый список и скопировать в него все объекты. Обычно предпочтительнее использовать extend для добавления элементов в существующий\n",
    "список, особенно если строится длинный список. Таким образом,\n",
    "```\n",
    "everything = []\n",
    "for chunk in list_of_lists:\n",
    "    everything.extend(chunk)\n",
    "```\n",
    "быстрее, чем эквивалентная конкатенация:\n",
    "```\n",
    "everything = []\n",
    "for chunk in list_of_lists:\n",
    "    everything = everything + chunk\n",
    "```\n"
   ]
  },
  {
   "cell_type": "markdown",
   "id": "c81e7b99",
   "metadata": {},
   "source": [
    "Сортировка списка происходит при помощи метода **sort**. Также в нем можно указать ключ, по которому будет сортироваться список:"
   ]
  },
  {
   "cell_type": "code",
   "execution_count": 29,
   "id": "c9115f08",
   "metadata": {},
   "outputs": [
    {
     "name": "stdout",
     "output_type": "stream",
     "text": [
      "Sorted by default ==>  ['apricot', 'kiwi', 'orange', 'tangerine']\n",
      "Sorted by len ==>  ['kiwi', 'orange', 'apricot', 'tangerine']\n"
     ]
    }
   ],
   "source": [
    "fruits = ['orange', 'apricot', 'tangerine', 'kiwi']\n",
    "fruits.sort()\n",
    "print(\"Sorted by default ==> \", fruits)\n",
    "\n",
    "fruits.sort(key=len)\n",
    "print(\"Sorted by len ==> \", fruits)"
   ]
  }
 ],
 "metadata": {
  "kernelspec": {
   "display_name": "venv",
   "language": "python",
   "name": "python3"
  },
  "language_info": {
   "codemirror_mode": {
    "name": "ipython",
    "version": 3
   },
   "file_extension": ".py",
   "mimetype": "text/x-python",
   "name": "python",
   "nbconvert_exporter": "python",
   "pygments_lexer": "ipython3",
   "version": "3.13.6"
  }
 },
 "nbformat": 4,
 "nbformat_minor": 5
}
