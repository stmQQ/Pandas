{
 "cells": [
  {
   "cell_type": "markdown",
   "id": "012a070e",
   "metadata": {},
   "source": [
    "# СЛОВАРЬ (dict)"
   ]
  },
  {
   "cell_type": "markdown",
   "id": "5c7ceddc",
   "metadata": {},
   "source": [
    "Словарь, или **dict**, пожалуй, является самой важной из встроенных в  Python\n",
    "структур данных. Он представляет собой коллекцию пар **ключ-значение**, в которой и ключ, и значение – объекты Python.\n",
    "С каждым ключом ассоциировано значение, так что значение можно извлекать, вставлять, изменять или удалять, если известен ключ. Создать словарь\n",
    "можно, в частности, с помощью фигурных скобок {}, отделяя ключи от значений двоеточием:\n",
    "\n",
    "```\n",
    "empty_dict = {}\n",
    "\n",
    "d1 = {'a' : 'orange', '7' : [1, 2, 3]}\n",
    "```"
   ]
  },
  {
   "cell_type": "markdown",
   "id": "57132b63",
   "metadata": {},
   "source": [
    "Для доступа к  элементам, вставки и  присваивания применяется такой же\n",
    "синтаксис, как в случае списка или кортежа:\n",
    "\n",
    "` d1[7] = \"an integer\"`"
   ]
  },
  {
   "cell_type": "markdown",
   "id": "c1bda5de",
   "metadata": {},
   "source": [
    "Проверка наличия ключа в словаре тоже производится, как для кортежа или\n",
    "списка:\n",
    "\n",
    "`'b' in d1`"
   ]
  },
  {
   "cell_type": "markdown",
   "id": "daf64641",
   "metadata": {},
   "source": [
    "Для удаления ключа можно использовать либо ключевое слово del, либо метод pop (который не только удаляет ключ, но и  возвращает ассоциированное\n",
    "с ним значение):"
   ]
  },
  {
   "cell_type": "code",
   "execution_count": 1,
   "id": "d243b01b",
   "metadata": {},
   "outputs": [
    {
     "name": "stdout",
     "output_type": "stream",
     "text": [
      "Popped value ==>  banana\n",
      "After pop ==>  {'a': 'orange', 'c': 'apple'}\n",
      "After del ==>  {'c': 'apple'}\n"
     ]
    }
   ],
   "source": [
    "d1 = {'a' : 'orange', 'b' : 'banana', 'c' : 'apple'}\n",
    "poped_out = d1.pop('b')\n",
    "print(\"Popped value ==> \", poped_out)\n",
    "print(\"After pop ==> \", d1)\n",
    "\n",
    "del d1['a']\n",
    "print(\"After del ==> \", d1)"
   ]
  },
  {
   "cell_type": "markdown",
   "id": "e31762d4",
   "metadata": {},
   "source": [
    "Методы **keys** и  **values** возвращают соответственно список ключей и список\n",
    "значений. Хотя **точный порядок пар ключ-значение не определен**, эти методы\n",
    "возвращают ключи и значения в одном и том же порядке:\n"
   ]
  },
  {
   "cell_type": "code",
   "execution_count": 4,
   "id": "3f112504",
   "metadata": {},
   "outputs": [
    {
     "name": "stdout",
     "output_type": "stream",
     "text": [
      "Keys ==>  ['a', 'b', 'c']\n",
      "Values ==>  ['orange', 'banana', 'apple']\n"
     ]
    }
   ],
   "source": [
    "d1 = {'a' : 'orange', 'b' : 'banana', 'c' : 'apple'}\n",
    "print(\"Keys ==> \", list(d1.keys()))\n",
    "print(\"Values ==> \", list(d1.values()))"
   ]
  },
  {
   "cell_type": "markdown",
   "id": "a2b9246d",
   "metadata": {},
   "source": [
    "Чтобы обойти одновременно ключи и  значения, воспользуйтесь методом\n",
    "**items**, который отдает **2-кортежи**, состоящие из ключа и значения:"
   ]
  },
  {
   "cell_type": "code",
   "execution_count": 8,
   "id": "23b32519",
   "metadata": {},
   "outputs": [
    {
     "name": "stdout",
     "output_type": "stream",
     "text": [
      "(Key, value) ==>  [('a', 'orange'), ('b', 'banana'), ('c', 'apple')]\n"
     ]
    }
   ],
   "source": [
    "print(\"(Key, value) ==> \", list(d1.items()))"
   ]
  },
  {
   "cell_type": "markdown",
   "id": "dfc12018",
   "metadata": {},
   "source": [
    "Два словаря можно объединить в один методом **update**. Объединение происходит **in-place**:\n",
    "\n",
    "`d1.update({'d' : 'peach', 'e' : 'coconut'})`"
   ]
  },
  {
   "cell_type": "markdown",
   "id": "f6ea29da",
   "metadata": {},
   "source": [
    "Нередко бывает, что имеются две последовательности, которые естественно\n",
    "рассматривать как ключи и соответствующие им значения, а значит, требуется\n",
    "построить из них словарь. Первая попытка могла бы выглядеть так:\n",
    "```\n",
    "mapping = {}\n",
    "for key, value in zip(key_list, value_list):\n",
    "    mapping[key] = value\n",
    " ```\n"
   ]
  },
  {
   "cell_type": "markdown",
   "id": "422702ae",
   "metadata": {},
   "source": [
    "Методы словаря get и pop могут принимать значение, возвращаемое по умолчанию:\n",
    "\n",
    "`value = some_dict.get(key, default_value)`"
   ]
  },
  {
   "cell_type": "markdown",
   "id": "2620e5be",
   "metadata": {},
   "source": [
    "В стандартном модуле **collections** есть полезный класс **defaultdict**, который\n",
    "упрощает решение задачи значений по умолчанию. Его конструктору передается\n",
    "тип или функция, генерирующая значение по умолчанию для каждой записи\n",
    "в словаре:\n",
    "```\n",
    "from collections import defaultdict\n",
    "    by_letter = defaultdict(list)\n",
    "```"
   ]
  },
  {
   "cell_type": "markdown",
   "id": "b476592c",
   "metadata": {},
   "source": [
    "Значениями словаря могут быть произвольные объекты Python, но **ключами должны быть неизменяемые объекты**, например скалярные типы (int, float, строка) или кортежи (причем все объекты кортежа тоже должны быть неизменяемыми). Технически это свойство называется **хешируемостью**. Проверить, является ли объект хешируемым (и, стало быть, может быть ключом словаря), позволяет функция **hash**."
   ]
  }
 ],
 "metadata": {
  "kernelspec": {
   "display_name": "venv",
   "language": "python",
   "name": "python3"
  },
  "language_info": {
   "codemirror_mode": {
    "name": "ipython",
    "version": 3
   },
   "file_extension": ".py",
   "mimetype": "text/x-python",
   "name": "python",
   "nbconvert_exporter": "python",
   "pygments_lexer": "ipython3",
   "version": "3.13.6"
  }
 },
 "nbformat": 4,
 "nbformat_minor": 5
}
