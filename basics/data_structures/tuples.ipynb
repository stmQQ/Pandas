{
 "cells": [
  {
   "cell_type": "markdown",
   "id": "36bd8d6d",
   "metadata": {},
   "source": [
    "# Кортеж (tuple)"
   ]
  },
  {
   "cell_type": "markdown",
   "id": "201666ea",
   "metadata": {},
   "source": [
    "Tuple представляет собой одномерную **неизменяемую** последовательность **фиксированной** длины. Элементы могут быть **разных типов**."
   ]
  },
  {
   "cell_type": "code",
   "execution_count": 10,
   "id": "5385eb40",
   "metadata": {},
   "outputs": [
    {
     "name": "stdout",
     "output_type": "stream",
     "text": [
      "(1, 2, 3)\n",
      "(1, 2, 3)\n"
     ]
    }
   ],
   "source": [
    "tup1 = (1, 2, 3)\n",
    "tup2 = 1, 2, 3\n",
    "print(tup1, tup2, sep='\\n')"
   ]
  },
  {
   "cell_type": "markdown",
   "id": "e96198cf",
   "metadata": {},
   "source": [
    "К элементам кортежа можно обращаться с помощью квадратных скобок [],\n",
    "как и к элементам большинства других типов последовательностей."
   ]
  },
  {
   "cell_type": "markdown",
   "id": "bee28352",
   "metadata": {},
   "source": [
    "Хотя объекты, хранящиеся в кортеже, **могут быть изменяемыми**, сам кортеж\n",
    "после создания изменить (т. е. записать что-то другое в существующую позицию) невозможно:"
   ]
  },
  {
   "cell_type": "code",
   "execution_count": 11,
   "id": "b77360bb",
   "metadata": {},
   "outputs": [
    {
     "ename": "TypeError",
     "evalue": "'tuple' object does not support item assignment",
     "output_type": "error",
     "traceback": [
      "\u001b[31m---------------------------------------------------------------------------\u001b[39m",
      "\u001b[31mTypeError\u001b[39m                                 Traceback (most recent call last)",
      "\u001b[36mCell\u001b[39m\u001b[36m \u001b[39m\u001b[32mIn[11]\u001b[39m\u001b[32m, line 3\u001b[39m\n\u001b[32m      1\u001b[39m tup = (\u001b[33m'\u001b[39m\u001b[33mfoo\u001b[39m\u001b[33m'\u001b[39m, [\u001b[32m1\u001b[39m, \u001b[32m2\u001b[39m], \u001b[38;5;28;01mFalse\u001b[39;00m)\n\u001b[32m----> \u001b[39m\u001b[32m3\u001b[39m \u001b[43mtup\u001b[49m\u001b[43m[\u001b[49m\u001b[32;43m2\u001b[39;49m\u001b[43m]\u001b[49m = \u001b[38;5;28;01mTrue\u001b[39;00m\n",
      "\u001b[31mTypeError\u001b[39m: 'tuple' object does not support item assignment"
     ]
    }
   ],
   "source": [
    "tup = ('foo', [1, 2], False)\n",
    "\n",
    "tup[2] = True"
   ]
  },
  {
   "cell_type": "markdown",
   "id": "e5be5e27",
   "metadata": {},
   "source": [
    "Если какой-то элемент в кортеже изменяемый, то его можно модифицировать на месте (in-place):"
   ]
  },
  {
   "cell_type": "code",
   "execution_count": 12,
   "id": "e14e7088",
   "metadata": {},
   "outputs": [
    {
     "data": {
      "text/plain": [
       "('foo', [1, 2, 3], False)"
      ]
     },
     "execution_count": 12,
     "metadata": {},
     "output_type": "execute_result"
    }
   ],
   "source": [
    "tup = ('foo', [1, 2], False)\n",
    "tup[1].append(3)\n",
    "tup"
   ]
  },
  {
   "cell_type": "markdown",
   "id": "b62ef552",
   "metadata": {},
   "source": [
    "Кортежи можно **конкатенировать** с помощью оператора +:"
   ]
  },
  {
   "cell_type": "code",
   "execution_count": 13,
   "id": "79c9ab4f",
   "metadata": {},
   "outputs": [
    {
     "data": {
      "text/plain": [
       "(1, 2, 3, 4, 5, 6)"
      ]
     },
     "execution_count": 13,
     "metadata": {},
     "output_type": "execute_result"
    }
   ],
   "source": [
    "tup1 = (1, 2, 3)\n",
    "tup2 = (4, 5, 6)\n",
    "\n",
    "tup1 + tup2"
   ]
  },
  {
   "cell_type": "markdown",
   "id": "6b65b91a",
   "metadata": {},
   "source": [
    "При умножении кортежа на число, как и в случае списка, происходит конкатенация нескольких копий кортежа:"
   ]
  },
  {
   "cell_type": "code",
   "execution_count": 14,
   "id": "9d3e7dad",
   "metadata": {},
   "outputs": [
    {
     "data": {
      "text/plain": [
       "('foo', 'bar', 'foo', 'bar', 'foo', 'bar')"
      ]
     },
     "execution_count": 14,
     "metadata": {},
     "output_type": "execute_result"
    }
   ],
   "source": [
    "tup = ('foo', 'bar')\n",
    "\n",
    "tup * 3"
   ]
  },
  {
   "cell_type": "markdown",
   "id": "f04cf5aa",
   "metadata": {},
   "source": [
    "При попытке присвоить значение похожему на кортеж выражению, состоящему из нескольких переменных, интерпретатор пытается **распаковать** значение в правой части оператора присваивания:\n"
   ]
  },
  {
   "cell_type": "code",
   "execution_count": 17,
   "id": "f8702ab5",
   "metadata": {},
   "outputs": [
    {
     "data": {
      "text/plain": [
       "5"
      ]
     },
     "execution_count": 17,
     "metadata": {},
     "output_type": "execute_result"
    }
   ],
   "source": [
    "tup = (4, 5, 6)\n",
    "a, b, c = tup\n",
    "\n",
    "b"
   ]
  },
  {
   "cell_type": "markdown",
   "id": "5e23832a",
   "metadata": {},
   "source": [
    "Одно из распространенных применений **распаковки** переменных – **обход\n",
    "последовательности** кортежей или списков:"
   ]
  },
  {
   "cell_type": "code",
   "execution_count": 18,
   "id": "35da5212",
   "metadata": {},
   "outputs": [
    {
     "name": "stdout",
     "output_type": "stream",
     "text": [
      "a=1 , b=2, c=3\n",
      "a=4 , b=5, c=6\n",
      "a=7 , b=8, c=9\n"
     ]
    }
   ],
   "source": [
    "seq = [(1, 2, 3), (4, 5, 6), (7, 8, 9)]\n",
    "\n",
    "for a, b, c in seq:\n",
    "    print(f\"a={a} , b={b}, c={c}\")"
   ]
  },
  {
   "cell_type": "markdown",
   "id": "4449197f",
   "metadata": {},
   "source": [
    "Бывают ситуации, когда требуется **\"отщепить\"** несколько элементов из начала кортежа. Для этого применяется специальный синтаксис ***rest**, используемый также в сигнатурах функций, чтобы обозначить **сколь угодно длинный**\n",
    "список позиционных аргументов:"
   ]
  },
  {
   "cell_type": "code",
   "execution_count": 21,
   "id": "642a1aba",
   "metadata": {},
   "outputs": [
    {
     "name": "stdout",
     "output_type": "stream",
     "text": [
      "1\n",
      "2\n",
      "[3, 4, 5]\n"
     ]
    }
   ],
   "source": [
    "vals = (1, 2, 3, 4, 5)\n",
    "a, b, *rest = vals\n",
    "\n",
    "print(a, b, rest, sep='\\n')"
   ]
  },
  {
   "cell_type": "markdown",
   "id": "49fdb279",
   "metadata": {},
   "source": [
    "Часть rest иногда требуется **отбросить**; в самом имени rest нет ничего специального, оно **может быть любым**. По соглашению, многие программисты используют для обозначения ненужных переменных знак подчеркивания **( _ )**:"
   ]
  },
  {
   "cell_type": "code",
   "execution_count": 22,
   "id": "1ba4c709",
   "metadata": {},
   "outputs": [],
   "source": [
    "a, b, *_ = vals"
   ]
  }
 ],
 "metadata": {
  "kernelspec": {
   "display_name": "venv",
   "language": "python",
   "name": "python3"
  },
  "language_info": {
   "codemirror_mode": {
    "name": "ipython",
    "version": 3
   },
   "file_extension": ".py",
   "mimetype": "text/x-python",
   "name": "python",
   "nbconvert_exporter": "python",
   "pygments_lexer": "ipython3",
   "version": "3.13.6"
  }
 },
 "nbformat": 4,
 "nbformat_minor": 5
}
