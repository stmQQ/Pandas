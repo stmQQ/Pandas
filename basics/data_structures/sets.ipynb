{
 "cells": [
  {
   "cell_type": "markdown",
   "id": "b26cd254",
   "metadata": {},
   "source": [
    "# Множество (set)"
   ]
  }
 ],
 "metadata": {
  "language_info": {
   "name": "python"
  }
 },
 "nbformat": 4,
 "nbformat_minor": 5
}
