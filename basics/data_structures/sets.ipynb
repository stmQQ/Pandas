{
 "cells": [
  {
   "cell_type": "markdown",
   "id": "b26cd254",
   "metadata": {},
   "source": [
    "# Множество (set)"
   ]
  },
  {
   "cell_type": "markdown",
   "id": "57bb07c4",
   "metadata": {},
   "source": [
    "Множество – это **неупорядоченная** коллекция уникальных элементов. Создать множество можно двумя способами: с помощью функции **set** или задав\n",
    "множество-литерал в фигурных скобках:\n",
    "```\n",
    "set([2, 2, 2, 1, 3, 3])\n",
    "{2, 2, 2, 1, 3, 3}\n",
    "{1, 2, 3}\n",
    "{1, 2, 3}\n",
    "```"
   ]
  },
  {
   "cell_type": "markdown",
   "id": "4871a339",
   "metadata": {},
   "source": [
    "Множества поддерживают теоретико-множественные операции: объединение, пересечение, разность и симметрическую разность."
   ]
  },
  {
   "cell_type": "code",
   "execution_count": null,
   "id": "4df7ca78",
   "metadata": {},
   "outputs": [
    {
     "name": "stdout",
     "output_type": "stream",
     "text": [
      "Union of a and b ==>  {1, 2, 3, 4, 5, 6, 7}\n",
      "Union of a and b ==>  {1, 2, 3, 4, 5, 6, 7}\n",
      "\n",
      "\n",
      "Intersection of a and b ==>  {3, 4, 5}\n",
      "Intersection of a and b ==>  {3, 4, 5}\n"
     ]
    }
   ],
   "source": [
    "a = {1, 2, 3, 4, 5}\n",
    "b = {3, 4, 5, 6, 7}\n",
    "\n",
    "print(\"Union of a and b ==> \", a.union(b))\n",
    "print(\"Union of a and b ==> \", a | b)\n",
    "print('\\n')\n",
    "print(\"Intersection of a and b ==> \", a.intersection(b))\n",
    "print(\"Intersection of a and b ==> \", a & b)"
   ]
  },
  {
   "cell_type": "markdown",
   "id": "8e4045d7",
   "metadata": {},
   "source": [
    "| Method | Binary operation | Explalation                             |\n",
    "| :------- | :--------------: | :------------------------------------- |\n",
    "| a.add(x) | No | Добавить элемент **x** в множество **a**        |\n",
    "| a.clear() | No | Очистить множество **a**        |\n",
    "| a.remove(x) | No | Удалить элемент **x** из множества **a** |\n",
    "| a.pop(x) | No | Удалить элемент **x** из множества **a** и присвоить его значение|\n",
    "| a.union(b) | a \\| b | Объединение множеств a и b |\n",
    "| a.update(b) | a \\|= b | Объединить множества a и b in-place |\n",
    "| a.intersection(b) | a & b | Пересечение множеств a и b |\n",
    "| a.intersection_update(b) | a &= b | Пересечение множества a и b in-place |\n",
    "| a.difference(b) | a - b | Разница множеств a и b |\n",
    "| a.difference_update(b) | a -= b | Разница множества a и b in-place |\n",
    "| a.symmetric_difference(b) | a ^ b | Элементы, входящие либо в a, либо в b, но не в a и b одновременно |\n",
    "| a.symmetric_difference_update(b) | a ^= b | Элементы, входящие либо в a, либо в b, но не в a и b одновременно in-place |\n",
    "| a.issubset(b) | No | True, если a - подмножество b |\n",
    "| a.isupperset(b) | No | True, если b - подмножество a |\n",
    "| a.isdisjoint(b) | No | True, если у a и b нет ни одного общего элемента |"
   ]
  }
 ],
 "metadata": {
  "kernelspec": {
   "display_name": "venv",
   "language": "python",
   "name": "python3"
  },
  "language_info": {
   "codemirror_mode": {
    "name": "ipython",
    "version": 3
   },
   "file_extension": ".py",
   "mimetype": "text/x-python",
   "name": "python",
   "nbconvert_exporter": "python",
   "pygments_lexer": "ipython3",
   "version": "3.13.6"
  }
 },
 "nbformat": 4,
 "nbformat_minor": 5
}
