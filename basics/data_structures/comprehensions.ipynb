{
 "cells": [
  {
   "cell_type": "markdown",
   "id": "6e7062db",
   "metadata": {},
   "source": [
    "## Списочное, словарное, множественное включение (comprehension)"
   ]
  },
  {
   "cell_type": "markdown",
   "id": "e9131b93",
   "metadata": {},
   "source": [
    "Этот механизм позволяет в кратком виде создать новый список. Основная синтаксическая форма такова: \n",
    "\n",
    "` [expr for val in collection if condition] `"
   ]
  },
  {
   "cell_type": "code",
   "execution_count": 1,
   "id": "26c6c79f",
   "metadata": {},
   "outputs": [
    {
     "data": {
      "text/plain": [
       "['ABC', 'BAT', 'CAT', 'JOIN']"
      ]
     },
     "execution_count": 1,
     "metadata": {},
     "output_type": "execute_result"
    }
   ],
   "source": [
    "strings = [\"abc\", \"a\", \"bat\", \"cat\", \"join\", \"gorilla\"]\n",
    "\n",
    "[x.upper() for x in strings if len(x) > 2 and len(x) < 5] "
   ]
  },
  {
   "cell_type": "markdown",
   "id": "6fd468be",
   "metadata": {},
   "source": [
    "Словарное и множественное включения - естественные обобщения, которые предлагают аналогичный механизм для создания словарей и множеств.\n",
    "\n",
    "`dict_comp = {key-expr : val=expr for val in collection if condition}`\n",
    "\n",
    "`set_comp = {expr for val in collection if condition}`"
   ]
  },
  {
   "cell_type": "markdown",
   "id": "d2f22e50",
   "metadata": {},
   "source": [
    "## Вложенное списочное включение"
   ]
  },
  {
   "cell_type": "code",
   "execution_count": 2,
   "id": "cc5be5ac",
   "metadata": {},
   "outputs": [
    {
     "data": {
      "text/plain": [
       "['Maria', 'Natalia']"
      ]
     },
     "execution_count": 2,
     "metadata": {},
     "output_type": "execute_result"
    }
   ],
   "source": [
    "all_data = [['Jonh', 'Emily', 'Mary', 'Steven', 'Carl'],\n",
    "            ['Juan', 'Maria', 'Javier', 'Natalia']]\n",
    "\n",
    "#Получить список имен, в которых не менее 2 букв a.\n",
    "names_of_interest = []\n",
    "\n",
    "for names_list in all_data:\n",
    "    suitable_names = [name for name in names_list if name.lower().count('a') >= 2]\n",
    "    names_of_interest.extend(suitable_names)\n",
    "\n",
    "names_of_interest"
   ]
  },
  {
   "cell_type": "code",
   "execution_count": 3,
   "id": "647bca14",
   "metadata": {},
   "outputs": [
    {
     "data": {
      "text/plain": [
       "[1, 2, 3, 4, 5, 6, 7, 8, 9]"
      ]
     },
     "execution_count": 3,
     "metadata": {},
     "output_type": "execute_result"
    }
   ],
   "source": [
    "some_tuples = [(1, 2, 3), (4, 5, 6), (7, 8, 9)]\n",
    "flattened = [x for tup in some_tuples for x in tup]\n",
    "\n",
    "flattened"
   ]
  },
  {
   "cell_type": "markdown",
   "id": "85f7e52b",
   "metadata": {},
   "source": [
    "*Помните, что порядок выражений for точно такой же, как если бы вы писали вложенные циклы for, а не списковое включение.*"
   ]
  }
 ],
 "metadata": {
  "kernelspec": {
   "display_name": "Python 3",
   "language": "python",
   "name": "python3"
  },
  "language_info": {
   "codemirror_mode": {
    "name": "ipython",
    "version": 3
   },
   "file_extension": ".py",
   "mimetype": "text/x-python",
   "name": "python",
   "nbconvert_exporter": "python",
   "pygments_lexer": "ipython3",
   "version": "3.11.5"
  }
 },
 "nbformat": 4,
 "nbformat_minor": 5
}
