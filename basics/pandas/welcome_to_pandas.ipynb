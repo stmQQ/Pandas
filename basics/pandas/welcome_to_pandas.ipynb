{
 "cells": [
  {
   "cell_type": "markdown",
   "id": "5836416b",
   "metadata": {},
   "source": [
    "## Знакомство с Pandas\n",
    "Pandas - библиотека, которая содержит структуры данных и средства манипуляции данными, спроектированные с целью максимально упростить и ускорить очистку и анализ данных в Python.\n",
    "Pandas предназначена для работы с табличными и неоднородными данными."
   ]
  },
  {
   "cell_type": "code",
   "execution_count": 1,
   "id": "b136fa97",
   "metadata": {},
   "outputs": [],
   "source": [
    "import numpy as np\n",
    "import pandas as pd # Обычно импортруют pandas таким образом"
   ]
  },
  {
   "cell_type": "markdown",
   "id": "a62ab22c",
   "metadata": {},
   "source": [
    "### Введение в структуры данных pandas\n",
    "Основными структурами данных в pandas являются `Series` и `DataFrame`. Они образуют солидную и простую для использования основу большинства приложений."
   ]
  },
  {
   "cell_type": "markdown",
   "id": "2d49d16a",
   "metadata": {},
   "source": [
    "#### Объект `Series`\n",
    "`Series` - **одномерный** похожий на массив объект, содержащий последовательность данных и ассоциированный с ним массив меток, который называется *индексом*. Простейший объект `Series` состоит только из массива данных:"
   ]
  },
  {
   "cell_type": "code",
   "execution_count": 2,
   "id": "cf4c0739",
   "metadata": {},
   "outputs": [
    {
     "data": {
      "text/plain": [
       "0    4\n",
       "1    7\n",
       "2   -5\n",
       "3    3\n",
       "dtype: int64"
      ]
     },
     "execution_count": 2,
     "metadata": {},
     "output_type": "execute_result"
    }
   ],
   "source": [
    "obj = pd.Series([4, 7, -5, 3])\n",
    "\n",
    "obj"
   ]
  },
  {
   "cell_type": "markdown",
   "id": "c85b7cf8",
   "metadata": {},
   "source": [
    "В строковом представлении Series, отображаемом в интерактивном режиме, индекс находится слева, а значения – справа. Поскольку мы не задали индекс для данных, то по умолчанию создается индекс, состоящий из целых чисел от 0 до N – 1 (где N – длина массива данных). Имея объект Series, получить представление самого массива и его индекса можно с помощью атрибутов `values` и `index` соответственно:"
   ]
  },
  {
   "cell_type": "code",
   "execution_count": 3,
   "id": "4913151c",
   "metadata": {},
   "outputs": [
    {
     "data": {
      "text/plain": [
       "<NumpyExtensionArray>\n",
       "[4, 7, -5, 3]\n",
       "Length: 4, dtype: int64"
      ]
     },
     "execution_count": 3,
     "metadata": {},
     "output_type": "execute_result"
    }
   ],
   "source": [
    "obj.array"
   ]
  },
  {
   "cell_type": "markdown",
   "id": "815f9b29",
   "metadata": {},
   "source": [
    "Часто желательно создать объект `Series` с индексом, идентифицирующим каждый элемент данных:"
   ]
  },
  {
   "cell_type": "code",
   "execution_count": 8,
   "id": "844043ad",
   "metadata": {},
   "outputs": [
    {
     "name": "stdout",
     "output_type": "stream",
     "text": [
      "d    4\n",
      "b    7\n",
      "a   -5\n",
      "c    3\n",
      "dtype: int64\n",
      "Index(['d', 'b', 'a', 'c'], dtype='object')\n"
     ]
    }
   ],
   "source": [
    "obj2 = pd.Series([4, 7, -5, 3], index=['d', 'b', 'a', 'c'])\n",
    "\n",
    "print(obj2)\n",
    "print(obj2.index)"
   ]
  },
  {
   "cell_type": "markdown",
   "id": "4e1a4d7f",
   "metadata": {},
   "source": [
    "В отличие от массивов NumPy, для выделения одного или нескольких значений можно использовать метки в индексе:"
   ]
  },
  {
   "cell_type": "code",
   "execution_count": 10,
   "id": "93fc7bce",
   "metadata": {},
   "outputs": [
    {
     "name": "stdout",
     "output_type": "stream",
     "text": [
      "-5\n",
      "-5\n",
      "c    3\n",
      "a   -5\n",
      "d    4\n",
      "dtype: int64\n"
     ]
    }
   ],
   "source": [
    "print(obj2['a'])\n",
    "print(obj2.a)\n",
    "print(obj2[['c', 'a', 'd']])"
   ]
  },
  {
   "cell_type": "markdown",
   "id": "b291c499",
   "metadata": {},
   "source": [
    "Функции NumPy или похожие на них операции, например фильтрация с помощью булевой маски, скалярное умножение или применение математических функций, работают так же как с массивами NumPy."
   ]
  },
  {
   "cell_type": "code",
   "execution_count": 12,
   "id": "91a8880b",
   "metadata": {},
   "outputs": [
    {
     "name": "stdout",
     "output_type": "stream",
     "text": [
      "d    4\n",
      "b    7\n",
      "c    3\n",
      "dtype: int64 \n",
      "\n",
      "d     8\n",
      "b    14\n",
      "a   -10\n",
      "c     6\n",
      "dtype: int64 \n",
      "\n",
      "d      54.598150\n",
      "b    1096.633158\n",
      "a       0.006738\n",
      "c      20.085537\n",
      "dtype: float64\n"
     ]
    }
   ],
   "source": [
    "print(obj2[obj2 > 0], '\\n')\n",
    "print(obj2 * 2, '\\n')\n",
    "print(np.exp(obj2))"
   ]
  },
  {
   "cell_type": "markdown",
   "id": "082d40fc",
   "metadata": {},
   "source": [
    "Объект `Series` можно также представить как упорядоченный словарь фиксированной длины. Его можно передавать функциям, ожидающим получить словарь:"
   ]
  },
  {
   "cell_type": "code",
   "execution_count": 13,
   "id": "64b69dbc",
   "metadata": {},
   "outputs": [
    {
     "name": "stdout",
     "output_type": "stream",
     "text": [
      "True\n",
      "False\n"
     ]
    }
   ],
   "source": [
    "print('b' in obj2)\n",
    "print('e' in obj2)"
   ]
  },
  {
   "cell_type": "markdown",
   "id": "583eae6b",
   "metadata": {},
   "source": [
    "Из словаря Python можно создать объект `Series`:"
   ]
  },
  {
   "cell_type": "code",
   "execution_count": 14,
   "id": "69a25a88",
   "metadata": {},
   "outputs": [
    {
     "data": {
      "text/plain": [
       "Ohio      35000\n",
       "Texas     71000\n",
       "Oregon    16000\n",
       "Utah       5000\n",
       "dtype: int64"
      ]
     },
     "execution_count": 14,
     "metadata": {},
     "output_type": "execute_result"
    }
   ],
   "source": [
    "sdata = {\"Ohio\" : 35000, \"Texas\" : 71000, \"Oregon\" : 16000, \"Utah\" : 5000}\n",
    "obj3 = pd.Series(sdata)\n",
    "\n",
    "obj3"
   ]
  },
  {
   "cell_type": "markdown",
   "id": "c49e5855",
   "metadata": {},
   "source": [
    "Если передается только словарь, то в индексе ключи будут храниться в порядке, который определяется методом словаря `keys` . Этот порядок можно переопределить, передав индекс, содержащий ключи словаря в том порядке, в каком они должны находиться в результирующем объекте `Series`:"
   ]
  },
  {
   "cell_type": "code",
   "execution_count": 15,
   "id": "c4de8424",
   "metadata": {},
   "outputs": [
    {
     "data": {
      "text/plain": [
       "California        NaN\n",
       "Ohio          35000.0\n",
       "Oregon        16000.0\n",
       "Texas         71000.0\n",
       "dtype: float64"
      ]
     },
     "execution_count": 15,
     "metadata": {},
     "output_type": "execute_result"
    }
   ],
   "source": [
    "states = [\"California\", \"Ohio\", \"Oregon\", \"Texas\"]\n",
    "\n",
    "obj4 = pd.Series(sdata, index=states)\n",
    "\n",
    "obj4"
   ]
  },
  {
   "cell_type": "markdown",
   "id": "2bbdb7bb",
   "metadata": {},
   "source": [
    "Для метки `'California'` никакого значения не нашлось в словаре, поэтому ему назначается `NaN`, которым в Pandas обозначаются отсутствующие значения.  \n",
    "Для распознавания отсутствующих данных в Pandas следует использовать функции `isna` и `notna`:"
   ]
  },
  {
   "cell_type": "code",
   "execution_count": 17,
   "id": "3ae79f0b",
   "metadata": {},
   "outputs": [
    {
     "name": "stdout",
     "output_type": "stream",
     "text": [
      "California     True\n",
      "Ohio          False\n",
      "Oregon        False\n",
      "Texas         False\n",
      "dtype: bool \n",
      "\n",
      "California    False\n",
      "Ohio           True\n",
      "Oregon         True\n",
      "Texas          True\n",
      "dtype: bool\n"
     ]
    }
   ],
   "source": [
    "print(pd.isna(obj4), '\\n')\n",
    "print(pd.notna(obj4))"
   ]
  }
 ],
 "metadata": {
  "kernelspec": {
   "display_name": "venv",
   "language": "python",
   "name": "python3"
  },
  "language_info": {
   "codemirror_mode": {
    "name": "ipython",
    "version": 3
   },
   "file_extension": ".py",
   "mimetype": "text/x-python",
   "name": "python",
   "nbconvert_exporter": "python",
   "pygments_lexer": "ipython3",
   "version": "3.12.2"
  }
 },
 "nbformat": 4,
 "nbformat_minor": 5
}
