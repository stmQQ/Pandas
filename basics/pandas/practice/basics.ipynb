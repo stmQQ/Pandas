{
 "cells": [
  {
   "cell_type": "markdown",
   "id": "a67a3180",
   "metadata": {},
   "source": [
    "## Базовая практика по pandas"
   ]
  },
  {
   "cell_type": "code",
   "execution_count": 1,
   "id": "1aec73a5",
   "metadata": {},
   "outputs": [],
   "source": [
    "import pandas as pd"
   ]
  },
  {
   "cell_type": "markdown",
   "id": "867734f4",
   "metadata": {},
   "source": [
    "Задача: Создай DataFrame с колонками 'Имя', 'Возраст', 'Город' и добавь 5 строк. Выведи первые 3 строки."
   ]
  },
  {
   "cell_type": "code",
   "execution_count": 6,
   "id": "bf392f97",
   "metadata": {},
   "outputs": [
    {
     "data": {
      "text/html": [
       "<div>\n",
       "<style scoped>\n",
       "    .dataframe tbody tr th:only-of-type {\n",
       "        vertical-align: middle;\n",
       "    }\n",
       "\n",
       "    .dataframe tbody tr th {\n",
       "        vertical-align: top;\n",
       "    }\n",
       "\n",
       "    .dataframe thead th {\n",
       "        text-align: right;\n",
       "    }\n",
       "</style>\n",
       "<table border=\"1\" class=\"dataframe\">\n",
       "  <thead>\n",
       "    <tr style=\"text-align: right;\">\n",
       "      <th></th>\n",
       "      <th>Имя</th>\n",
       "      <th>Город</th>\n",
       "      <th>Возраст</th>\n",
       "    </tr>\n",
       "  </thead>\n",
       "  <tbody>\n",
       "    <tr>\n",
       "      <th>0</th>\n",
       "      <td>Alex</td>\n",
       "      <td>Moscow</td>\n",
       "      <td>22</td>\n",
       "    </tr>\n",
       "    <tr>\n",
       "      <th>1</th>\n",
       "      <td>Sam</td>\n",
       "      <td>Boston</td>\n",
       "      <td>12</td>\n",
       "    </tr>\n",
       "    <tr>\n",
       "      <th>2</th>\n",
       "      <td>Sally</td>\n",
       "      <td>London</td>\n",
       "      <td>28</td>\n",
       "    </tr>\n",
       "  </tbody>\n",
       "</table>\n",
       "</div>"
      ],
      "text/plain": [
       "     Имя   Город Возраст\n",
       "0   Alex  Moscow      22\n",
       "1    Sam  Boston      12\n",
       "2  Sally  London      28"
      ]
     },
     "execution_count": 6,
     "metadata": {},
     "output_type": "execute_result"
    }
   ],
   "source": [
    "df = pd.DataFrame([\n",
    "    ['Alex', 'Moscow', '22'], \n",
    "    ['Sam', 'Boston', '12'], \n",
    "    ['Sally', 'London', '28'], \n",
    "    ['Juna', 'Deli', '42'], \n",
    "    ['Uldar', 'Astana', '65']], columns=['Имя', 'Город', 'Возраст'])\n",
    "\n",
    "df[:3]"
   ]
  },
  {
   "cell_type": "markdown",
   "id": "21bc7a7a",
   "metadata": {},
   "source": [
    "Задача: Дан DataFrame с товарами: 'Название', 'Цена', 'Количество'. Отфильтруй товары дороже 4000 рублей."
   ]
  },
  {
   "cell_type": "code",
   "execution_count": 8,
   "id": "13a5bcd6",
   "metadata": {},
   "outputs": [
    {
     "data": {
      "text/html": [
       "<div>\n",
       "<style scoped>\n",
       "    .dataframe tbody tr th:only-of-type {\n",
       "        vertical-align: middle;\n",
       "    }\n",
       "\n",
       "    .dataframe tbody tr th {\n",
       "        vertical-align: top;\n",
       "    }\n",
       "\n",
       "    .dataframe thead th {\n",
       "        text-align: right;\n",
       "    }\n",
       "</style>\n",
       "<table border=\"1\" class=\"dataframe\">\n",
       "  <thead>\n",
       "    <tr style=\"text-align: right;\">\n",
       "      <th></th>\n",
       "      <th>Product</th>\n",
       "      <th>Price</th>\n",
       "      <th>Quantity</th>\n",
       "    </tr>\n",
       "  </thead>\n",
       "  <tbody>\n",
       "    <tr>\n",
       "      <th>0</th>\n",
       "      <td>Laptop</td>\n",
       "      <td>45000</td>\n",
       "      <td>10</td>\n",
       "    </tr>\n",
       "    <tr>\n",
       "      <th>3</th>\n",
       "      <td>Monitor</td>\n",
       "      <td>25000</td>\n",
       "      <td>15</td>\n",
       "    </tr>\n",
       "    <tr>\n",
       "      <th>4</th>\n",
       "      <td>Headphones</td>\n",
       "      <td>5000</td>\n",
       "      <td>25</td>\n",
       "    </tr>\n",
       "  </tbody>\n",
       "</table>\n",
       "</div>"
      ],
      "text/plain": [
       "      Product  Price  Quantity\n",
       "0      Laptop  45000        10\n",
       "3     Monitor  25000        15\n",
       "4  Headphones   5000        25"
      ]
     },
     "execution_count": 8,
     "metadata": {},
     "output_type": "execute_result"
    }
   ],
   "source": [
    "df = pd.DataFrame({\n",
    "    'Product': ['Laptop', 'Mouse', 'Keyboard', 'Monitor', 'Headphones'],\n",
    "    'Price': [45000, 1500, 3000, 25000, 5000],\n",
    "    'Quantity': [10, 50, 30, 15, 25]})\n",
    "\n",
    "df[df['Price'] > 4000]"
   ]
  },
  {
   "cell_type": "markdown",
   "id": "2c54c425",
   "metadata": {},
   "source": [
    "Задача: В DataFrame с продажами есть колонки 'Город', 'Сумма_продажи'. Посчитай общую сумму продаж по каждому городу."
   ]
  },
  {
   "cell_type": "code",
   "execution_count": null,
   "id": "96c4925b",
   "metadata": {},
   "outputs": [
    {
     "data": {
      "text/plain": [
       "[('Kazan',\n",
       "      City  Sale_Amount\n",
       "  3  Kazan        12000),\n",
       " ('Moscow',\n",
       "       City  Sale_Amount\n",
       "  0  Moscow        15000\n",
       "  2  Moscow        22000\n",
       "  5  Moscow        18000),\n",
       " ('Novosibirsk',\n",
       "            City  Sale_Amount\n",
       "  6  Novosibirsk         7000),\n",
       " ('SPb',\n",
       "    City  Sale_Amount\n",
       "  1  SPb         8000\n",
       "  4  SPb         9000)]"
      ]
     },
     "execution_count": 16,
     "metadata": {},
     "output_type": "execute_result"
    }
   ],
   "source": [
    "df = pd.DataFrame({\n",
    "    'City': ['Moscow', 'SPb', 'Moscow', 'Kazan', 'SPb', 'Moscow', 'Novosibirsk'],\n",
    "    'Sale_Amount': [15000, 8000, 22000, 12000, 9000, 18000, 7000]})\n",
    "\n",
    "df.groupby('City')['Sale_Amount'].sum()"
   ]
  }
 ],
 "metadata": {
  "kernelspec": {
   "display_name": "venv",
   "language": "python",
   "name": "python3"
  },
  "language_info": {
   "codemirror_mode": {
    "name": "ipython",
    "version": 3
   },
   "file_extension": ".py",
   "mimetype": "text/x-python",
   "name": "python",
   "nbconvert_exporter": "python",
   "pygments_lexer": "ipython3",
   "version": "3.13.6"
  }
 },
 "nbformat": 4,
 "nbformat_minor": 5
}
