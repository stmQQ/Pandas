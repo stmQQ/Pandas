{
 "cells": [
  {
   "cell_type": "markdown",
   "id": "06df8340",
   "metadata": {},
   "source": [
    "## Функции"
   ]
  },
  {
   "cell_type": "markdown",
   "id": "2cc4922b",
   "metadata": {},
   "source": [
    "Объявление функции начинается ключевым словом **def**, а результат возвращается в предложении **return**."
   ]
  },
  {
   "cell_type": "markdown",
   "id": "fe8c9b81",
   "metadata": {},
   "source": [
    "У функции могут быть **позиционные и именованные** аргументы. Именованные аргументы обычно используются для задания значений по умолчанию и необязательных аргументов.\n",
    "Именованные аргументы факультативны, но все позиционные аргументы должны быть заданы при вызове функции.\n",
    "Основное ограничение состоит в том, что именованные аргументы должны находиться **после** всех позиционных (если таковые имеются). Сами же именованные аргументы можно задавать **в любом порядке**, это освобождает программиста от необходимости запоминать, в каком порядке были указаны аргументы функции в объявлении. Важно лишь помнить их имена."
   ]
  },
  {
   "cell_type": "markdown",
   "id": "c118dcde",
   "metadata": {},
   "source": [
    "### Пространства имен и области видимости\n",
    "\n",
    "Функции могут обращаться к  переменным, объявленным как внутри самой\n",
    "функции, так и вне нее – в объемлющих (и даже глобальной) областях видимости. Область видимости переменной в Python называют также пространством\n",
    "имен. Любая переменная, которой присвоено значение внутри функции, по\n",
    "умолчанию попадает в локальное пространство имен. Локальное пространство\n",
    "имен создается при вызове функции, и в него сразу же заносятся аргументы\n",
    "функции. По завершении функции локальное пространство имен уничтожается. "
   ]
  },
  {
   "cell_type": "markdown",
   "id": "c8516952",
   "metadata": {},
   "source": [
    "Присваивать значение глобальной переменной вне области видимости\n",
    "функции допустимо, но такие переменные должны быть объявлены с помощью ключевого слова **global** или **nonlocal**"
   ]
  },
  {
   "cell_type": "markdown",
   "id": "30fc8c90",
   "metadata": {},
   "source": [
    "### Функции являются объектами\n",
    "Поскольку функции в  Python  – объекты, становятся возможны многие конструкции, которые в  других языках выразить трудно. Пусть, например, мы\n",
    "производим очистку данных и должны применить ряд преобразований к следующему списку строк"
   ]
  },
  {
   "cell_type": "code",
   "execution_count": 1,
   "id": "50398c4e",
   "metadata": {},
   "outputs": [],
   "source": [
    "states = [\" Alabama \", \"Georgia!\", \"Georgia\", \"georgia\", \"FlOrIda\", \"south carolina##\", \"West virginia?\"]"
   ]
  },
  {
   "cell_type": "code",
   "execution_count": 6,
   "id": "7a92d8c1",
   "metadata": {},
   "outputs": [
    {
     "name": "stdout",
     "output_type": "stream",
     "text": [
      "['Alabama', 'Georgia', 'Georgia', 'Georgia', 'Florida', 'South Carolina', 'West Virginia']\n"
     ]
    }
   ],
   "source": [
    "import re\n",
    "\n",
    "def format_strings(strings):\n",
    "    result = []\n",
    "    for s in strings:\n",
    "        s = s.strip()\n",
    "        s = re.sub(\"[!?#]\", \"\", s)\n",
    "        s = s.title()\n",
    "        result.append(s)\n",
    "    return result\n",
    "\n",
    "print(format_strings(states))"
   ]
  },
  {
   "cell_type": "markdown",
   "id": "4235268b",
   "metadata": {},
   "source": [
    "Другой подход, который иногда бывает полезен, – составить список операций, которые необходимо применить к набору строк:"
   ]
  },
  {
   "cell_type": "code",
   "execution_count": 7,
   "id": "6179a1dd",
   "metadata": {},
   "outputs": [
    {
     "name": "stdout",
     "output_type": "stream",
     "text": [
      "['Alabama', 'Georgia', 'Georgia', 'Georgia', 'Florida', 'South Carolina', 'West Virginia']\n"
     ]
    }
   ],
   "source": [
    "import re\n",
    "\n",
    "def remove_punctuations(value):\n",
    "    return re.sub(\"[?!#]\", \"\", value)\n",
    "\n",
    "clean_ops = [str.strip, remove_punctuations, str.title]\n",
    "\n",
    "def format_strings(strings, formatting_options):\n",
    "    result = []\n",
    "    for s in strings:\n",
    "        for func in formatting_options:\n",
    "            s = func(s)\n",
    "\n",
    "        result.append(s)\n",
    "\n",
    "    return result\n",
    "\n",
    "print(format_strings(states, clean_ops))\n"
   ]
  },
  {
   "cell_type": "markdown",
   "id": "9abcd821",
   "metadata": {},
   "source": [
    "Функции можно передавать в  качестве аргументов другим функциям, например встроенной функции **map**, которая применяет переданную функцию к последовательности"
   ]
  },
  {
   "cell_type": "code",
   "execution_count": 14,
   "id": "f950fec6",
   "metadata": {},
   "outputs": [
    {
     "name": "stdout",
     "output_type": "stream",
     "text": [
      " Alabama \n",
      "Georgia\n",
      "Georgia\n",
      "georgia\n",
      "FlOrIda\n",
      "south carolina\n",
      "West virginia\n"
     ]
    }
   ],
   "source": [
    "for x in map(remove_punctuations, states):\n",
    "    print(x)"
   ]
  },
  {
   "cell_type": "markdown",
   "id": "21d1f25f",
   "metadata": {},
   "source": [
    "### Лямбда-функции\n",
    "Python поддерживает так называемые анонимные, или лямбда-, функции.\n",
    "По  существу, это простые однострочные функции, возвращающие значение.\n",
    "Определяются они с помощью ключевого слова lambda, которое означает всего\n",
    "лишь «мы определяем анонимную функцию» и ничего более."
   ]
  },
  {
   "cell_type": "code",
   "execution_count": 15,
   "id": "ac648f54",
   "metadata": {},
   "outputs": [
    {
     "data": {
      "text/plain": [
       "[10, 6, 14, 4, 12]"
      ]
     },
     "execution_count": 15,
     "metadata": {},
     "output_type": "execute_result"
    }
   ],
   "source": [
    "ints = [5, 3, 7, 2, 6]\n",
    "\n",
    "list(map(lambda x: x * 2, ints))"
   ]
  },
  {
   "cell_type": "code",
   "execution_count": 16,
   "id": "069e844a",
   "metadata": {},
   "outputs": [
    {
     "data": {
      "text/plain": [
       "['aaaa', 'foo', 'abab', 'bar', 'card']"
      ]
     },
     "execution_count": 16,
     "metadata": {},
     "output_type": "execute_result"
    }
   ],
   "source": [
    "strings = [\"foo\", \"card\", \"bar\", \"aaaa\", \"abab\"]\n",
    "\n",
    "strings.sort(key=lambda x: len(set(x)))\n",
    "\n",
    "strings"
   ]
  },
  {
   "cell_type": "markdown",
   "id": "05084e1b",
   "metadata": {},
   "source": [
    "### Итераторы\n",
    "\n",
    "Многие объекты в Python поддерживают итерирование, например элементов списка или строк в файле. Эта возможность реализована с помощью протокола итератора, общего механизма, наделяющего объекты свойством итерируемости.\n",
    "\n",
    "Встречая конструкцию for key in some_dict, интерпретатор Python сначала пытается создать итератор из some_dict:\n",
    "`dict_iterator = iter(some_list)`\n",
    "\n",
    "Итератор – это любой объект, который отдает интерпретатору Python объекты при использовании в контексте, аналогичном циклу for. Методы, ожидающие получить список или похожий на список объект, как правило, удовлетворяются любым итерируемым объектом. Это относится, в частности, к встроенным методам, например min, max и  sum, и к конструкторам типов, например\n",
    "list и tuple:"
   ]
  },
  {
   "cell_type": "code",
   "execution_count": 17,
   "id": "1b784c10",
   "metadata": {},
   "outputs": [
    {
     "data": {
      "text/plain": [
       "['a', 'b', 'c']"
      ]
     },
     "execution_count": 17,
     "metadata": {},
     "output_type": "execute_result"
    }
   ],
   "source": [
    "some_dict = {'a' : 1, 'b' : 2, 'c' : 3}\n",
    "\n",
    "dict_iterator = iter(some_dict)\n",
    "\n",
    "list(dict_iterator)"
   ]
  },
  {
   "cell_type": "markdown",
   "id": "19228880",
   "metadata": {},
   "source": [
    "### Генераторы\n",
    "\n",
    "Генератор – это удобный механизм конструирования итерируемого объекта, похожий на обычную функцию. Если обычная функция выполняется и возвращает единственное значение, то генератор может возвращать последовательность значений, приостанавливаясь после возврата каждого в ожидании\n",
    "запроса следующего. Чтобы создать генератор, нужно вместо return использовать ключевое слово **yield**:"
   ]
  },
  {
   "cell_type": "code",
   "execution_count": 30,
   "id": "39f87c7d",
   "metadata": {},
   "outputs": [],
   "source": [
    "def squares(n=10):\n",
    "    print(f\"Генерируются квадраты чисел от 1 до {n ** 2}\")\n",
    "    for i in range(1, n + 1):\n",
    "        yield i ** 2"
   ]
  },
  {
   "cell_type": "code",
   "execution_count": 31,
   "id": "580edcd6",
   "metadata": {},
   "outputs": [
    {
     "data": {
      "text/plain": [
       "<generator object squares at 0x000002CB59C18D60>"
      ]
     },
     "execution_count": 31,
     "metadata": {},
     "output_type": "execute_result"
    }
   ],
   "source": [
    "gen = squares()\n",
    "gen"
   ]
  },
  {
   "cell_type": "code",
   "execution_count": 32,
   "id": "d43bac4b",
   "metadata": {},
   "outputs": [
    {
     "name": "stdout",
     "output_type": "stream",
     "text": [
      "Генерируются квадраты чисел от 1 до 100\n",
      "1 4 9 16 25 36 49 64 81 100 "
     ]
    }
   ],
   "source": [
    "for x in gen:\n",
    "    print(x, end=' ')"
   ]
  },
  {
   "cell_type": "markdown",
   "id": "04f578d8",
   "metadata": {},
   "source": [
    "*Поскольку генераторы отдают значения по одному, а  не весь список сразу, программа потребляет меньше памяти.*"
   ]
  },
  {
   "cell_type": "markdown",
   "id": "8d5a5278",
   "metadata": {},
   "source": [
    "### Генераторное выражение\n",
    "\n",
    "Еще один способ создать генератор – воспользоваться **генераторным выражением**."
   ]
  },
  {
   "cell_type": "code",
   "execution_count": 54,
   "id": "d165c603",
   "metadata": {},
   "outputs": [
    {
     "name": "stdout",
     "output_type": "stream",
     "text": [
      "Объект генератора ==>  <generator object <genexpr> at 0x000002CB5965B030>\n",
      "Первое использование генератора ==>  [0, 1, 4, 9, 16, 25, 36, 49, 64, 81]\n",
      "Попытка повторного использования истощенного генератора ==>  []\n",
      "Первое использование заново созданного генератора ==>  [0, 1, 4, 9, 16, 25, 36, 49, 64, 81]\n"
     ]
    }
   ],
   "source": [
    "# Инициализирует генератор, но не вычисляет значения\n",
    "gen = (x ** 2 for x in range(10))\n",
    "\n",
    "print(\"Объект генератора ==> \", gen)\n",
    "# Первое использование - истощает генератор\n",
    "print(\"Первое использование генератора ==> \", list(gen))\n",
    "\n",
    "# Не выводит ничего, потому что генератор истощился при вычислении list\n",
    "print(\"Попытка повторного использования истощенного генератора ==> \", list(gen))\n",
    "\n",
    "# Чтобы еще раз воспользоваться генератором, придется создать его заново (для этого стоит использовать генераторные функции, а не генераторные выражения)\n",
    "gen = (x ** 2 for x in range(10)) # BAD PRACTICE\n",
    "\n",
    "# Снова выводит потому что инициализировали генератор заново\n",
    "print(\"Первое использование заново созданного генератора ==> \", list(gen))"
   ]
  },
  {
   "cell_type": "markdown",
   "id": "9f3eb31a",
   "metadata": {},
   "source": [
    "Можно также использовать лямбда-функции для создания генератора (но лучше использовать явные функции):"
   ]
  },
  {
   "cell_type": "code",
   "execution_count": 59,
   "id": "4463beaf",
   "metadata": {},
   "outputs": [
    {
     "name": "stdout",
     "output_type": "stream",
     "text": [
      "[0, 1, 4, 9, 16, 25, 36, 49, 64, 81]\n"
     ]
    }
   ],
   "source": [
    "b = lambda: (x ** 2 for x in range(10))\n",
    "\n",
    "gen = b()\n",
    "\n",
    "print(list(gen))"
   ]
  }
 ],
 "metadata": {
  "kernelspec": {
   "display_name": "Python 3",
   "language": "python",
   "name": "python3"
  },
  "language_info": {
   "codemirror_mode": {
    "name": "ipython",
    "version": 3
   },
   "file_extension": ".py",
   "mimetype": "text/x-python",
   "name": "python",
   "nbconvert_exporter": "python",
   "pygments_lexer": "ipython3",
   "version": "3.11.5"
  }
 },
 "nbformat": 4,
 "nbformat_minor": 5
}
