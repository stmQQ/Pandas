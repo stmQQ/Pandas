{
 "cells": [
  {
   "cell_type": "markdown",
   "id": "c1b5b4cf",
   "metadata": {},
   "source": [
    "## Модуль itertools\n",
    "\n",
    "Стандартный библиотечный модуль itertools содержит набор генераторов\n",
    "для многих общеупотребительных алгоритмов.\n",
    "\n",
    "[Docs](https://docs.python.org/3/library/itertools.html)"
   ]
  },
  {
   "cell_type": "markdown",
   "id": "61f24e16",
   "metadata": {},
   "source": [
    "### chain(*iterables)\n",
    "Генерирует последовательность сцепленных итераторов.\n",
    "После исчерпания элементов в первом итераторе возвращаются элементы из второго и т. д."
   ]
  },
  {
   "cell_type": "code",
   "execution_count": 4,
   "id": "b3531d08",
   "metadata": {},
   "outputs": [
    {
     "data": {
      "text/plain": [
       "[1, 2, 3, 4, 5, 6]"
      ]
     },
     "execution_count": 4,
     "metadata": {},
     "output_type": "execute_result"
    }
   ],
   "source": [
    "import itertools\n",
    "\n",
    "list(itertools.chain((1, 2, 3), (4, 5, 6)))"
   ]
  },
  {
   "cell_type": "markdown",
   "id": "e37a9bf2",
   "metadata": {},
   "source": [
    "### batched(iterable, chunk_size)\n",
    "Разбивает итерируемый объект на пакеты (батчи) фиксированного размера.\n",
    "Последний пакет может быть меньше других, если элементов не хватает."
   ]
  },
  {
   "cell_type": "code",
   "execution_count": 5,
   "id": "4ada11c0",
   "metadata": {},
   "outputs": [
    {
     "data": {
      "text/plain": [
       "[('A', 'B'), ('C', 'D'), ('E', 'F'), ('G',)]"
      ]
     },
     "execution_count": 5,
     "metadata": {},
     "output_type": "execute_result"
    }
   ],
   "source": [
    "list(itertools.batched('ABCDEFG', 2))"
   ]
  },
  {
   "cell_type": "markdown",
   "id": "5d9ffb29",
   "metadata": {},
   "source": [
    "### compress(data, selectors)\n",
    "Фильтрует элементы итерируемого объекта с помощью маски (последовательности булевых значений)."
   ]
  },
  {
   "cell_type": "code",
   "execution_count": 7,
   "id": "982fe1d9",
   "metadata": {},
   "outputs": [
    {
     "data": {
      "text/plain": [
       "['A', 'C', 'D']"
      ]
     },
     "execution_count": 7,
     "metadata": {},
     "output_type": "execute_result"
    }
   ],
   "source": [
    "list(itertools.compress('ABCDEF', [1, 0, 1, 1, 0, 0]))"
   ]
  },
  {
   "cell_type": "markdown",
   "id": "c6e43425",
   "metadata": {},
   "source": [
    "### dropwhile(predicate, seq)\n",
    "Пропускает элементы итерируемого объекта пока условие истинно, а затем возвращает все остальные элементы."
   ]
  },
  {
   "cell_type": "code",
   "execution_count": 8,
   "id": "fc638485",
   "metadata": {},
   "outputs": [
    {
     "data": {
      "text/plain": [
       "[5, 2, 4]"
      ]
     },
     "execution_count": 8,
     "metadata": {},
     "output_type": "execute_result"
    }
   ],
   "source": [
    "list(itertools.dropwhile(lambda x: x < 5, [1, 3, 5, 2, 4]))"
   ]
  },
  {
   "cell_type": "markdown",
   "id": "8ebe1c42",
   "metadata": {},
   "source": [
    "### filterfalse(predicate, seq)\n",
    "Противоположность встроенному filter(). Возвращает все значения, не прошедшие по условию."
   ]
  },
  {
   "cell_type": "code",
   "execution_count": 9,
   "id": "eae758c9",
   "metadata": {},
   "outputs": [
    {
     "data": {
      "text/plain": [
       "[5, 6]"
      ]
     },
     "execution_count": 9,
     "metadata": {},
     "output_type": "execute_result"
    }
   ],
   "source": [
    "list(itertools.filterfalse(lambda x: x < 5, [1, 4, 3, 5, 6, 2]))"
   ]
  },
  {
   "cell_type": "markdown",
   "id": "1d5996c6",
   "metadata": {},
   "source": [
    "### groupby(iterable, predicate)\n",
    "Группирует последовательные элементы итерируемого объекта по ключу.\n",
    "Группирует **только последовательные** одинаковые элементы.\n",
    "Требует предварительной сортировки для группировки всех одинаковых элементов."
   ]
  },
  {
   "cell_type": "code",
   "execution_count": 14,
   "id": "592398a3",
   "metadata": {},
   "outputs": [
    {
     "data": {
      "text/plain": [
       "[(1, [1, 1]), (2, [2, 2, 2]), (3, [3]), (1, [1, 1])]"
      ]
     },
     "execution_count": 14,
     "metadata": {},
     "output_type": "execute_result"
    }
   ],
   "source": [
    "data = [1, 1, 2, 2, 2, 3, 1, 1]\n",
    "grouped = [(key, list(group)) for key, group in itertools.groupby(data)]\n",
    "\n",
    "grouped\n"
   ]
  },
  {
   "cell_type": "code",
   "execution_count": 17,
   "id": "dc636076",
   "metadata": {},
   "outputs": [
    {
     "data": {
      "text/plain": [
       "[(False, [-1]), (True, [2]), (False, [-2]), (True, [3, 1]), (False, [-3])]"
      ]
     },
     "execution_count": 17,
     "metadata": {},
     "output_type": "execute_result"
    }
   ],
   "source": [
    "data = [-1, 2, -2, 3, 1, -3]\n",
    "\n",
    "grouped = [\n",
    "    (key, list(group)) \n",
    "    for key, group \n",
    "    in itertools.groupby(data, lambda x: x > 0)\n",
    "    ]\n",
    "\n",
    "grouped"
   ]
  },
  {
   "cell_type": "code",
   "execution_count": null,
   "id": "f499b7dd",
   "metadata": {},
   "outputs": [
    {
     "data": {
      "text/plain": [
       "[('A', [{'name': 'Alice', 'grade': 'A'}, {'name': 'Charlie', 'grade': 'A'}]),\n",
       " ('B', [{'name': 'Bob', 'grade': 'B'}, {'name': 'David', 'grade': 'B'}])]"
      ]
     },
     "execution_count": 22,
     "metadata": {},
     "output_type": "execute_result"
    }
   ],
   "source": [
    "students = [\n",
    "    {'name': 'Alice', 'grade': 'A'},\n",
    "    {'name': 'Bob', 'grade': 'B'},\n",
    "    {'name': 'Charlie', 'grade': 'A'},\n",
    "    {'name': 'David', 'grade': 'B'}\n",
    "]\n",
    "\n",
    "# Сначала сортируем!\n",
    "sorted_students = sorted(students, key=lambda x: x['grade'])\n",
    "grouped = [(key, list(group)) \n",
    "           for key, group \n",
    "           in itertools.groupby(sorted_students, key=lambda x: x['grade'])]\n",
    "\n",
    "grouped"
   ]
  },
  {
   "cell_type": "markdown",
   "id": "e9b74f17",
   "metadata": {},
   "source": [
    "### islice(seq, [start,] stop [,step])\n",
    "Создает итератор, который возвращает выбранные элементы из итерируемого объекта (аналог срезов для последовательностей). Используется вместо срезов для работы с бесконечными генераторами, обработки файла частями."
   ]
  },
  {
   "cell_type": "code",
   "execution_count": null,
   "id": "96ff9c61",
   "metadata": {},
   "outputs": [
    {
     "data": {
      "text/plain": [
       "[2, 3, 4]"
      ]
     },
     "execution_count": 26,
     "metadata": {},
     "output_type": "execute_result"
    }
   ],
   "source": [
    "def infinite_numbers():\n",
    "    n = 0\n",
    "    while True:\n",
    "        yield n\n",
    "        n += 1\n",
    "\n",
    "first_5 = list(itertools.islice(infinite_numbers(), 5))\n",
    "\n",
    "first_5"
   ]
  },
  {
   "cell_type": "markdown",
   "id": "b64dde46",
   "metadata": {},
   "source": [
    "### starmap(func, seq)\n",
    "Применяет функцию к аргументам, извлеченным из итерируемого объекта. Идеален для: работы с предварительно упакованными аргументами, обработки табличных данных, применения функций к наборам параметров."
   ]
  },
  {
   "cell_type": "code",
   "execution_count": null,
   "id": "56c57d82",
   "metadata": {},
   "outputs": [
    {
     "name": "stdout",
     "output_type": "stream",
     "text": [
      "[8, 1024]\n",
      "[8, 1024]\n"
     ]
    }
   ],
   "source": [
    "data = [(2, 3), (4, 5)]\n",
    "\n",
    "# map - передает кортеж как один аргумент\n",
    "result_map = list(map(lambda x: pow(x[0], x[1]), data))\n",
    "\n",
    "print(result_map)\n",
    "# starmap - распаковывает кортеж в аргументы\n",
    "result_starmap = list(itertools.starmap(pow, data))\n",
    "print(result_starmap)"
   ]
  },
  {
   "cell_type": "markdown",
   "id": "1f0d9ad1",
   "metadata": {},
   "source": [
    "### takewhile(predicate, seq)\n",
    "Возвращает элементы итерируемого объекта пока условие истинно, а затем останавливается (противоположность dropwhile)."
   ]
  },
  {
   "cell_type": "markdown",
   "id": "a3457529",
   "metadata": {},
   "source": [
    "### tee(iterable, count)\n",
    "Создает несколько **независимых** итераторов из одного итерируемого объекта (клонирование итератора). Хранит только разницу между самыми быстрыми и медленными итераторами.\n",
    "Позволяет многократно проходить по генератору.\n",
    "\n",
    "*Нельзя использовать исходный генератор после tee*"
   ]
  },
  {
   "cell_type": "code",
   "execution_count": 29,
   "id": "f0d5f909",
   "metadata": {},
   "outputs": [
    {
     "name": "stdout",
     "output_type": "stream",
     "text": [
      "[1, 2, 3, 4, 5]\n",
      "[1, 2, 3, 4, 5]\n",
      "[1, 2, 3, 4, 5]\n"
     ]
    }
   ],
   "source": [
    "data = [1, 2, 3, 4, 5]\n",
    "iter1, iter2, iter3 = itertools.tee(data, 3)\n",
    "\n",
    "print(list(iter1))  # [1, 2, 3, 4, 5]\n",
    "print(list(iter2))  # [1, 2, 3, 4, 5]\n",
    "print(list(iter3))  # [1, 2, 3, 4, 5]"
   ]
  },
  {
   "cell_type": "markdown",
   "id": "b0a8146f",
   "metadata": {},
   "source": [
    "### product(p, q, ..., repeat)\n",
    "Вычисляет декартово произведение входных итерируемых объектов (все возможные комбинации элементов)."
   ]
  },
  {
   "cell_type": "code",
   "execution_count": 31,
   "id": "6532454e",
   "metadata": {},
   "outputs": [
    {
     "data": {
      "text/plain": [
       "[('A', 1, True),\n",
       " ('A', 1, False),\n",
       " ('A', 2, True),\n",
       " ('A', 2, False),\n",
       " ('B', 1, True),\n",
       " ('B', 1, False),\n",
       " ('B', 2, True),\n",
       " ('B', 2, False)]"
      ]
     },
     "execution_count": 31,
     "metadata": {},
     "output_type": "execute_result"
    }
   ],
   "source": [
    "list1 = ['A', 'B']\n",
    "list2 = [1, 2]\n",
    "list3 = [True, False]\n",
    "\n",
    "list(itertools.product(list1, list2, list3))"
   ]
  },
  {
   "cell_type": "markdown",
   "id": "5ad4458b",
   "metadata": {},
   "source": [
    "### combinations(p, r)\n",
    "Генерирует все возможные комбинации элементов итерируемого объекта длины **r** (без учета повторяющихся элементов и порядка)."
   ]
  },
  {
   "cell_type": "code",
   "execution_count": 40,
   "id": "d2fbabd7",
   "metadata": {},
   "outputs": [
    {
     "data": {
      "text/plain": [
       "[('A', 'B'), ('A', 'C'), ('B', 'C')]"
      ]
     },
     "execution_count": 40,
     "metadata": {},
     "output_type": "execute_result"
    }
   ],
   "source": [
    "data = ['A', 'B', 'C']\n",
    "\n",
    "list(itertools.combinations(data, 2))"
   ]
  },
  {
   "cell_type": "markdown",
   "id": "f7bea828",
   "metadata": {},
   "source": [
    "### combinations_with_replacement(iterable, r)\n",
    "Генерирует все возможные комбинации элементов итерируемого объекта длины **r** (с учетом повторяющихся элементов и порядка)."
   ]
  },
  {
   "cell_type": "code",
   "execution_count": 43,
   "id": "3bdd9028",
   "metadata": {},
   "outputs": [
    {
     "data": {
      "text/plain": [
       "[('A', 'A'), ('A', 'B'), ('A', 'C'), ('B', 'B'), ('B', 'C'), ('C', 'C')]"
      ]
     },
     "execution_count": 43,
     "metadata": {},
     "output_type": "execute_result"
    }
   ],
   "source": [
    "data = ['A', 'B', 'C']\n",
    "\n",
    "list(itertools.combinations_with_replacement(data, 2))"
   ]
  },
  {
   "cell_type": "markdown",
   "id": "0995d1f1",
   "metadata": {},
   "source": [
    "### permutations(p, q, ...)\n",
    "Генерирует все возможные перестановки элементов итерируемого объекта (без повторяющихся элементов, разный порядок)"
   ]
  },
  {
   "cell_type": "code",
   "execution_count": 32,
   "id": "5ff39e6a",
   "metadata": {},
   "outputs": [
    {
     "data": {
      "text/plain": [
       "[('A', 'B', 'C'),\n",
       " ('A', 'C', 'B'),\n",
       " ('B', 'A', 'C'),\n",
       " ('B', 'C', 'A'),\n",
       " ('C', 'A', 'B'),\n",
       " ('C', 'B', 'A')]"
      ]
     },
     "execution_count": 32,
     "metadata": {},
     "output_type": "execute_result"
    }
   ],
   "source": [
    "data = ['A', 'B', 'C']\n",
    "\n",
    "list(itertools.permutations(data))"
   ]
  }
 ],
 "metadata": {
  "kernelspec": {
   "display_name": "venv",
   "language": "python",
   "name": "python3"
  },
  "language_info": {
   "codemirror_mode": {
    "name": "ipython",
    "version": 3
   },
   "file_extension": ".py",
   "mimetype": "text/x-python",
   "name": "python",
   "nbconvert_exporter": "python",
   "pygments_lexer": "ipython3",
   "version": "3.13.6"
  }
 },
 "nbformat": 4,
 "nbformat_minor": 5
}
