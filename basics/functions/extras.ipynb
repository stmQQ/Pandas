{
 "cells": [
  {
   "cell_type": "markdown",
   "id": "b6cee752",
   "metadata": {},
   "source": [
    "## Здесь будут различные оптимизончики и интересные реализации для функций\n"
   ]
  },
  {
   "cell_type": "markdown",
   "id": "f489661e",
   "metadata": {},
   "source": [
    "### Определить, является ли число простым\n",
    "Стандарт - использовать sympy.isprime()"
   ]
  },
  {
   "cell_type": "code",
   "execution_count": 1,
   "id": "3ec2f12e",
   "metadata": {},
   "outputs": [
    {
     "name": "stdout",
     "output_type": "stream",
     "text": [
      "True\n",
      "True\n",
      "False\n",
      "False\n",
      "False\n"
     ]
    }
   ],
   "source": [
    "def isprime(n: int) -> bool:\n",
    "    if n <= 1:\n",
    "        return False\n",
    "    if n <= 3:\n",
    "        return True\n",
    "    if n % 2 == 0 or n % 3 == 0:\n",
    "        return False\n",
    "    \n",
    "    i = 5\n",
    "    while i * i <= n:\n",
    "        if n % i == 0 or n % (i+2) == 0:\n",
    "            return False\n",
    "        i += 6\n",
    "\n",
    "    return True\n",
    "\n",
    "\n",
    "print(isprime(2))\n",
    "print(isprime(17))\n",
    "print(isprime(25))\n",
    "print(isprime(100))\n",
    "print(isprime(1))"
   ]
  }
 ],
 "metadata": {
  "kernelspec": {
   "display_name": "venv",
   "language": "python",
   "name": "python3"
  },
  "language_info": {
   "codemirror_mode": {
    "name": "ipython",
    "version": 3
   },
   "file_extension": ".py",
   "mimetype": "text/x-python",
   "name": "python",
   "nbconvert_exporter": "python",
   "pygments_lexer": "ipython3",
   "version": "3.13.6"
  }
 },
 "nbformat": 4,
 "nbformat_minor": 5
}
