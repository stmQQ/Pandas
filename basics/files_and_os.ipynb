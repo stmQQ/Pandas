{
 "cells": [
  {
   "cell_type": "markdown",
   "id": "aacf9f79",
   "metadata": {},
   "source": [
    "## Работа с файлами в Python\n",
    "\n",
    "*Для анализа данных, как правило, используются такие высокоуровневые средства, как функция `pandas.read_csv()`.*"
   ]
  },
  {
   "cell_type": "markdown",
   "id": "01867162",
   "metadata": {},
   "source": [
    "### Функция `open`\n",
    "\n",
    "Для открытия файлов в режиме чтения и записи используется функция `open`, которая принимает относительный или абсолютный путь.\n",
    "\n",
    "```\n",
    "path = 'examples/segismundo.txt'\n",
    "f = open(path, encoding='utf-8')\n",
    "```\n",
    "\n",
    "По умолчанию файл открывается только для чтения - в режиме `'r'`. Описатель файла `f` можно рассматривать как список строк.\n",
    "\n",
    "У строк, прочитанный из файлов, сохраняется признак конца строки (EOL), поэтому часто можновстретить код, который их удаляет:\n",
    "\n",
    "`lines = [x.rstrip() for x in open(path, encoding='utf-8')]`\n",
    "\n",
    "Если для создания объекта файла использовалась функция `open`, то следует явно закрывать файл при помощи `f.close()`.\n",
    "Упростить эту процедуру можно с помощью конструкции `with`:\n",
    "```\n",
    "with open(path) as f:\n",
    "    lines = [x.rstrip() for x in f]\n",
    "```\n",
    "\n",
    "Если бы мы написали `f = open(path, 'w')`, то был бы создан **новый** файл examples/ segismundo.txt (будьте осторожны!), а **старый был бы перезаписан**. Существует также режим `'x'`, в котором создается допускающий запись файл, но лишь в том случае, если его еще не существует, а в противном случае возбуждается исключение.\n",
    "\n",
    "**Все режимы открытия файла**\n",
    "| Режим | Описание |\n",
    "|:-----:|:---------|\n",
    "| r | Режим чтения |\n",
    "| w | Режим записи. Создается новый файл, старый с тем же именем удаляется |\n",
    "| x | Режим записи. Создается новый файл, но возникает ошибка, если файл с таким же именем существует|\n",
    "| a | Дописывает в конец существующего файла (если файл не существует, он создается) |\n",
    " r+ | Чтение и запись |\n",
    "| b | Уточнение режима для двоичных файлов 'rb' или 'wb' |\n",
    "| t | Текстовый режим. Подразумевается по умолчанию |\n",
    "\n",
    "При работе с файлами чаже всего используются методы `read`, `seek`, `tell`.\n",
    "Метод `read` возвращает определенное число символов из файла. Если файл открыт в двоичном режиме, то под символами понимаются байты."
   ]
  },
  {
   "cell_type": "code",
   "execution_count": 4,
   "id": "f13d718e",
   "metadata": {},
   "outputs": [
    {
     "data": {
      "text/plain": [
       "['Sueña el rico en su riqueza,',\n",
       " 'que más cuidados le ofrece;',\n",
       " 'sueña el pobre que padece,',\n",
       " 'su miseria y su pobreza;',\n",
       " 'sueña el que a medrar empieza,',\n",
       " 'sueña el que afana y pretende,',\n",
       " 'sueña el que agravia y ofende,',\n",
       " 'y en el mundo, en conclusión,',\n",
       " 'todos sueñan lo que son,',\n",
       " 'aunque ninguno lo entiende.']"
      ]
     },
     "execution_count": 4,
     "metadata": {},
     "output_type": "execute_result"
    }
   ],
   "source": [
    "path = 'datasets/files_and_os_poem.txt'\n",
    "\n",
    "lines = [x.rstrip() for x in open(path, encoding='utf-8')]\n",
    "\n",
    "lines"
   ]
  },
  {
   "cell_type": "code",
   "execution_count": 6,
   "id": "b3fd7eca",
   "metadata": {},
   "outputs": [
    {
     "data": {
      "text/plain": [
       "'Sueña el r'"
      ]
     },
     "execution_count": 6,
     "metadata": {},
     "output_type": "execute_result"
    }
   ],
   "source": [
    "f1 = open(path, encoding='utf-8')\n",
    "\n",
    "f1.read(10)"
   ]
  },
  {
   "cell_type": "markdown",
   "id": "61085481",
   "metadata": {},
   "source": [
    "Метод `read` продвигает указатель файла вперед на количество прочитанных байтов. Метод `tell` сообщает текущую позицию:"
   ]
  },
  {
   "cell_type": "code",
   "execution_count": 7,
   "id": "c6e8806f",
   "metadata": {},
   "outputs": [
    {
     "data": {
      "text/plain": [
       "11"
      ]
     },
     "execution_count": 7,
     "metadata": {},
     "output_type": "execute_result"
    }
   ],
   "source": [
    "f1.tell()"
   ]
  }
 ],
 "metadata": {
  "kernelspec": {
   "display_name": "venv",
   "language": "python",
   "name": "python3"
  },
  "language_info": {
   "codemirror_mode": {
    "name": "ipython",
    "version": 3
   },
   "file_extension": ".py",
   "mimetype": "text/x-python",
   "name": "python",
   "nbconvert_exporter": "python",
   "pygments_lexer": "ipython3",
   "version": "3.13.6"
  }
 },
 "nbformat": 4,
 "nbformat_minor": 5
}
