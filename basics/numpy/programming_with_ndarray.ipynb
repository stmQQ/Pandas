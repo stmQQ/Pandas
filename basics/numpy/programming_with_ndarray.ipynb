{
 "cells": [
  {
   "cell_type": "markdown",
   "id": "d6550c86",
   "metadata": {},
   "source": [
    "## Программирование на основе массивов\n",
    "С помощью массивов NumPy многие виды обработки данных можно записать очень крско, не прибегая к циклам. Такой способ обычно называют *векторизацией*."
   ]
  },
  {
   "cell_type": "markdown",
   "id": "66d6fcd8",
   "metadata": {},
   "source": [
    "В качестве простого примера предположим, что нужно вычислить функцию `sqrt(x^2 + y^2) на *регулярной сетке*. \n",
    "Регулярная сетка - это упорядоченная структура данных, где точки расположены **с постоянным шагом** по каждому измерению."
   ]
  },
  {
   "cell_type": "code",
   "execution_count": 1,
   "id": "ed5d8fb8",
   "metadata": {},
   "outputs": [],
   "source": [
    "import numpy as np\n",
    "\n",
    "rng = np.random.default_rng()"
   ]
  },
  {
   "cell_type": "code",
   "execution_count": 2,
   "id": "c37474b7",
   "metadata": {},
   "outputs": [
    {
     "data": {
      "text/plain": [
       "(array([[-5. , -4.9, -4.8, ...,  4.7,  4.8,  4.9],\n",
       "        [-5. , -4.9, -4.8, ...,  4.7,  4.8,  4.9],\n",
       "        [-5. , -4.9, -4.8, ...,  4.7,  4.8,  4.9],\n",
       "        ...,\n",
       "        [-5. , -4.9, -4.8, ...,  4.7,  4.8,  4.9],\n",
       "        [-5. , -4.9, -4.8, ...,  4.7,  4.8,  4.9],\n",
       "        [-5. , -4.9, -4.8, ...,  4.7,  4.8,  4.9]], shape=(100, 100)),\n",
       " array([[-5. , -5. , -5. , ..., -5. , -5. , -5. ],\n",
       "        [-4.9, -4.9, -4.9, ..., -4.9, -4.9, -4.9],\n",
       "        [-4.8, -4.8, -4.8, ..., -4.8, -4.8, -4.8],\n",
       "        ...,\n",
       "        [ 4.7,  4.7,  4.7, ...,  4.7,  4.7,  4.7],\n",
       "        [ 4.8,  4.8,  4.8, ...,  4.8,  4.8,  4.8],\n",
       "        [ 4.9,  4.9,  4.9, ...,  4.9,  4.9,  4.9]], shape=(100, 100)))"
      ]
     },
     "execution_count": 2,
     "metadata": {},
     "output_type": "execute_result"
    }
   ],
   "source": [
    "points = np.arange(-5, 5, 0.1) # 100 равностоящих точек\n",
    "xs, ys = np.meshgrid(points, points)\n",
    "xs, ys"
   ]
  },
  {
   "cell_type": "code",
   "execution_count": 3,
   "id": "40f6decc",
   "metadata": {},
   "outputs": [
    {
     "data": {
      "text/plain": [
       "array([[7.07106781, 7.00071425, 6.93108938, ..., 6.86221539, 6.93108938,\n",
       "        7.00071425],\n",
       "       [7.00071425, 6.92964646, 6.85930026, ..., 6.78969808, 6.85930026,\n",
       "        6.92964646],\n",
       "       [6.93108938, 6.85930026, 6.7882251 , ..., 6.71788657, 6.7882251 ,\n",
       "        6.85930026],\n",
       "       ...,\n",
       "       [6.86221539, 6.78969808, 6.71788657, ..., 6.64680374, 6.71788657,\n",
       "        6.78969808],\n",
       "       [6.93108938, 6.85930026, 6.7882251 , ..., 6.71788657, 6.7882251 ,\n",
       "        6.85930026],\n",
       "       [7.00071425, 6.92964646, 6.85930026, ..., 6.78969808, 6.85930026,\n",
       "        6.92964646]], shape=(100, 100))"
      ]
     },
     "execution_count": 3,
     "metadata": {},
     "output_type": "execute_result"
    }
   ],
   "source": [
    "z = np.sqrt(xs ** 2 + ys ** 2)\n",
    "z"
   ]
  },
  {
   "cell_type": "code",
   "execution_count": 4,
   "id": "e3c721d1",
   "metadata": {},
   "outputs": [
    {
     "data": {
      "text/plain": [
       "<matplotlib.colorbar.Colorbar at 0x21270020d70>"
      ]
     },
     "execution_count": 4,
     "metadata": {},
     "output_type": "execute_result"
    },
    {
     "data": {
      "image/png": "[encoded data removed]",
      "text/plain": [
       "<Figure size 640x480 with 2 Axes>"
      ]
     },
     "metadata": {},
     "output_type": "display_data"
    }
   ],
   "source": [
    "import matplotlib.pyplot as plt\n",
    "plt.title(\"График $\\\\sqrt{x^2 + y^2}$\")\n",
    "plt.imshow(z, cmap=plt.cm.gray, extent=[-5, 5, -5, 5])\n",
    "plt.colorbar()\n"
   ]
  },
  {
   "cell_type": "markdown",
   "id": "37343325",
   "metadata": {},
   "source": [
    "### Запись логических условий в виде операций с массивами\n",
    "Функция `np.where` - векторный вариант тернарного выражения `x if condition else y`. Пусть имеется булев массив и два массива значений:"
   ]
  },
  {
   "cell_type": "code",
   "execution_count": 5,
   "id": "750a147d",
   "metadata": {},
   "outputs": [],
   "source": [
    "xarr = np.linspace(1.1, 1.5, 5) # linspace включает крайнее значение stop\n",
    "yarr = np.linspace(2.1, 2.5, 5)\n",
    "cond = np.array([True, False, True, True, False])"
   ]
  },
  {
   "cell_type": "markdown",
   "id": "12eca6b8",
   "metadata": {},
   "source": [
    "Допустим, мы хотим брать значение из массива `xarr`, если соответственное значение в массиве `cond` равно `True`, а в противном случае - значение из `yarr`:"
   ]
  },
  {
   "cell_type": "code",
   "execution_count": 6,
   "id": "3c96b01c",
   "metadata": {},
   "outputs": [
    {
     "data": {
      "text/plain": [
       "array([1.1, 2.2, 1.3, 1.4, 2.5])"
      ]
     },
     "execution_count": 6,
     "metadata": {},
     "output_type": "execute_result"
    }
   ],
   "source": [
    "# Плохой код\n",
    "result = [(x if c else y) for x, y, c in zip(xarr, yarr, cond)]\n",
    "# Хороший код\n",
    "result = np.where(cond, xarr, yarr)\n",
    "\n",
    "result"
   ]
  },
  {
   "cell_type": "markdown",
   "id": "57106038",
   "metadata": {},
   "source": [
    "`np.where` может принимать в качестве второго и третьего аргументов не только массивы, но и скаляры:"
   ]
  },
  {
   "cell_type": "code",
   "execution_count": 7,
   "id": "d0a34f97",
   "metadata": {},
   "outputs": [
    {
     "name": "stdout",
     "output_type": "stream",
     "text": [
      "[[-1.10957656  1.47486697  1.32338306  0.38271694]\n",
      " [ 0.47000372  0.86915957  2.02568055 -0.99142095]\n",
      " [ 1.55241154  0.92051004 -1.21819308 -2.27270056]\n",
      " [-0.22240815  1.28093795 -1.51563248  1.26676519]]\n",
      "[[-2  2  2  2]\n",
      " [ 2  2  2 -2]\n",
      " [ 2  2 -2 -2]\n",
      " [-2  2 -2  2]]\n"
     ]
    }
   ],
   "source": [
    "arr = rng.standard_normal((4, 4))\n",
    "print(arr)\n",
    "print(np.where(arr > 0, 2, -2))"
   ]
  },
  {
   "cell_type": "markdown",
   "id": "101f6fd9",
   "metadata": {},
   "source": [
    "### Математические и статические операции\n",
    "Среди методов класса массива имеются математические функции, которые вычисляют статистики массива в целом или данных вдоль одной оси. Выполнить *редукцию* типа `sum`, `mean` или стандартного отклонения `std` можно как с помощью метода экземпляра массива, таки функцией на верхнем уровне NumPy. При использовании таких функций, как `numpy.sum`, агрегируемый массив следует передавать в первом аргументе."
   ]
  },
  {
   "cell_type": "code",
   "execution_count": 8,
   "id": "5d28aff0",
   "metadata": {},
   "outputs": [
    {
     "data": {
      "text/plain": [
       "array([[5, 7, 3, 2],\n",
       "       [7, 1, 2, 1],\n",
       "       [2, 2, 2, 2],\n",
       "       [2, 8, 1, 6],\n",
       "       [5, 3, 6, 6]])"
      ]
     },
     "execution_count": 8,
     "metadata": {},
     "output_type": "execute_result"
    }
   ],
   "source": [
    "arr = np.array([[5, 7, 3, 2],\n",
    "       [7, 1, 2, 1],\n",
    "       [2, 2, 2, 2],\n",
    "       [2, 8, 1, 6],\n",
    "       [5, 3, 6, 6]])\n",
    "\n",
    "arr"
   ]
  },
  {
   "cell_type": "code",
   "execution_count": 9,
   "id": "03a485cd",
   "metadata": {},
   "outputs": [
    {
     "name": "stdout",
     "output_type": "stream",
     "text": [
      "3.65\n",
      "3.65\n",
      "73\n"
     ]
    }
   ],
   "source": [
    "print(arr.mean())\n",
    "print(np.mean(arr))\n",
    "print(arr.sum())"
   ]
  },
  {
   "cell_type": "markdown",
   "id": "e1d5fb73",
   "metadata": {},
   "source": [
    "Функции типа `sum` и `mean` принимают необязательный аргумент `axis`, при наличии которого вычисляется статистика по заданной оси, и в результате порождается массив на единицу меньшей размерности:"
   ]
  },
  {
   "cell_type": "code",
   "execution_count": 10,
   "id": "623283b4",
   "metadata": {},
   "outputs": [
    {
     "name": "stdout",
     "output_type": "stream",
     "text": [
      "[4.25 2.75 2.   4.25 5.  ]\n",
      "[21 21 14 17]\n"
     ]
    }
   ],
   "source": [
    "print(arr.mean(axis=1))\n",
    "print(arr.sum(axis=0))"
   ]
  },
  {
   "cell_type": "markdown",
   "id": "dd2d539a",
   "metadata": {},
   "source": [
    "Здесь `arr.mean(axis=1)` означает «вычислить среднее по столбцам», а  `arr.sum(axis=0)` – «вычислить сумму по строкам».\n"
   ]
  },
  {
   "cell_type": "markdown",
   "id": "077eb155",
   "metadata": {},
   "source": [
    "Другие методы, например `cumsum` и `cumprod` порождают массивы нарастающих итогов:"
   ]
  },
  {
   "cell_type": "code",
   "execution_count": 11,
   "id": "1d2a4327",
   "metadata": {},
   "outputs": [
    {
     "name": "stdout",
     "output_type": "stream",
     "text": [
      "[ 1  3  6 10 15 21 28]\n",
      "[   1    2    6   24  120  720 5040]\n"
     ]
    }
   ],
   "source": [
    "arr = np.arange(1, 8)\n",
    "print(arr.cumsum())\n",
    "print(arr.cumprod())"
   ]
  },
  {
   "cell_type": "markdown",
   "id": "3d289e1b",
   "metadata": {},
   "source": [
    "Для многомерных массивов функция cumsum и другие функции с нарастающим итогом возвращают массив того же размера, элементами которого являются частичные агрегаты по указанной оси, вычисленные для каждого среза меньшей размерности:"
   ]
  },
  {
   "cell_type": "code",
   "execution_count": 12,
   "id": "38bbd55f",
   "metadata": {},
   "outputs": [
    {
     "name": "stdout",
     "output_type": "stream",
     "text": [
      "[[ 0  1  2]\n",
      " [ 3  5  7]\n",
      " [ 9 12 15]]\n",
      "[[ 0  1  3]\n",
      " [ 3  7 12]\n",
      " [ 6 13 21]]\n"
     ]
    }
   ],
   "source": [
    "arr = np.array([\n",
    "    [0, 1, 2], \n",
    "    [3, 4, 5], \n",
    "    [6, 7, 8]\n",
    "    ])\n",
    "\n",
    "print(arr.cumsum(axis=0))\n",
    "print(arr.cumsum(axis=1))"
   ]
  },
  {
   "cell_type": "markdown",
   "id": "16076e93",
   "metadata": {},
   "source": [
    "### Методы булевых массивов\n",
    "Булевы значения в массивах приводятся к 1 и 0. Поэтому функция `sum` часто используется для подсчета значений `True` в булевом массиве:"
   ]
  },
  {
   "cell_type": "code",
   "execution_count": 13,
   "id": "95d2aa21",
   "metadata": {},
   "outputs": [
    {
     "name": "stdout",
     "output_type": "stream",
     "text": [
      "-10 -9 -8 -7 -6 -5 -4 -3 -2 -1 0 1 2 3 4 5 6 7 8 9\n",
      "9\n",
      "11\n"
     ]
    }
   ],
   "source": [
    "arr = np.arange(-10, 10)\n",
    "print(*arr)\n",
    "print((arr > 0).sum())\n",
    "print((arr <= 0).sum())"
   ]
  },
  {
   "cell_type": "markdown",
   "id": "11828cda",
   "metadata": {},
   "source": [
    "Методы `any` и `all` особенно полезны в случае булевых массивов. Метод `any` проверяет, есть ли хоть одно значение `True`, а `all` - есть ли хоть одно `False`:"
   ]
  },
  {
   "cell_type": "code",
   "execution_count": 14,
   "id": "416dda94",
   "metadata": {},
   "outputs": [
    {
     "name": "stdout",
     "output_type": "stream",
     "text": [
      "True\n",
      "False\n"
     ]
    }
   ],
   "source": [
    "bools = np.array([False, True, False, False])\n",
    "print(bools.any())\n",
    "print(bools.all())"
   ]
  },
  {
   "cell_type": "markdown",
   "id": "07d6873a",
   "metadata": {},
   "source": [
    "### Сортировка\n",
    "Как и встроенные в Python списки, массивы NumPy можно сортировать на месте методом `sort`:"
   ]
  },
  {
   "cell_type": "code",
   "execution_count": 15,
   "id": "ea94e564",
   "metadata": {},
   "outputs": [
    {
     "name": "stdout",
     "output_type": "stream",
     "text": [
      "[-0.81262575  0.20814306  0.54291934 -0.01793892  0.12931091  0.76442798]\n",
      "[-0.81262575 -0.01793892  0.12931091  0.20814306  0.54291934  0.76442798]\n"
     ]
    }
   ],
   "source": [
    "arr = rng.standard_normal(6)\n",
    "print(arr)\n",
    "arr.sort()\n",
    "print(arr)"
   ]
  },
  {
   "cell_type": "markdown",
   "id": "9a27253d",
   "metadata": {},
   "source": [
    "Любой одномерный участок многомерного массива можно отсортировать на месте, передав методу `sort` номер оси:"
   ]
  },
  {
   "cell_type": "code",
   "execution_count": 16,
   "id": "459bd880",
   "metadata": {},
   "outputs": [
    {
     "name": "stdout",
     "output_type": "stream",
     "text": [
      "[[-0.1490018  -0.50670036 -0.44493492]\n",
      " [-0.56691067 -1.32697923 -1.30670319]\n",
      " [-1.41940343 -0.71405695 -0.84217161]\n",
      " [ 0.81101656 -0.67159699 -0.51828876]\n",
      " [ 0.97920103 -0.89670812 -1.26548109]] \n",
      "\n",
      "[[-1.41940343 -1.32697923 -1.30670319]\n",
      " [-0.56691067 -0.89670812 -1.26548109]\n",
      " [-0.1490018  -0.71405695 -0.84217161]\n",
      " [ 0.81101656 -0.67159699 -0.51828876]\n",
      " [ 0.97920103 -0.50670036 -0.44493492]] \n",
      "\n",
      "[[-1.41940343 -1.32697923 -1.30670319]\n",
      " [-1.26548109 -0.89670812 -0.56691067]\n",
      " [-0.84217161 -0.71405695 -0.1490018 ]\n",
      " [-0.67159699 -0.51828876  0.81101656]\n",
      " [-0.50670036 -0.44493492  0.97920103]]\n"
     ]
    }
   ],
   "source": [
    "arr = rng.standard_normal((5, 3))\n",
    "print(arr, '\\n')\n",
    "arr.sort(axis=0)\n",
    "print(arr, '\\n')\n",
    "arr.sort(axis=1)\n",
    "print(arr)"
   ]
  },
  {
   "cell_type": "markdown",
   "id": "bed7b6ce",
   "metadata": {},
   "source": [
    "Метод верхнего уровня `numpy.sort` возвращает отсортированную копию массива (как встроенная функция `sorted`), а не сортирует массив на месте."
   ]
  },
  {
   "cell_type": "code",
   "execution_count": 17,
   "id": "07e77f96",
   "metadata": {},
   "outputs": [
    {
     "name": "stdout",
     "output_type": "stream",
     "text": [
      "[-10  -3   0   1   5   7]\n"
     ]
    }
   ],
   "source": [
    "arr2 = np.array([5, -10, 7, 1, 0, -3])\n",
    "sorted_arr2 = np.sort(arr2)\n",
    "print(sorted_arr2)"
   ]
  },
  {
   "cell_type": "markdown",
   "id": "a8f95ea8",
   "metadata": {},
   "source": [
    "### Устранение дубликатов и другие теоретико-множественные операции\n",
    "В NumPy имеются основные теоретико-множественные операции для одномерных массивов. Самой употребительной является `numpy.unique`, возвращающая отсортированное множество уникальных значений в массиве:"
   ]
  },
  {
   "cell_type": "code",
   "execution_count": 18,
   "id": "48ee92aa",
   "metadata": {},
   "outputs": [
    {
     "data": {
      "text/plain": [
       "array(['Bob', 'Joe', 'Will'], dtype='<U4')"
      ]
     },
     "execution_count": 18,
     "metadata": {},
     "output_type": "execute_result"
    }
   ],
   "source": [
    "names = np.array([\"Bob\", \"Will\", \"Joe\", \"Bob\", \"Will\", \"Joe\", \"Joe\"])\n",
    "np.unique(names)"
   ]
  },
  {
   "cell_type": "code",
   "execution_count": 19,
   "id": "9737f326",
   "metadata": {},
   "outputs": [
    {
     "data": {
      "text/plain": [
       "array([1, 2, 3, 4])"
      ]
     },
     "execution_count": 19,
     "metadata": {},
     "output_type": "execute_result"
    }
   ],
   "source": [
    "ints = np.array([3, 3, 3, 2, 2, 1, 1, 4, 4])\n",
    "np.unique(ints)"
   ]
  },
  {
   "cell_type": "markdown",
   "id": "8ff99dc4",
   "metadata": {},
   "source": [
    "Функция `numpy.isin` проверяет, присутствуют ли значения из одного массива в другом, и возвращает булев массив:"
   ]
  },
  {
   "cell_type": "code",
   "execution_count": 20,
   "id": "c1d61071",
   "metadata": {},
   "outputs": [
    {
     "data": {
      "text/plain": [
       "array([ True, False, False,  True,  True, False,  True])"
      ]
     },
     "execution_count": 20,
     "metadata": {},
     "output_type": "execute_result"
    }
   ],
   "source": [
    "values = np.array([6, 0, 0, 3, 2, 5, 6])\n",
    "np.isin(values, [2, 3, 6])"
   ]
  },
  {
   "cell_type": "markdown",
   "id": "c9b63f16",
   "metadata": {},
   "source": [
    "Список теоретико-множественных функций:\n",
    "| Метод | Описание |\n",
    "| :---- | :------- |\n",
    "| unique(x) | Вычисляет отсортированное множество уникальных элементов |\n",
    "| intersect1d(x, y) | Вычисляет отсортированное множество элементов, общих для `x` и `y` |\n",
    "| union1d(x, y)  | Вычисляет отсортированное объединение элементов `x` и `y` |\n",
    "| isin(x, y) | Вычисляет булев массив, показывающий какие элементы `x` встречаются в `y` |\n",
    "| setdiff1d(x, y) | Вычисляет равзность множеств, т.е. элементы, принадлежащие `x`, но не принадлежащие `y` |\n",
    "| setxor1d(x, y) | Симметричная разность множеств; элементы, принадлежащие одному из множеств, но не обоим сразу |"
   ]
  },
  {
   "cell_type": "markdown",
   "id": "83f939c7",
   "metadata": {},
   "source": [
    "### Линейная алгебра\n",
    "Линейно-алгебраические операции - умножение и разложение матриц, вычисление определителей и другие - важная часть любой библиотеки для работы с массивами. В NumPy применение оператора `*` к двум двумерным массивам вычисляет **поэлементное**, а не **матричное** произведение. А для перемножения матриц имеется функция `dot` - как в виде метода массива, так и функции высшего уровня."
   ]
  },
  {
   "cell_type": "code",
   "execution_count": 21,
   "id": "eb372573",
   "metadata": {},
   "outputs": [
    {
     "data": {
      "text/plain": [
       "(array([[1, 2, 3],\n",
       "        [4, 5, 6]]),\n",
       " array([[ 6, 23],\n",
       "        [-1,  7],\n",
       "        [ 8,  9]]))"
      ]
     },
     "execution_count": 21,
     "metadata": {},
     "output_type": "execute_result"
    }
   ],
   "source": [
    "x = np.array([[1, 2, 3], [4, 5, 6]])\n",
    "y = np.array([[6, 23], [-1, 7], [8, 9]])\n",
    "\n",
    "x, y"
   ]
  },
  {
   "cell_type": "code",
   "execution_count": 22,
   "id": "1161866c",
   "metadata": {},
   "outputs": [
    {
     "name": "stdout",
     "output_type": "stream",
     "text": [
      "[[ 28  64]\n",
      " [ 67 181]]\n",
      "[[ 28  64]\n",
      " [ 67 181]]\n"
     ]
    }
   ],
   "source": [
    "print(x.dot(y))\n",
    "print(np.dot(x, y))"
   ]
  },
  {
   "cell_type": "code",
   "execution_count": 23,
   "id": "1a0dbb62",
   "metadata": {},
   "outputs": [
    {
     "data": {
      "text/plain": [
       "array([ 6., 15.])"
      ]
     },
     "execution_count": 23,
     "metadata": {},
     "output_type": "execute_result"
    }
   ],
   "source": [
    "x @ np.ones(3)"
   ]
  },
  {
   "cell_type": "markdown",
   "id": "f37daf18",
   "metadata": {},
   "source": [
    "В модуле `numpy.linalg` есть стандартный набор алгоритмов, в частности разложение матриц, нахождение обратной матрицы и вычисление определителя."
   ]
  },
  {
   "cell_type": "code",
   "execution_count": 30,
   "id": "71436234",
   "metadata": {},
   "outputs": [
    {
     "name": "stdout",
     "output_type": "stream",
     "text": [
      "[[  1.65772  -7.0507    6.16188  -4.44122  -5.77468]\n",
      " [ -7.0507   46.80326 -39.52344  29.33797  37.37783]\n",
      " [  6.16188 -39.52344  33.65094 -24.71489 -31.7359 ]\n",
      " [ -4.44122  29.33797 -24.71489  18.61978  23.35638]\n",
      " [ -5.77468  37.37783 -31.7359   23.35638  30.24912]]\n",
      "[[ 1. -0.  0.  0. -0.]\n",
      " [ 0.  1.  0. -0. -0.]\n",
      " [-0.  0.  1. -0.  0.]\n",
      " [ 0. -0.  0.  1. -0.]\n",
      " [ 0.  0. -0. -0.  1.]]\n"
     ]
    }
   ],
   "source": [
    "X = rng.standard_normal((5, 5))\n",
    "\n",
    "mat = X.T @ X\n",
    "\n",
    "inverted_mat = np.linalg.inv(mat)\n",
    "print(inverted_mat.round(5))\n",
    "\n",
    "ones_matrix = mat @ inverted_mat\n",
    "print(ones_matrix.round(0))"
   ]
  },
  {
   "cell_type": "markdown",
   "id": "4d77ca6d",
   "metadata": {},
   "source": [
    "| Функция | Описание |\n",
    "| ------- | -------- |\n",
    "| `diagonal`  | Возвращает диагональные элементы квадратной матрицы в виде одномерного массива или преобразует одномерный массив в квадратную матрицу, в которой все элементы, кроме находящихся на главной диагонали, равны нулю |\n",
    "| `dot`   | Вычисляет произведение матриц |\n",
    "| `trace` | Вычисляет след матрицы – сумму элементов главной диагонали|\n",
    "| `det`   | Вычисляет определитель матрицы |\n",
    "| `eig`   | Вычисляет собственные значения и собственные векторы квадратной матрицы |\n",
    "| `inv`   | Вычисляет обратную матрицу |\n",
    "| `pinv`  | Вычисляет псевдообратную матрицу Мура–Пенроуза (для неквадратных матриц) |\n",
    "| `qr`    | Вычисляет QR-разложение - Разложение матрицы на ортогональную (Q) и верхнетреугольную (R) |\n",
    "| `svd`   | Вычисляет сингулярное разложение (SVD) - Разложение любой матрицы на три: U, Σ, Vᵀ. Показывает \"главные компоненты\" данных.|\n",
    "| `solve` | Решает линейную систему Ax = b, где A – квадратная матрица |\n",
    "| `lstsq` | Вычисляет решение уравнения y = Xb по методу наименьших квадратов (это способ найти самую правдоподобную закономерность в ваших данных, чтобы делать точные предсказания)|"
   ]
  },
  {
   "cell_type": "code",
   "execution_count": 74,
   "id": "7fcc9b28",
   "metadata": {},
   "outputs": [],
   "source": [
    "x = np.arange(1, 10).reshape((3, 3))\n",
    "x[1, 2] = -4\n",
    "x[2, 0] = -2"
   ]
  },
  {
   "cell_type": "code",
   "execution_count": 75,
   "id": "67d9e62c",
   "metadata": {},
   "outputs": [
    {
     "data": {
      "text/plain": [
       "array([1, 5, 9])"
      ]
     },
     "execution_count": 75,
     "metadata": {},
     "output_type": "execute_result"
    }
   ],
   "source": [
    "np.diagonal(x)"
   ]
  },
  {
   "cell_type": "code",
   "execution_count": 76,
   "id": "29e03940",
   "metadata": {},
   "outputs": [
    {
     "data": {
      "text/plain": [
       "array([[ 14,   2,  41],\n",
       "       [  2,  57,  -4],\n",
       "       [ 41,  -4, 149]])"
      ]
     },
     "execution_count": 76,
     "metadata": {},
     "output_type": "execute_result"
    }
   ],
   "source": [
    "np.dot(x, x.T)"
   ]
  },
  {
   "cell_type": "code",
   "execution_count": 77,
   "id": "2856d804",
   "metadata": {},
   "outputs": [
    {
     "data": {
      "text/plain": [
       "np.int64(15)"
      ]
     },
     "execution_count": 77,
     "metadata": {},
     "output_type": "execute_result"
    }
   ],
   "source": [
    "np.trace(x)"
   ]
  },
  {
   "cell_type": "code",
   "execution_count": 78,
   "id": "fc4f7dcc",
   "metadata": {},
   "outputs": [
    {
     "data": {
      "text/plain": [
       "np.float64(146.99999999999997)"
      ]
     },
     "execution_count": 78,
     "metadata": {},
     "output_type": "execute_result"
    }
   ],
   "source": [
    "np.linalg.det(x) "
   ]
  },
  {
   "cell_type": "code",
   "execution_count": 79,
   "id": "ea905261",
   "metadata": {},
   "outputs": [
    {
     "data": {
      "text/plain": [
       "EigResult(eigenvalues=array([2.58166327+0.j        , 6.20916837+4.28792076j,\n",
       "       6.20916837-4.28792076j]), eigenvectors=array([[ 0.75827783+0.j        ,  0.31289335-0.09776693j,\n",
       "         0.31289335+0.09776693j],\n",
       "       [-0.28200395+0.j        , -0.20856495+0.41618874j,\n",
       "        -0.20856495-0.41618874j],\n",
       "       [ 0.5877827 +0.j        ,  0.82208696+0.j        ,\n",
       "         0.82208696-0.j        ]]))"
      ]
     },
     "execution_count": 79,
     "metadata": {},
     "output_type": "execute_result"
    }
   ],
   "source": [
    "np.linalg.eig(x)"
   ]
  },
  {
   "cell_type": "code",
   "execution_count": 80,
   "id": "8eecb798",
   "metadata": {},
   "outputs": [
    {
     "data": {
      "text/plain": [
       "array([[ 0.52380952,  0.04081633, -0.15646259],\n",
       "       [-0.19047619,  0.10204082,  0.10884354],\n",
       "       [ 0.28571429, -0.08163265, -0.02040816]])"
      ]
     },
     "execution_count": 80,
     "metadata": {},
     "output_type": "execute_result"
    }
   ],
   "source": [
    "np.linalg.inv(x)"
   ]
  },
  {
   "cell_type": "code",
   "execution_count": 82,
   "id": "17640232",
   "metadata": {},
   "outputs": [
    {
     "name": "stdout",
     "output_type": "stream",
     "text": [
      "[[-6.38888889e-01 -1.66666667e-01  3.05555556e-01]\n",
      " [-5.55555556e-02  4.20756436e-17  5.55555556e-02]\n",
      " [ 5.27777778e-01  1.66666667e-01 -1.94444444e-01]]\n"
     ]
    }
   ],
   "source": [
    "x[1, 2] = 6\n",
    "x[2, 0] = 7\n",
    "print(np.linalg.pinv(x))\n",
    "x[1, 2] = -4\n",
    "x[2, 0] = -2"
   ]
  },
  {
   "cell_type": "code",
   "execution_count": 83,
   "id": "5481b7fd",
   "metadata": {},
   "outputs": [
    {
     "data": {
      "text/plain": [
       "QRResult(Q=array([[-0.21821789, -0.17942452,  0.95926419],\n",
       "       [-0.87287156, -0.40370517, -0.27407548],\n",
       "       [ 0.43643578, -0.89712261, -0.06851887]]), R=array([[-4.58257569, -1.30930734,  6.7647546 ],\n",
       "       [ 0.        , -9.55435578, -6.99755634],\n",
       "       [ 0.        ,  0.        ,  3.35742468]]))"
      ]
     },
     "execution_count": 83,
     "metadata": {},
     "output_type": "execute_result"
    }
   ],
   "source": [
    "np.linalg.qr(x)"
   ]
  },
  {
   "cell_type": "code",
   "execution_count": 84,
   "id": "b5b3face",
   "metadata": {},
   "outputs": [
    {
     "data": {
      "text/plain": [
       "SVDResult(U=array([[ 0.26882515, -0.06155726,  0.96121992],\n",
       "       [-0.03198405, -0.99797582, -0.05496613],\n",
       "       [ 0.96265781, -0.01596743, -0.27024985]]), S=array([12.67210617,  7.55376495,  1.53569533]), Vh=array([[-0.14081532,  0.63754142,  0.75743778],\n",
       "       [-0.53238692, -0.69379086,  0.4849932 ],\n",
       "       [ 0.83470666, -0.3349555 ,  0.4371151 ]]))"
      ]
     },
     "execution_count": 84,
     "metadata": {},
     "output_type": "execute_result"
    }
   ],
   "source": [
    "np.linalg.svd(x)"
   ]
  },
  {
   "cell_type": "code",
   "execution_count": 88,
   "id": "30ba7719",
   "metadata": {},
   "outputs": [
    {
     "data": {
      "text/plain": [
       "array([-1.,  3.,  1.])"
      ]
     },
     "execution_count": 88,
     "metadata": {},
     "output_type": "execute_result"
    }
   ],
   "source": [
    "y = np.array([[4, 2, -1], [5, 3, -2], [3, 2, -3]])\n",
    "b = np.array([1, 2, 0])\n",
    "np.linalg.solve(y, b)"
   ]
  },
  {
   "cell_type": "code",
   "execution_count": 91,
   "id": "f4ff7f64",
   "metadata": {},
   "outputs": [
    {
     "data": {
      "text/plain": [
       "(array([-1.,  3.,  1.]),\n",
       " array([], dtype=float64),\n",
       " np.int32(3),\n",
       " array([8.84088168, 1.67261855, 0.20287511]))"
      ]
     },
     "execution_count": 91,
     "metadata": {},
     "output_type": "execute_result"
    }
   ],
   "source": [
    "np.linalg.lstsq(y, b)"
   ]
  }
 ],
 "metadata": {
  "kernelspec": {
   "display_name": "venv",
   "language": "python",
   "name": "python3"
  },
  "language_info": {
   "codemirror_mode": {
    "name": "ipython",
    "version": 3
   },
   "file_extension": ".py",
   "mimetype": "text/x-python",
   "name": "python",
   "nbconvert_exporter": "python",
   "pygments_lexer": "ipython3",
   "version": "3.13.6"
  }
 },
 "nbformat": 4,
 "nbformat_minor": 5
}
