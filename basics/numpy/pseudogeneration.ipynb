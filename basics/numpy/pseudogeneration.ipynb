{
 "cells": [
  {
   "cell_type": "markdown",
   "id": "659561e4",
   "metadata": {},
   "source": [
    "## Генерирование псевдослучайных чисел\n",
    "Модуль `numpy.random` дополняет встроенный модуль `random` функциями, которые генерируют целые массивы случайных чисел с различными распределениями вероятности. \n",
    "\n",
    "Например, с помощью функции `numpy.random.standard_normal` можно получить случайный массив, выбранный из стандартного нормального распределения:"
   ]
  },
  {
   "cell_type": "code",
   "execution_count": 3,
   "id": "229330d1",
   "metadata": {},
   "outputs": [],
   "source": [
    "import numpy as np"
   ]
  },
  {
   "cell_type": "code",
   "execution_count": 4,
   "id": "ffc0ff4f",
   "metadata": {},
   "outputs": [
    {
     "data": {
      "text/plain": [
       "array([[-0.92247921,  0.38860262,  0.93086714, -0.37946062],\n",
       "       [ 0.02508106,  0.64594342,  0.87158333, -0.35753934],\n",
       "       [ 1.25916445,  2.45801647, -0.34921665,  0.14004829],\n",
       "       [ 1.05750773,  0.56117667,  1.60342324, -0.58273908]])"
      ]
     },
     "execution_count": 4,
     "metadata": {},
     "output_type": "execute_result"
    }
   ],
   "source": [
    "samples = np.random.standard_normal(size=(4, 4))\n",
    "\n",
    "samples"
   ]
  },
  {
   "cell_type": "markdown",
   "id": "6acc07f4",
   "metadata": {},
   "source": [
    "`numpy.random` быстрее чем стандартный модуль `random` более чем на порядок:"
   ]
  },
  {
   "cell_type": "code",
   "execution_count": 5,
   "id": "38f2d331",
   "metadata": {},
   "outputs": [
    {
     "name": "stdout",
     "output_type": "stream",
     "text": [
      "335 ms ± 4.24 ms per loop (mean ± std. dev. of 7 runs, 1 loop each)\n",
      "14.4 ms ± 65.2 μs per loop (mean ± std. dev. of 7 runs, 100 loops each)\n"
     ]
    }
   ],
   "source": [
    "from random import normalvariate\n",
    "\n",
    "N = 1_000_000\n",
    "\n",
    "%timeit [normalvariate(0, 1) for _ in range(N)]\n",
    "\n",
    "%timeit np.random.standard_normal(N)"
   ]
  },
  {
   "cell_type": "markdown",
   "id": "79a93380",
   "metadata": {},
   "source": [
    "Эти элементы являются *псевдослучайными* и порожадются генератором случайных чисел. Функции типа `numpy.random.standard_normal` пользуются генератором по умолчанию из модуля `numpy.random`, но можно и сконфигурировать генератор явно:"
   ]
  },
  {
   "cell_type": "code",
   "execution_count": 6,
   "id": "97a4ad39",
   "metadata": {},
   "outputs": [
    {
     "data": {
      "text/plain": [
       "array([[-1.42382504,  1.26372846, -0.87066174],\n",
       "       [-0.25917323, -0.07534331, -0.74088465]])"
      ]
     },
     "execution_count": 6,
     "metadata": {},
     "output_type": "execute_result"
    }
   ],
   "source": [
    "rng = np.random.default_rng(seed=12345)\n",
    "\n",
    "data = rng.standard_normal((2, 3))\n",
    "\n",
    "data"
   ]
  },
  {
   "cell_type": "markdown",
   "id": "a079c081",
   "metadata": {},
   "source": [
    "**Методы генератора случайных чисел NumPy**\n",
    "| Функция | Описание |\n",
    "| :--- | :--- |\n",
    "| permutation | Возвращает случайную перестановку последовательности или диапазона (range) |\n",
    "| shuffle | Случайным образом переставляет послежовательность in-place |\n",
    "| randint/integers | Случайная выборка целых чисел из заданного диапазона |\n",
    "| standard_normal | Случайная выборка из нормального распределения со средним 0 и стандартным отклонением 1 |\n",
    "| binomial | Случайная выборка из биноминального распределения |\n",
    "| normal | Случайная выборка из нормального (Гаусса) распределения |\n",
    "| beta | Случайная выборка из бета-распределения |\n",
    "| chisquare | Случайная выборка из распределения хи-квадрат |\n",
    "| gamma | Случайная выборка из гамма-распределения |\n",
    "| uniform | Случайная выборка из равномерного распределения на интервале [0, 1) |"
   ]
  },
  {
   "cell_type": "markdown",
   "id": "a38b140a",
   "metadata": {},
   "source": [
    "*Best practise: использовать не `np.random`, а создавать отдельный генератор `rng = np.random.default_rng()`.*"
   ]
  },
  {
   "cell_type": "code",
   "execution_count": null,
   "id": "79440c37",
   "metadata": {},
   "outputs": [],
   "source": [
    "# Старый API\n",
    "arr1 = np.random.permutation(10)\n",
    "arr2 = np.random.randint(0, 10, 9) # np.random.integers считается устаревшей\n",
    "\n",
    "# Новый API\n",
    "rng = np.random.default_rng()\n",
    "\n",
    "arr1 = rng.permutation(10)\n",
    "arr2 = rng.integers(0, 10, 9) # Здесь integers, а не randint"
   ]
  }
 ],
 "metadata": {
  "kernelspec": {
   "display_name": "venv",
   "language": "python",
   "name": "python3"
  },
  "language_info": {
   "codemirror_mode": {
    "name": "ipython",
    "version": 3
   },
   "file_extension": ".py",
   "mimetype": "text/x-python",
   "name": "python",
   "nbconvert_exporter": "python",
   "pygments_lexer": "ipython3",
   "version": "3.12.2"
  }
 },
 "nbformat": 4,
 "nbformat_minor": 5
}
