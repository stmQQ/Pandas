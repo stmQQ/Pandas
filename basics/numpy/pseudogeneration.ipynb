{
 "cells": [
  {
   "cell_type": "markdown",
   "id": "659561e4",
   "metadata": {},
   "source": [
    "## Генерирование псевдослучайных чисел\n",
    "Модуль `numpy.random` дополняет встроенный модуль `random` функциями, которые генерируют целые массивы случайных чисел с различными распределениями вероятности.\n",
    "\n",
    "Например, с помощью функции `numpy.random.standard_normal` можно получить случайный массив, выбранный из стандартного нормального распределения:"
   ]
  },
  {
   "cell_type": "code",
   "execution_count": 1,
   "id": "229330d1",
   "metadata": {},
   "outputs": [],
   "source": [
    "import numpy as np"
   ]
  },
  {
   "cell_type": "code",
   "execution_count": 2,
   "id": "ffc0ff4f",
   "metadata": {},
   "outputs": [
    {
     "data": {
      "text/plain": [
       "array([[ 0.68040408, -0.8043288 , -1.45480297, -2.34818494],\n",
       "       [-0.67341912,  0.03190188, -1.55786393,  0.40211238],\n",
       "       [-1.22246922, -0.13384479,  0.05189576,  0.1495761 ],\n",
       "       [-0.22603481,  0.86951071, -0.30354563, -0.48283738]])"
      ]
     },
     "execution_count": 2,
     "metadata": {},
     "output_type": "execute_result"
    }
   ],
   "source": [
    "samples = np.random.standard_normal(size=(4, 4))\n",
    "\n",
    "samples"
   ]
  }
 ],
 "metadata": {
  "kernelspec": {
   "display_name": "venv",
   "language": "python",
   "name": "python3"
  },
  "language_info": {
   "codemirror_mode": {
    "name": "ipython",
    "version": 3
   },
   "file_extension": ".py",
   "mimetype": "text/x-python",
   "name": "python",
   "nbconvert_exporter": "python",
   "pygments_lexer": "ipython3",
   "version": "3.13.6"
  }
 },
 "nbformat": 4,
 "nbformat_minor": 5
}
