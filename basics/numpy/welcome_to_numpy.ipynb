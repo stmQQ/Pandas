{
 "cells": [
  {
   "cell_type": "markdown",
   "id": "77a25fdb",
   "metadata": {},
   "source": [
    "## Numpy - база\n",
    "\n",
    "Numpy - один из важнейших пакетов для численных расчетов в  Python.\n",
    "Numpy предлагает:\n",
    "- **ndarray**, эффективный многомерный массив, предоставляющий быстрые арифметические операции с массивами и гибкий механизм укладывания;\n",
    "- математические функции для выполнения быстрых операций над целыми массивами без явного выписывания циклов;\n",
    "- средства для чтения массива данных с диска и записи его на диск, а также для работы с проецируемыми на память файлами;\n",
    "- алгоритмы линейной алгебры, генерация случайных чисел и преобразование Фурье;\n",
    "- средства для интеграции с кодом, написанным на C, C++ или Fortran.\n",
    "\n",
    "\n",
    "NumPy **хранит данные в непрерывном блоке памяти** независимо от других встроенных объектов Python. Алгоритмы NumPy, написанные на языке C, могут работать с  этим блоком, не  обременяя себя проверкой типов и другими накладными расходами. Массивы NumPy **потребляют гораздо меньше памяти**, чем встроенные в Python последовательности.\n",
    "\n",
    "В NumPy сложные **операции применяются к массивам целиком**, так что отпадает необходимость в циклах for, которые для больших последовательностей могут **работать медленно**. NumPy быстрее кода на чистом Python, потому что в  написанных на C  алгоритмах **нет накладных расходов**, свойственных обычному интерпретируемому Python-коду.\n",
    "\n",
    "Рассмотрим массив NumPy, содержащий 1 миллион чисел и аналогичный список Python:"
   ]
  },
  {
   "cell_type": "code",
   "execution_count": 82,
   "id": "0021f5ec",
   "metadata": {},
   "outputs": [
    {
     "name": "stdout",
     "output_type": "stream",
     "text": [
      "1.62 ms ± 28.8 μs per loop (mean ± std. dev. of 7 runs, 1,000 loops each)\n",
      "38.1 ms ± 824 μs per loop (mean ± std. dev. of 7 runs, 10 loops each)\n"
     ]
    }
   ],
   "source": [
    "import numpy as np\n",
    "\n",
    "my_arr = np.arange(1_000_000)\n",
    "my_list = list(range(1_000_000))\n",
    "\n",
    "%timeit my_arr2 = my_arr * 2\n",
    "\n",
    "%timeit my_list2 = [x * 2 for x in my_list]"
   ]
  },
  {
   "cell_type": "markdown",
   "id": "df7b931f",
   "metadata": {},
   "source": [
    "### **ndarray** - объект многомерного массива\n",
    "Одна из ключевых особенностей NumPy - объект `ndarry` для представления N-мерного массива; это быстрый и гибкий контейнер для хранения больших наборов данных в Python. Массивы позволяют **применять математические операции к блокам данных, используя тот же синтаксис, что и со скалярами**."
   ]
  },
  {
   "cell_type": "code",
   "execution_count": 83,
   "id": "b2e4d40a",
   "metadata": {},
   "outputs": [
    {
     "name": "stdout",
     "output_type": "stream",
     "text": [
      "Data ==>\n",
      " [[ 1.5 -0.1  3. ]\n",
      " [ 0.  -3.   6.5]]\n",
      "Data * 10 ==>\n",
      " [[ 15.  -1.  30.]\n",
      " [  0. -30.  65.]]\n",
      "Data + Data ==>\n",
      " [[ 3.  -0.2  6. ]\n",
      " [ 0.  -6.  13. ]]\n"
     ]
    }
   ],
   "source": [
    "data = np.array([[1.5, -0.1, 3], [0, -3, 6.5]])\n",
    "\n",
    "print(\"Data ==>\\n\", data)\n",
    "print(\"Data * 10 ==>\\n\", data * 10)\n",
    "print(\"Data + Data ==>\\n\", data + data)"
   ]
  },
  {
   "cell_type": "markdown",
   "id": "55833958",
   "metadata": {},
   "source": [
    "**ndarray**  может хранить только элементы **одного типа**. У любого массива есть атрибут `shape` - кортеж, описывающий размер по каждому измерению и атрибут `dtype` - объект, описывающий тип данных в массиве:"
   ]
  },
  {
   "cell_type": "code",
   "execution_count": 84,
   "id": "afd87504",
   "metadata": {},
   "outputs": [
    {
     "name": "stdout",
     "output_type": "stream",
     "text": [
      "(2, 3)\n",
      "float64\n"
     ]
    }
   ],
   "source": [
    "print(data.shape)\n",
    "print(data.dtype)"
   ]
  },
  {
   "cell_type": "markdown",
   "id": "8a9fd7d2",
   "metadata": {},
   "source": [
    "### Создание ndarray\n",
    "Проще всего создать массив с помощью функции `array`. Она принимает любой объект, похожий на последовательность, и порождает новый массив NumPy."
   ]
  },
  {
   "cell_type": "code",
   "execution_count": 85,
   "id": "8ca55977",
   "metadata": {},
   "outputs": [
    {
     "data": {
      "text/plain": [
       "array([6. , 7.5, 8. , 0. , 1. ])"
      ]
     },
     "execution_count": 85,
     "metadata": {},
     "output_type": "execute_result"
    }
   ],
   "source": [
    "data1 = [6, 7.5, 8, 0, 1]\n",
    "arr1 = np.array(data1)\n",
    "\n",
    "arr1"
   ]
  },
  {
   "cell_type": "code",
   "execution_count": 86,
   "id": "a9b12422",
   "metadata": {},
   "outputs": [
    {
     "name": "stdout",
     "output_type": "stream",
     "text": [
      "[[1 2 3 4]\n",
      " [5 6 7 8]]\n",
      "N dimensions ==>  2\n",
      "Shape ==>  (2, 4)\n"
     ]
    }
   ],
   "source": [
    "data2 = [[1, 2, 3, 4], [5, 6, 7, 8]]\n",
    "arr2 = np.array(data2)\n",
    "\n",
    "print(arr2)\n",
    "print(\"N dimensions ==> \", arr2.ndim)\n",
    "print(\"Shape ==> \", arr2.shape)"
   ]
  },
  {
   "cell_type": "markdown",
   "id": "3bda4fd9",
   "metadata": {},
   "source": [
    "Существует еще ряд функций для создания массивов. Например, `numpy.zeros` и `numpy.ones` создают массивы заданной длины или формы, состоящие из 0 и 1 соответственно. А `numpy.empty` создает массив, не инициализируя его элементы. `numpy.full` - массив заполняеся заданным символом."
   ]
  },
  {
   "cell_type": "code",
   "execution_count": 87,
   "id": "978378f0",
   "metadata": {},
   "outputs": [
    {
     "data": {
      "text/plain": [
       "array([0., 0., 0., 0., 0., 0., 0., 0., 0., 0.])"
      ]
     },
     "execution_count": 87,
     "metadata": {},
     "output_type": "execute_result"
    }
   ],
   "source": [
    "np.zeros(10)"
   ]
  },
  {
   "cell_type": "code",
   "execution_count": 88,
   "id": "45e151bf",
   "metadata": {},
   "outputs": [
    {
     "data": {
      "text/plain": [
       "array([[[1., 1.],\n",
       "        [1., 1.],\n",
       "        [1., 1.]],\n",
       "\n",
       "       [[1., 1.],\n",
       "        [1., 1.],\n",
       "        [1., 1.]]])"
      ]
     },
     "execution_count": 88,
     "metadata": {},
     "output_type": "execute_result"
    }
   ],
   "source": [
    "np.ones(shape=(2, 3, 2))"
   ]
  },
  {
   "cell_type": "markdown",
   "id": "03e9b57a",
   "metadata": {},
   "source": [
    "Функция `numpy.arange` - вариант встроенной `range`, только возвращаемым значением является массив.\n",
    "`zeros_like`, `ones_like`, `full_like` создают массивы с заданными shape и dtype как у массива, передаваемого в качестве аргумента."
   ]
  },
  {
   "cell_type": "markdown",
   "id": "a338deda",
   "metadata": {},
   "source": [
    "`numpy.eye` и `numpy.identity` создают единичную квадратную матрицу NxM (вторая - NxN) (элементы на главной диагонали равны 1, остальные - 0)"
   ]
  },
  {
   "cell_type": "code",
   "execution_count": 89,
   "id": "e1563b79",
   "metadata": {},
   "outputs": [
    {
     "data": {
      "text/plain": [
       "array([[1., 0., 0.],\n",
       "       [0., 1., 0.]])"
      ]
     },
     "execution_count": 89,
     "metadata": {},
     "output_type": "execute_result"
    }
   ],
   "source": [
    "np.eye(2, 3)"
   ]
  },
  {
   "cell_type": "markdown",
   "id": "64b977ff",
   "metadata": {},
   "source": [
    "Можно явно привести массив одного типа к другому с помощью `numpy.astype`."
   ]
  },
  {
   "cell_type": "code",
   "execution_count": 90,
   "id": "023a7c36",
   "metadata": {},
   "outputs": [
    {
     "name": "stdout",
     "output_type": "stream",
     "text": [
      "int64\n",
      "float64\n"
     ]
    }
   ],
   "source": [
    "arr = np.array([1, 2, 3, 4, 5])\n",
    "print(arr.dtype)\n",
    "float_arr = np.astype(arr, np.float64)\n",
    "print(float_arr.dtype)"
   ]
  },
  {
   "cell_type": "markdown",
   "id": "2ca54aaa",
   "metadata": {},
   "source": [
    "### Арифметические операции с массивами NumPy\n",
    "Массивы позволяют выразить операции над данными без выписывания циклов `for`. Обычно это называется *векторизацией*. Любая арифметическая операция над массивами одинаковых размеров применяется к соответственным элементам."
   ]
  },
  {
   "cell_type": "code",
   "execution_count": 91,
   "id": "7c0746e1",
   "metadata": {},
   "outputs": [
    {
     "data": {
      "text/plain": [
       "array([[1, 2, 3],\n",
       "       [4, 5, 6]])"
      ]
     },
     "execution_count": 91,
     "metadata": {},
     "output_type": "execute_result"
    }
   ],
   "source": [
    "arr = np.array([[1, 2, 3], [4, 5, 6]])\n",
    "\n",
    "arr"
   ]
  },
  {
   "cell_type": "code",
   "execution_count": 92,
   "id": "54a47b43",
   "metadata": {},
   "outputs": [
    {
     "data": {
      "text/plain": [
       "array([[ 1,  4,  9],\n",
       "       [16, 25, 36]])"
      ]
     },
     "execution_count": 92,
     "metadata": {},
     "output_type": "execute_result"
    }
   ],
   "source": [
    "arr * arr"
   ]
  },
  {
   "cell_type": "code",
   "execution_count": 93,
   "id": "76439251",
   "metadata": {},
   "outputs": [
    {
     "data": {
      "text/plain": [
       "array([[0, 0, 0],\n",
       "       [0, 0, 0]])"
      ]
     },
     "execution_count": 93,
     "metadata": {},
     "output_type": "execute_result"
    }
   ],
   "source": [
    "arr - arr"
   ]
  },
  {
   "cell_type": "markdown",
   "id": "d8366770",
   "metadata": {},
   "source": [
    "Арифметические операции со скаляром также применяются к каждому элементу массива"
   ]
  },
  {
   "cell_type": "code",
   "execution_count": 94,
   "id": "095d791d",
   "metadata": {},
   "outputs": [
    {
     "data": {
      "text/plain": [
       "array([[1.        , 0.5       , 0.33333333],\n",
       "       [0.25      , 0.2       , 0.16666667]])"
      ]
     },
     "execution_count": 94,
     "metadata": {},
     "output_type": "execute_result"
    }
   ],
   "source": [
    "1 / arr"
   ]
  },
  {
   "cell_type": "code",
   "execution_count": 95,
   "id": "4dcb85d3",
   "metadata": {},
   "outputs": [
    {
     "data": {
      "text/plain": [
       "array([[ 1,  4,  9],\n",
       "       [16, 25, 36]])"
      ]
     },
     "execution_count": 95,
     "metadata": {},
     "output_type": "execute_result"
    }
   ],
   "source": [
    "arr ** 2"
   ]
  },
  {
   "cell_type": "markdown",
   "id": "8e32d452",
   "metadata": {},
   "source": [
    "Сравнение массивов одинакового размера дает **булев** массив:"
   ]
  },
  {
   "cell_type": "code",
   "execution_count": 96,
   "id": "b002fe73",
   "metadata": {},
   "outputs": [
    {
     "data": {
      "text/plain": [
       "array([[ True, False, False],\n",
       "       [ True,  True,  True]])"
      ]
     },
     "execution_count": 96,
     "metadata": {},
     "output_type": "execute_result"
    }
   ],
   "source": [
    "arr2 = np.array([[4, 2, 3], [7, 7, 8]])\n",
    "\n",
    "arr2 > arr"
   ]
  },
  {
   "cell_type": "markdown",
   "id": "b6eea2e9",
   "metadata": {},
   "source": [
    "### Индексирование и вырезание\n",
    "Одномерные массивы ведут себя так же, как и обычные списки Python."
   ]
  },
  {
   "cell_type": "code",
   "execution_count": 97,
   "id": "93e73425",
   "metadata": {},
   "outputs": [
    {
     "name": "stdout",
     "output_type": "stream",
     "text": [
      "[0 1 2 3 4 5 6 7 8 9]\n",
      "5\n",
      "[5 6 7]\n",
      "[ 0  1  2  3  4 12 12 12  8  9]\n"
     ]
    }
   ],
   "source": [
    "arr = np.arange(10)\n",
    "\n",
    "print(arr)\n",
    "print(arr[5])\n",
    "print(arr[5:8])\n",
    "arr[5:8] = 12\n",
    "print(arr)"
   ]
  },
  {
   "cell_type": "markdown",
   "id": "718822da",
   "metadata": {},
   "source": [
    "*Важнейшее отличие от встроенных в Python списков в том, что срез массива является **представлением** исходного массива. Это означает, что любые изменения, внесенные в представление, отразятся и на исходном массиве.*"
   ]
  },
  {
   "cell_type": "code",
   "execution_count": 98,
   "id": "0d82d5f5",
   "metadata": {},
   "outputs": [
    {
     "name": "stdout",
     "output_type": "stream",
     "text": [
      "[12 12 12]\n"
     ]
    },
    {
     "data": {
      "text/plain": [
       "array([  0,   1,   2,   3,   4, 123,  12,  12,   8,   9])"
      ]
     },
     "execution_count": 98,
     "metadata": {},
     "output_type": "execute_result"
    }
   ],
   "source": [
    "arr_slice = arr[5:8]\n",
    "print(arr_slice)\n",
    "\n",
    "arr_slice[0] = 123\n",
    "arr"
   ]
  },
  {
   "cell_type": "markdown",
   "id": "0d283e53",
   "metadata": {},
   "source": [
    "*Чтобы получить **копию**, а  не представление среза массива, нужно выполнить операцию копирования явно, например `arr[5:8].copy()`.*"
   ]
  },
  {
   "cell_type": "markdown",
   "id": "30c1bfa4",
   "metadata": {},
   "source": [
    "Для массивов большей размерности вариантов тоже больше. К отдельным элементам можно обращаться рекурсивно, но эта конструкция слишком громоздкая, поэтому для выбора одного элемента можно указать список индексов через запятую."
   ]
  },
  {
   "cell_type": "code",
   "execution_count": 108,
   "id": "16222410",
   "metadata": {},
   "outputs": [
    {
     "name": "stdout",
     "output_type": "stream",
     "text": [
      "[[1 2 3]\n",
      " [4 5 6]\n",
      " [7 8 9]]\n",
      "3\n",
      "3\n"
     ]
    }
   ],
   "source": [
    "arr2d = np.array([[1, 2, 3], [4, 5, 6], [7, 8, 9]])\n",
    "print(arr2d)\n",
    "\n",
    "print(arr2d[0][2])\n",
    "print(arr2d[0, 2]) # лучше"
   ]
  },
  {
   "attachments": {
    "image.png": {
     "image/png": "[encoded data removed]"
    }
   },
   "cell_type": "markdown",
   "id": "5c0fd4fc",
   "metadata": {},
   "source": [
    "![image.png](attachment:image.png)"
   ]
  },
  {
   "cell_type": "markdown",
   "id": "f4fcb730",
   "metadata": {},
   "source": [
    "Если при работе с многомерным массивом опустить несколько последних\n",
    "индексов, то будет возвращен объект ndarray меньшей размерности, содержащий данные по указанным при индексировании осям. Так, пусть имеется массив **arr3d** размерности 2×2×3:"
   ]
  },
  {
   "cell_type": "code",
   "execution_count": 109,
   "id": "a3b01066",
   "metadata": {},
   "outputs": [
    {
     "data": {
      "text/plain": [
       "array([[[ 1,  2,  3],\n",
       "        [ 4,  5,  6]],\n",
       "\n",
       "       [[ 7,  8,  9],\n",
       "        [10, 11, 12]]])"
      ]
     },
     "execution_count": 109,
     "metadata": {},
     "output_type": "execute_result"
    }
   ],
   "source": [
    "arr3d = np.array([[[1, 2, 3], [4, 5, 6]], [[7, 8, 9], [10, 11, 12]]])\n",
    "arr3d"
   ]
  },
  {
   "cell_type": "code",
   "execution_count": 110,
   "id": "d5bc7433",
   "metadata": {},
   "outputs": [
    {
     "data": {
      "text/plain": [
       "array([[1, 2, 3],\n",
       "       [4, 5, 6]])"
      ]
     },
     "execution_count": 110,
     "metadata": {},
     "output_type": "execute_result"
    }
   ],
   "source": [
    "arr3d[0]"
   ]
  },
  {
   "cell_type": "code",
   "execution_count": 111,
   "id": "c6eccafd",
   "metadata": {},
   "outputs": [
    {
     "data": {
      "text/plain": [
       "array([1, 2, 3])"
      ]
     },
     "execution_count": 111,
     "metadata": {},
     "output_type": "execute_result"
    }
   ],
   "source": [
    "arr3d[0, 0]"
   ]
  },
  {
   "cell_type": "code",
   "execution_count": 112,
   "id": "b55e2d81",
   "metadata": {},
   "outputs": [
    {
     "data": {
      "text/plain": [
       "array([[[42, 42, 42],\n",
       "        [42, 42, 42]],\n",
       "\n",
       "       [[ 7,  8,  9],\n",
       "        [10, 11, 12]]])"
      ]
     },
     "execution_count": 112,
     "metadata": {},
     "output_type": "execute_result"
    }
   ],
   "source": [
    "old_values = arr3d[0].copy()\n",
    "arr3d[0] = 42\n",
    "\n",
    "arr3d"
   ]
  },
  {
   "cell_type": "code",
   "execution_count": 113,
   "id": "1abad6b1",
   "metadata": {},
   "outputs": [
    {
     "data": {
      "text/plain": [
       "array([[[ 1,  2,  3],\n",
       "        [ 4,  5,  6]],\n",
       "\n",
       "       [[ 7,  8,  9],\n",
       "        [10, 11, 12]]])"
      ]
     },
     "execution_count": 113,
     "metadata": {},
     "output_type": "execute_result"
    }
   ],
   "source": [
    "arr3d[0] = old_values\n",
    "arr3d"
   ]
  },
  {
   "cell_type": "markdown",
   "id": "1192506c",
   "metadata": {},
   "source": [
    "### Индексирование срезами\n",
    "Для объектов `ndarray` можно формировать срезы."
   ]
  },
  {
   "cell_type": "code",
   "execution_count": 114,
   "id": "5c4debf9",
   "metadata": {},
   "outputs": [
    {
     "name": "stdout",
     "output_type": "stream",
     "text": [
      "[[1 2 3]\n",
      " [4 5 6]\n",
      " [7 8 9]]\n"
     ]
    },
    {
     "data": {
      "text/plain": [
       "array([[1, 2, 3],\n",
       "       [4, 5, 6]])"
      ]
     },
     "execution_count": 114,
     "metadata": {},
     "output_type": "execute_result"
    }
   ],
   "source": [
    "print(arr2d)\n",
    "arr2d[:2]"
   ]
  },
  {
   "cell_type": "markdown",
   "id": "be5d5119",
   "metadata": {},
   "source": [
    "Срезы можно применять сразу по нескольким осям:"
   ]
  },
  {
   "cell_type": "code",
   "execution_count": 117,
   "id": "2ca3bff4",
   "metadata": {},
   "outputs": [
    {
     "data": {
      "text/plain": [
       "array([[2, 3],\n",
       "       [5, 6]])"
      ]
     },
     "execution_count": 117,
     "metadata": {},
     "output_type": "execute_result"
    }
   ],
   "source": [
    "arr2d[:2, 1:]"
   ]
  },
  {
   "cell_type": "code",
   "execution_count": 118,
   "id": "ed50f324",
   "metadata": {},
   "outputs": [
    {
     "data": {
      "text/plain": [
       "array([8, 9])"
      ]
     },
     "execution_count": 118,
     "metadata": {},
     "output_type": "execute_result"
    }
   ],
   "source": [
    "arr2d[2, 1:]"
   ]
  },
  {
   "cell_type": "code",
   "execution_count": 121,
   "id": "67dda61d",
   "metadata": {},
   "outputs": [
    {
     "data": {
      "text/plain": [
       "array([1, 4, 7])"
      ]
     },
     "execution_count": 121,
     "metadata": {},
     "output_type": "execute_result"
    }
   ],
   "source": [
    "arr2d[:, 0]"
   ]
  },
  {
   "attachments": {
    "image.png": {
     "image/png": "[encoded data removed]"
    }
   },
   "cell_type": "markdown",
   "id": "e20cd9ff",
   "metadata": {},
   "source": [
    "![image.png](attachment:image.png)"
   ]
  },
  {
   "cell_type": "markdown",
   "id": "b9c08145",
   "metadata": {},
   "source": [
    "### Булево индексирование\n",
    "Пусть имеется массив с данными и массив имен, содержащий дубликаты:"
   ]
  },
  {
   "cell_type": "code",
   "execution_count": 135,
   "id": "fb8dada6",
   "metadata": {},
   "outputs": [
    {
     "name": "stdout",
     "output_type": "stream",
     "text": [
      "['Bob' 'Joe' 'Will' 'Bob' 'Will' 'Joe' 'Joe']\n",
      "[[  4   7]\n",
      " [  0   2]\n",
      " [ -5   6]\n",
      " [  0   0]\n",
      " [  1   2]\n",
      " [-12  -4]\n",
      " [  3   4]]\n"
     ]
    }
   ],
   "source": [
    "names = np.array([\"Bob\", \"Joe\", \"Will\", \"Bob\", \"Will\", \"Joe\", \"Joe\"])\n",
    "data = np.array([[4, 7], [0, 2], [-5, 6], [0, 0], [1, 2], [-12, -4], [3, 4]])\n",
    "\n",
    "print(names)\n",
    "print(data)"
   ]
  },
  {
   "cell_type": "markdown",
   "id": "3779b82f",
   "metadata": {},
   "source": [
    "Допустим, что каждое имя соответствует строке в массиве data и мы хотим выбрать все строки, которым соответствует имя 'Bob'. Операции сравнения массивов (например, ==), как и арифметические, также векторизованы. Поэтому сравнение names со строкой 'Bob' дает массив булевых величин:\n"
   ]
  },
  {
   "cell_type": "code",
   "execution_count": 136,
   "id": "027aa1e0",
   "metadata": {},
   "outputs": [
    {
     "name": "stdout",
     "output_type": "stream",
     "text": [
      "[ True False False  True False False False]\n",
      "[[4 7]\n",
      " [0 0]]\n"
     ]
    }
   ],
   "source": [
    "print(names == \"Bob\")\n",
    "\n",
    "print(data[names==\"Bob\"])"
   ]
  },
  {
   "cell_type": "code",
   "execution_count": 137,
   "id": "19136d4f",
   "metadata": {},
   "outputs": [
    {
     "data": {
      "text/plain": [
       "array([[7],\n",
       "       [0]])"
      ]
     },
     "execution_count": 137,
     "metadata": {},
     "output_type": "execute_result"
    }
   ],
   "source": [
    "data[names == \"Bob\", 1:]"
   ]
  },
  {
   "cell_type": "code",
   "execution_count": 138,
   "id": "f2880143",
   "metadata": {},
   "outputs": [
    {
     "data": {
      "text/plain": [
       "array([7, 0])"
      ]
     },
     "execution_count": 138,
     "metadata": {},
     "output_type": "execute_result"
    }
   ],
   "source": [
    "data[names == \"Bob\", 1]"
   ]
  },
  {
   "cell_type": "markdown",
   "id": "f659051f",
   "metadata": {},
   "source": [
    "Чтобы выбрать все, кроме \"Bob\", можно либо воспользоваться оператором сравнения `!=`, либо применить отрицание - условие, обозначаемое знаком `~`:"
   ]
  },
  {
   "cell_type": "code",
   "execution_count": 139,
   "id": "ffcaeea2",
   "metadata": {},
   "outputs": [
    {
     "name": "stdout",
     "output_type": "stream",
     "text": [
      "[False  True  True False  True  True  True]\n",
      "[False  True  True False  True  True  True]\n"
     ]
    }
   ],
   "source": [
    "print(names != \"Bob\")\n",
    "print(~(names == \"Bob\"))"
   ]
  },
  {
   "cell_type": "markdown",
   "id": "0888c42f",
   "metadata": {},
   "source": [
    "Оператор `~` пригодится, когда требуется инвертировать массив, адресуемый переменной:\n"
   ]
  },
  {
   "cell_type": "code",
   "execution_count": 140,
   "id": "9a169ad6",
   "metadata": {},
   "outputs": [
    {
     "data": {
      "text/plain": [
       "array([[  0,   2],\n",
       "       [ -5,   6],\n",
       "       [  1,   2],\n",
       "       [-12,  -4],\n",
       "       [  3,   4]])"
      ]
     },
     "execution_count": 140,
     "metadata": {},
     "output_type": "execute_result"
    }
   ],
   "source": [
    "cond = names == \"Bob\"\n",
    "\n",
    "data[~cond]"
   ]
  },
  {
   "cell_type": "markdown",
   "id": "05222692",
   "metadata": {},
   "source": [
    "Чтобы сформировать составное булево условие, включающее два из трех имен, воспользуемся булевыми операторами `&` (И) и `|` (ИЛИ):"
   ]
  },
  {
   "cell_type": "code",
   "execution_count": 141,
   "id": "37d0dd99",
   "metadata": {},
   "outputs": [
    {
     "data": {
      "text/plain": [
       "array([[ 4,  7],\n",
       "       [-5,  6],\n",
       "       [ 0,  0],\n",
       "       [ 1,  2]])"
      ]
     },
     "execution_count": 141,
     "metadata": {},
     "output_type": "execute_result"
    }
   ],
   "source": [
    "mask = (names == \"Bob\") | (names == \"Will\")\n",
    "\n",
    "data[mask]"
   ]
  },
  {
   "cell_type": "markdown",
   "id": "851fa257",
   "metadata": {},
   "source": [
    "*Ключевые слова Python and и or с булевыми массивами не работают. Используйтевместо них & (и) и | (или).*\n"
   ]
  },
  {
   "cell_type": "markdown",
   "id": "10876774",
   "metadata": {},
   "source": [
    "Если значение устанавливается с применением булева массива, то значения из массива в правой части копируются в левую часть **только тогда, когда значение соответствующего элемента булева массива равно True**. Например, чтобы заменить все отрицательные значения в массиве data нулями, нужно всего лишь написать:"
   ]
  },
  {
   "cell_type": "code",
   "execution_count": 142,
   "id": "2d531b5f",
   "metadata": {},
   "outputs": [
    {
     "data": {
      "text/plain": [
       "array([[4, 7],\n",
       "       [0, 2],\n",
       "       [0, 6],\n",
       "       [0, 0],\n",
       "       [1, 2],\n",
       "       [0, 0],\n",
       "       [3, 4]])"
      ]
     },
     "execution_count": 142,
     "metadata": {},
     "output_type": "execute_result"
    }
   ],
   "source": [
    "data[data < 0] = 0\n",
    "data"
   ]
  },
  {
   "cell_type": "markdown",
   "id": "60e3d33b",
   "metadata": {},
   "source": [
    "### Прихотливое индексирование\n",
    "Термином *прихотливое индексирование* в NumPy означается индексирование с помощью целочисленных массивов. "
   ]
  },
  {
   "cell_type": "code",
   "execution_count": 143,
   "id": "8acf02fe",
   "metadata": {},
   "outputs": [
    {
     "data": {
      "text/plain": [
       "array([[0., 0., 0., 0.],\n",
       "       [1., 1., 1., 1.],\n",
       "       [2., 2., 2., 2.],\n",
       "       [3., 3., 3., 3.],\n",
       "       [4., 4., 4., 4.],\n",
       "       [5., 5., 5., 5.],\n",
       "       [6., 6., 6., 6.],\n",
       "       [7., 7., 7., 7.]])"
      ]
     },
     "execution_count": 143,
     "metadata": {},
     "output_type": "execute_result"
    }
   ],
   "source": [
    "arr = np.zeros((8, 4))\n",
    "\n",
    "for i in range(8):\n",
    "    arr[i] = i\n",
    "\n",
    "arr"
   ]
  },
  {
   "cell_type": "markdown",
   "id": "31c6b8e8",
   "metadata": {},
   "source": [
    "Чтобы выбрать подмножество строк в определенном порядке, можно просто передать список или массив целых чисел, описывающих желаемый порядок:"
   ]
  },
  {
   "cell_type": "code",
   "execution_count": 144,
   "id": "1510fada",
   "metadata": {},
   "outputs": [
    {
     "data": {
      "text/plain": [
       "array([[4., 4., 4., 4.],\n",
       "       [3., 3., 3., 3.],\n",
       "       [0., 0., 0., 0.],\n",
       "       [6., 6., 6., 6.]])"
      ]
     },
     "execution_count": 144,
     "metadata": {},
     "output_type": "execute_result"
    }
   ],
   "source": [
    "arr[[4, 3, 0, 6]]"
   ]
  },
  {
   "cell_type": "code",
   "execution_count": 145,
   "id": "b202c27d",
   "metadata": {},
   "outputs": [
    {
     "data": {
      "text/plain": [
       "array([[3., 3., 3., 3.],\n",
       "       [5., 5., 5., 5.],\n",
       "       [7., 7., 7., 7.]])"
      ]
     },
     "execution_count": 145,
     "metadata": {},
     "output_type": "execute_result"
    }
   ],
   "source": [
    "arr[[-5, -3, -1]]"
   ]
  },
  {
   "cell_type": "markdown",
   "id": "da67f485",
   "metadata": {},
   "source": [
    "При передаче нескольких массивов делается несколько иное: выбирается одномерный массив элементов, соответствующих каждому кортежу индексов последовательно:"
   ]
  },
  {
   "cell_type": "code",
   "execution_count": 154,
   "id": "361ebb62",
   "metadata": {},
   "outputs": [
    {
     "data": {
      "text/plain": [
       "array([[ 4,  5,  6,  7],\n",
       "       [20, 21, 22, 23],\n",
       "       [28, 29, 30, 31],\n",
       "       [ 8,  9, 10, 11]])"
      ]
     },
     "execution_count": 154,
     "metadata": {},
     "output_type": "execute_result"
    }
   ],
   "source": [
    "arr = np.arange(32).reshape(8, 4)\n",
    "\n",
    "arr[[1, 5, 7, 2]]"
   ]
  },
  {
   "cell_type": "markdown",
   "id": "70b2afcc",
   "metadata": {},
   "source": [
    "Метод `reshape` изменяет форму массива на указанную.\n",
    "Индексы преобразуются в кортежи `(1, 0), (5, 3), (7, 1), (2, 2)`."
   ]
  },
  {
   "cell_type": "code",
   "execution_count": 155,
   "id": "8f2976c8",
   "metadata": {},
   "outputs": [
    {
     "data": {
      "text/plain": [
       "array([ 4, 23, 29, 10])"
      ]
     },
     "execution_count": 155,
     "metadata": {},
     "output_type": "execute_result"
    }
   ],
   "source": [
    "arr[[1, 5, 7, 2], [0, 3, 1, 2]]"
   ]
  },
  {
   "cell_type": "code",
   "execution_count": null,
   "id": "ba199de5",
   "metadata": {},
   "outputs": [
    {
     "data": {
      "text/plain": [
       "array([[ 4,  7,  5,  6],\n",
       "       [20, 23, 21, 22],\n",
       "       [28, 31, 29, 30],\n",
       "       [ 8, 11,  9, 10]])"
      ]
     },
     "execution_count": 156,
     "metadata": {},
     "output_type": "execute_result"
    }
   ],
   "source": [
    "arr[[1, 5, 7, 2]][:, [0, 3, 1, 2]] # переставляет столбцы"
   ]
  },
  {
   "cell_type": "markdown",
   "id": "710a7706",
   "metadata": {},
   "source": [
    "Имейте в виду, что прихотливое индексирование, в отличие от вырезания,\n",
    "всегда копирует данные в новый массив, когда результат присваивается новой\n",
    "переменной. Если присвоить значения с помощью прихотливого индексирования, то индексированные значения будут модифицированы."
   ]
  },
  {
   "cell_type": "markdown",
   "id": "1e18246c",
   "metadata": {},
   "source": [
    "### Транспонирование и перестановка осей\n",
    "Транспонирование - частный случай изменения формы. У массивов имеется метод `transpose` и атрибут `T`:"
   ]
  },
  {
   "cell_type": "code",
   "execution_count": 158,
   "id": "efa40341",
   "metadata": {},
   "outputs": [
    {
     "data": {
      "text/plain": [
       "array([[ 0,  1,  2,  3,  4],\n",
       "       [ 5,  6,  7,  8,  9],\n",
       "       [10, 11, 12, 13, 14]])"
      ]
     },
     "execution_count": 158,
     "metadata": {},
     "output_type": "execute_result"
    }
   ],
   "source": [
    "arr = np.arange(15).reshape(3, 5)\n",
    "arr"
   ]
  },
  {
   "cell_type": "code",
   "execution_count": 159,
   "id": "ad5456f0",
   "metadata": {},
   "outputs": [
    {
     "data": {
      "text/plain": [
       "array([[ 0,  5, 10],\n",
       "       [ 1,  6, 11],\n",
       "       [ 2,  7, 12],\n",
       "       [ 3,  8, 13],\n",
       "       [ 4,  9, 14]])"
      ]
     },
     "execution_count": 159,
     "metadata": {},
     "output_type": "execute_result"
    }
   ],
   "source": [
    "arr.T"
   ]
  },
  {
   "cell_type": "markdown",
   "id": "deb72344",
   "metadata": {},
   "source": [
    "При вычислениях с матрицами эта операция применяется очень часто.\n",
    "\n",
    "Вот как вычисляется скалярное произведение двух матриц методом `numpy.dot`:"
   ]
  },
  {
   "cell_type": "code",
   "execution_count": 160,
   "id": "6e711e4d",
   "metadata": {},
   "outputs": [
    {
     "data": {
      "text/plain": [
       "array([[ 30,  80, 130],\n",
       "       [ 80, 255, 430],\n",
       "       [130, 430, 730]])"
      ]
     },
     "execution_count": 160,
     "metadata": {},
     "output_type": "execute_result"
    }
   ],
   "source": [
    "np.dot(arr, arr.T)"
   ]
  },
  {
   "cell_type": "markdown",
   "id": "21af550b",
   "metadata": {},
   "source": [
    "Матрицы также можно перемножить с помощью `@`:"
   ]
  },
  {
   "cell_type": "code",
   "execution_count": 161,
   "id": "81c1903b",
   "metadata": {},
   "outputs": [
    {
     "data": {
      "text/plain": [
       "array([[ 30,  80, 130],\n",
       "       [ 80, 255, 430],\n",
       "       [130, 430, 730]])"
      ]
     },
     "execution_count": 161,
     "metadata": {},
     "output_type": "execute_result"
    }
   ],
   "source": [
    "arr @ arr.T"
   ]
  },
  {
   "cell_type": "markdown",
   "id": "6a7d1950",
   "metadata": {},
   "source": [
    "У объекта ndarray есть метод `swapaxes`, который принимает пару номеров осей и меняет их местами:"
   ]
  },
  {
   "cell_type": "code",
   "execution_count": 162,
   "id": "0a19af01",
   "metadata": {},
   "outputs": [
    {
     "data": {
      "text/plain": [
       "array([[ 0,  5, 10],\n",
       "       [ 1,  6, 11],\n",
       "       [ 2,  7, 12],\n",
       "       [ 3,  8, 13],\n",
       "       [ 4,  9, 14]])"
      ]
     },
     "execution_count": 162,
     "metadata": {},
     "output_type": "execute_result"
    }
   ],
   "source": [
    "arr.swapaxes(0, 1)"
   ]
  }
 ],
 "metadata": {
  "kernelspec": {
   "display_name": "venv",
   "language": "python",
   "name": "python3"
  },
  "language_info": {
   "codemirror_mode": {
    "name": "ipython",
    "version": 3
   },
   "file_extension": ".py",
   "mimetype": "text/x-python",
   "name": "python",
   "nbconvert_exporter": "python",
   "pygments_lexer": "ipython3",
   "version": "3.13.6"
  }
 },
 "nbformat": 4,
 "nbformat_minor": 5
}
