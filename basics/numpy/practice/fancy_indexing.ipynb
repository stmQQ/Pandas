{
 "cells": [
  {
   "cell_type": "markdown",
   "id": "4ac4c343",
   "metadata": {},
   "source": [
    "## Тема - Прихотливое индексирование"
   ]
  },
  {
   "cell_type": "code",
   "execution_count": 1,
   "id": "b399c8ed",
   "metadata": {},
   "outputs": [],
   "source": [
    "import numpy as np"
   ]
  },
  {
   "cell_type": "markdown",
   "id": "f663b9c0",
   "metadata": {},
   "source": [
    "Задача 3.1: Создайте массив и получите элементы по индексам [0, 2, 4, 6, 8] с помощью массива индексов."
   ]
  },
  {
   "cell_type": "code",
   "execution_count": null,
   "id": "8601b564",
   "metadata": {},
   "outputs": [
    {
     "name": "stdout",
     "output_type": "stream",
     "text": [
      "[0 1 2 3 4 5 6 7 8 9]\n",
      "[0 2 4 6 8]\n"
     ]
    }
   ],
   "source": [
    "def task_1():\n",
    "    arr = np.arange(0, 10)\n",
    "    print(arr[[0, 2, 4, 6, 8]])\n",
    "\n",
    "task_1()"
   ]
  },
  {
   "cell_type": "markdown",
   "id": "52549cce",
   "metadata": {},
   "source": [
    "Задача 3.2: Создайте матрицу и получите элементы, удовлетворяющие условию: значения больше 5."
   ]
  },
  {
   "cell_type": "code",
   "execution_count": null,
   "id": "b720a7e8",
   "metadata": {},
   "outputs": [
    {
     "name": "stdout",
     "output_type": "stream",
     "text": [
      "[6 7 8 9]\n"
     ]
    }
   ],
   "source": [
    "def task_2():\n",
    "    matrix = np.arange(1, 10).reshape(3, 3)\n",
    "    print(matrix[matrix > 5])\n",
    "  \n",
    "# Второй способ\n",
    "# def task_2():\n",
    "#     matrix = np.arange(1, 10).reshape(3, 3)\n",
    "#     result = np.where(matrix > 5)\n",
    "#     print(matrix[result])\n",
    "\n",
    "task_2()"
   ]
  }
 ],
 "metadata": {
  "kernelspec": {
   "display_name": "venv",
   "language": "python",
   "name": "python3"
  },
  "language_info": {
   "codemirror_mode": {
    "name": "ipython",
    "version": 3
   },
   "file_extension": ".py",
   "mimetype": "text/x-python",
   "name": "python",
   "nbconvert_exporter": "python",
   "pygments_lexer": "ipython3",
   "version": "3.12.2"
  }
 },
 "nbformat": 4,
 "nbformat_minor": 5
}
