{
 "cells": [
  {
   "cell_type": "markdown",
   "id": "4ac4c343",
   "metadata": {},
   "source": [
    "## Тема - Прихотливое индексирование"
   ]
  },
  {
   "cell_type": "code",
   "execution_count": 2,
   "id": "b399c8ed",
   "metadata": {},
   "outputs": [],
   "source": [
    "import numpy as np"
   ]
  },
  {
   "cell_type": "markdown",
   "id": "f663b9c0",
   "metadata": {},
   "source": [
    "Задача 3.1: Создайте массив и получите элементы по индексам [0, 2, 4, 6, 8] с помощью массива индексов."
   ]
  },
  {
   "cell_type": "code",
   "execution_count": 3,
   "id": "8601b564",
   "metadata": {},
   "outputs": [
    {
     "name": "stdout",
     "output_type": "stream",
     "text": [
      "[0 2 4 6 8]\n"
     ]
    }
   ],
   "source": [
    "def task_1():\n",
    "    arr = np.arange(0, 10)\n",
    "    print(arr[[0, 2, 4, 6, 8]])\n",
    "\n",
    "task_1()"
   ]
  },
  {
   "cell_type": "markdown",
   "id": "52549cce",
   "metadata": {},
   "source": [
    "Задача 3.2: Создайте матрицу и получите элементы, удовлетворяющие условию: значения больше 5."
   ]
  },
  {
   "cell_type": "code",
   "execution_count": 4,
   "id": "b720a7e8",
   "metadata": {},
   "outputs": [
    {
     "name": "stdout",
     "output_type": "stream",
     "text": [
      "[6 7 8 9]\n"
     ]
    }
   ],
   "source": [
    "def task_2():\n",
    "    matrix = np.arange(1, 10).reshape(3, 3)\n",
    "    print(matrix[matrix > 5])\n",
    "  \n",
    "# Второй способ\n",
    "# def task_2():\n",
    "#     matrix = np.arange(1, 10).reshape(3, 3)\n",
    "#     result = np.where(matrix > 5)\n",
    "#     print(matrix[result])\n",
    "\n",
    "task_2()"
   ]
  },
  {
   "cell_type": "markdown",
   "id": "3b78d67f",
   "metadata": {},
   "source": [
    "Задача 3.3: Используя булево индексирование, замените все отрицательные элементы в массиве на 0."
   ]
  },
  {
   "cell_type": "code",
   "execution_count": 11,
   "id": "160002ee",
   "metadata": {},
   "outputs": [
    {
     "name": "stdout",
     "output_type": "stream",
     "text": [
      "[ 9  9 -2 -5  5  5 -1  7 -4  2]\n",
      "[9 9 0 0 5 5 0 7 0 2]\n"
     ]
    }
   ],
   "source": [
    "def task_3():\n",
    "    arr = np.random.randint(-10, 10, 10)\n",
    "    print(arr)\n",
    "    arr[arr < 0] = 0\n",
    "    print(arr)\n",
    "\n",
    "task_3()"
   ]
  }
 ],
 "metadata": {
  "kernelspec": {
   "display_name": "venv",
   "language": "python",
   "name": "python3"
  },
  "language_info": {
   "codemirror_mode": {
    "name": "ipython",
    "version": 3
   },
   "file_extension": ".py",
   "mimetype": "text/x-python",
   "name": "python",
   "nbconvert_exporter": "python",
   "pygments_lexer": "ipython3",
   "version": "3.12.2"
  }
 },
 "nbformat": 4,
 "nbformat_minor": 5
}
