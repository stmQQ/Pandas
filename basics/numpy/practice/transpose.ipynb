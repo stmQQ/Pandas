{
 "cells": [
  {
   "cell_type": "markdown",
   "id": "f68ac737",
   "metadata": {},
   "source": [
    "## Тема - Транспонирование и перестановка осей"
   ]
  },
  {
   "cell_type": "code",
   "execution_count": 2,
   "id": "3992bf77",
   "metadata": {},
   "outputs": [],
   "source": [
    "import numpy as np"
   ]
  },
  {
   "cell_type": "markdown",
   "id": "77ce7239",
   "metadata": {},
   "source": [
    "Задача 4.1: Создайте матрицу 2x3 и транспонируйте её."
   ]
  },
  {
   "cell_type": "code",
   "execution_count": 3,
   "id": "8568c79c",
   "metadata": {},
   "outputs": [
    {
     "name": "stdout",
     "output_type": "stream",
     "text": [
      "[[0 3]\n",
      " [1 4]\n",
      " [2 5]]\n"
     ]
    }
   ],
   "source": [
    "def task_1():\n",
    "    matrix = np.arange(0, 6).reshape(2, 3)\n",
    "    print(matrix.T)\n",
    "\n",
    "task_1()"
   ]
  },
  {
   "cell_type": "markdown",
   "id": "8f2d41b0",
   "metadata": {},
   "source": [
    "Задача 4.2: Создайте трехмерный массив (2x3x4) и поменяйте местами первую и последнюю оси."
   ]
  },
  {
   "cell_type": "code",
   "execution_count": 14,
   "id": "87a7ec37",
   "metadata": {},
   "outputs": [
    {
     "name": "stdout",
     "output_type": "stream",
     "text": [
      "[[[ 0  1  2  3]\n",
      "  [ 4  5  6  7]\n",
      "  [ 8  9 10 11]]\n",
      "\n",
      " [[12 13 14 15]\n",
      "  [16 17 18 19]\n",
      "  [20 21 22 23]]]\n",
      "------------\n",
      "[[[ 0 12]\n",
      "  [ 4 16]\n",
      "  [ 8 20]]\n",
      "\n",
      " [[ 1 13]\n",
      "  [ 5 17]\n",
      "  [ 9 21]]\n",
      "\n",
      " [[ 2 14]\n",
      "  [ 6 18]\n",
      "  [10 22]]\n",
      "\n",
      " [[ 3 15]\n",
      "  [ 7 19]\n",
      "  [11 23]]]\n"
     ]
    }
   ],
   "source": [
    "def task_2():\n",
    "    matrix = np.arange(0, 24).reshape(2, 3, 4)\n",
    "    print(matrix)\n",
    "    print('------------')\n",
    "    print(matrix.swapaxes(0, 2))\n",
    "\n",
    "task_2()"
   ]
  },
  {
   "cell_type": "markdown",
   "id": "6de8d844",
   "metadata": {},
   "source": [
    "Задача 4.3: Для матрицы 5x5 найдите разницу между исходной матрицей и её транспонированной версией."
   ]
  },
  {
   "cell_type": "code",
   "execution_count": 15,
   "id": "93351b76",
   "metadata": {},
   "outputs": [
    {
     "name": "stdout",
     "output_type": "stream",
     "text": [
      "[[  0  -4  -8 -12 -16]\n",
      " [  4   0  -4  -8 -12]\n",
      " [  8   4   0  -4  -8]\n",
      " [ 12   8   4   0  -4]\n",
      " [ 16  12   8   4   0]]\n"
     ]
    }
   ],
   "source": [
    "def task_3():\n",
    "    matrix = np.arange(0, 25).reshape(5, 5)\n",
    "    print(matrix - matrix.T)\n",
    "\n",
    "task_3()"
   ]
  }
 ],
 "metadata": {
  "kernelspec": {
   "display_name": "venv",
   "language": "python",
   "name": "python3"
  },
  "language_info": {
   "codemirror_mode": {
    "name": "ipython",
    "version": 3
   },
   "file_extension": ".py",
   "mimetype": "text/x-python",
   "name": "python",
   "nbconvert_exporter": "python",
   "pygments_lexer": "ipython3",
   "version": "3.13.6"
  }
 },
 "nbformat": 4,
 "nbformat_minor": 5
}
