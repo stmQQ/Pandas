{
 "cells": [
  {
   "cell_type": "markdown",
   "id": "377f2a57",
   "metadata": {},
   "source": [
    "## Тема - Арифметические операции"
   ]
  },
  {
   "cell_type": "markdown",
   "id": "1b9c3b22",
   "metadata": {},
   "source": [
    "Задача 1.1: Создайте два одномерных массива размером 5 и выполните поэлементные операции: сложение, вычитание, умножение и деление."
   ]
  },
  {
   "cell_type": "code",
   "execution_count": 30,
   "id": "3072c2df",
   "metadata": {},
   "outputs": [],
   "source": [
    "import numpy as np"
   ]
  },
  {
   "cell_type": "code",
   "execution_count": 31,
   "id": "eca1095f",
   "metadata": {},
   "outputs": [
    {
     "name": "stdout",
     "output_type": "stream",
     "text": [
      "+ :  [ 7  9 11 13 15]\n",
      "- :  [5 5 5 5 5]\n",
      "* :  [ 6 14 24 36 50]\n",
      "/ :  [6.         3.5        2.66666667 2.25       2.        ]\n"
     ]
    }
   ],
   "source": [
    "def task_1():\n",
    "    arr1 = np.array([1, 2, 3, 4, 5])\n",
    "    arr2 = np.array([6, 7, 8, 9, 10])\n",
    "\n",
    "    print(\"+ : \", arr1 + arr2)\n",
    "    print(\"- : \",arr2 - arr1)\n",
    "    print(\"* : \", arr1 * arr2)\n",
    "    print(\"/ : \", arr2 / arr1)\n",
    "\n",
    "task_1()\n"
   ]
  },
  {
   "cell_type": "markdown",
   "id": "733963c6",
   "metadata": {},
   "source": [
    "Задача 1.2: Создайте матрицу 3x3 и выполните операции с скаляром: умножение на 2, деление на 3, возведение в квадрат."
   ]
  },
  {
   "cell_type": "code",
   "execution_count": 36,
   "id": "d5fb46bc",
   "metadata": {},
   "outputs": [
    {
     "name": "stdout",
     "output_type": "stream",
     "text": [
      "[[0 1 2]\n",
      " [3 4 5]\n",
      " [6 7 8]]\n",
      "[0 2 4] [ 6  8 10] [12 14 16]\n",
      "[0.  0.5 1. ] [1.5 2.  2.5] [3.  3.5 4. ]\n",
      "[0 1 4] [ 9 16 25] [36 49 64]\n"
     ]
    }
   ],
   "source": [
    "def task_2():\n",
    "    matrix = np.arange(9).reshape(3, 3)\n",
    "    print(matrix)\n",
    "    print(*matrix * 2)\n",
    "    print(*matrix / 2)\n",
    "    print(*matrix ** 2)\n",
    "\n",
    "task_2()"
   ]
  },
  {
   "cell_type": "markdown",
   "id": "732f8f84",
   "metadata": {},
   "source": [
    "Задача 1.3: Создайте два массива разной размерности (3x1 и 1x3) и продемонстрируйте работу broadcasting при сложении."
   ]
  },
  {
   "cell_type": "code",
   "execution_count": 39,
   "id": "e42b2795",
   "metadata": {},
   "outputs": [
    {
     "name": "stdout",
     "output_type": "stream",
     "text": [
      "[[ 4  8 12]\n",
      " [ 5 10 15]\n",
      " [ 6 12 18]]\n"
     ]
    }
   ],
   "source": [
    "def task_3():\n",
    "    arr1 = np.array([1, 2, 3])\n",
    "    arr2 = np.array([[4], [5], [6]])\n",
    "\n",
    "    print(arr1 * arr2)\n",
    "\n",
    "task_3()"
   ]
  }
 ],
 "metadata": {
  "kernelspec": {
   "display_name": "venv",
   "language": "python",
   "name": "python3"
  },
  "language_info": {
   "codemirror_mode": {
    "name": "ipython",
    "version": 3
   },
   "file_extension": ".py",
   "mimetype": "text/x-python",
   "name": "python",
   "nbconvert_exporter": "python",
   "pygments_lexer": "ipython3",
   "version": "3.12.2"
  }
 },
 "nbformat": 4,
 "nbformat_minor": 5
}
