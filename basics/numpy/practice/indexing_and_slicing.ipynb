{
 "cells": [
  {
   "cell_type": "markdown",
   "id": "7b44bc6d",
   "metadata": {},
   "source": [
    "## Тема - Индексирование и вырезание"
   ]
  },
  {
   "cell_type": "code",
   "execution_count": 1,
   "id": "96a600fc",
   "metadata": {},
   "outputs": [],
   "source": [
    "import numpy as np"
   ]
  },
  {
   "cell_type": "markdown",
   "id": "ebf19a71",
   "metadata": {},
   "source": [
    "Задача 2.1: Создайте массив из 10 элементов и получите: первые 3 элемента, последние 3 элемента, каждый второй элемент."
   ]
  },
  {
   "cell_type": "code",
   "execution_count": 4,
   "id": "00b2d999",
   "metadata": {},
   "outputs": [
    {
     "name": "stdout",
     "output_type": "stream",
     "text": [
      "First 3:  [0 1 2]\n",
      "Last 3:  [7 8 9]\n",
      "Each second:  [0 2 4 6 8]\n"
     ]
    }
   ],
   "source": [
    "def task_1():\n",
    "    arr = np.arange(10)\n",
    "    print(\"First 3: \", arr[:3])\n",
    "    print(\"Last 3: \", arr[-3:])\n",
    "    print(\"Each second: \", arr[::2])\n",
    "\n",
    "task_1()"
   ]
  },
  {
   "cell_type": "markdown",
   "id": "4e1b9921",
   "metadata": {},
   "source": [
    "Задача 2.2: Создайте матрицу 4x4 и получите: первую строку, последний столбец, подматрицу 2x2 из центра."
   ]
  },
  {
   "cell_type": "code",
   "execution_count": 11,
   "id": "a317709c",
   "metadata": {},
   "outputs": [
    {
     "name": "stdout",
     "output_type": "stream",
     "text": [
      "First row:  [0 1 2 3]\n",
      "First column:  [ 0  4  8 12]\n",
      "Submatrix 2x2:\n",
      " [[ 5  6]\n",
      " [ 9 10]]\n"
     ]
    }
   ],
   "source": [
    "def task_2():\n",
    "    matrix = np.arange(16).reshape(4, 4)\n",
    "    print(\"First row: \", matrix[0])\n",
    "    print(\"First column: \", matrix[:, 0])\n",
    "    print(\"Submatrix 2x2:\\n\", matrix[1:3, 1:3])\n",
    "\n",
    "task_2()"
   ]
  },
  {
   "cell_type": "markdown",
   "id": "80a9e576",
   "metadata": {},
   "source": [
    "Задача 2.3: Из массива чисел от 0 до 99 получите все элементы с 20 по 30 и с 70 по 80."
   ]
  },
  {
   "cell_type": "code",
   "execution_count": 19,
   "id": "c055f22c",
   "metadata": {},
   "outputs": [
    {
     "name": "stdout",
     "output_type": "stream",
     "text": [
      "[20 21 22 23 24 25 26 27 28 29 70 71 72 73 74 75 76 77 78 79]\n"
     ]
    }
   ],
   "source": [
    "def task_3():\n",
    "    arr = np.arange(0, 100)\n",
    "    arr_result = np.concatenate((arr[20:30], arr[70:80]))\n",
    "\n",
    "    print(arr_result)\n",
    "\n",
    "task_3()"
   ]
  }
 ],
 "metadata": {
  "kernelspec": {
   "display_name": "venv",
   "language": "python",
   "name": "python3"
  },
  "language_info": {
   "codemirror_mode": {
    "name": "ipython",
    "version": 3
   },
   "file_extension": ".py",
   "mimetype": "text/x-python",
   "name": "python",
   "nbconvert_exporter": "python",
   "pygments_lexer": "ipython3",
   "version": "3.12.2"
  }
 },
 "nbformat": 4,
 "nbformat_minor": 5
}
