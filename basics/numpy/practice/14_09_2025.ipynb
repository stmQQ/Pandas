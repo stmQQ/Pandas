{
 "cells": [
  {
   "cell_type": "markdown",
   "id": "0eda3442",
   "metadata": {},
   "source": [
    "## Практика 14_09_2025 - numpy"
   ]
  },
  {
   "cell_type": "code",
   "execution_count": 69,
   "id": "4b6d026b",
   "metadata": {},
   "outputs": [],
   "source": [
    "import numpy as np"
   ]
  },
  {
   "cell_type": "markdown",
   "id": "e80cdbb6",
   "metadata": {},
   "source": [
    "1. Создание массива и базовые операции  \n",
    "Задача:  Создай массив из чисел от 1 до 10 включительно.\n",
    "- Найди сумму всех элементов.\n",
    "- Найди среднее значение.\n",
    "- Выведи только чётные числа."
   ]
  },
  {
   "cell_type": "code",
   "execution_count": 70,
   "id": "879cdfb3",
   "metadata": {},
   "outputs": [
    {
     "name": "stdout",
     "output_type": "stream",
     "text": [
      "\n",
      "        Сумма элементов -> 55\n",
      "        Среднее значение -> 5.5\n",
      "        Четные числа -> [ 2  4  6  8 10]\n",
      "        \n"
     ]
    }
   ],
   "source": [
    "def task_1():\n",
    "    arr = np.arange(1, 11)\n",
    "    summ = np.sum(arr)\n",
    "    avg = np.average(arr)\n",
    "    even_numbers = arr[arr % 2 == 0]\n",
    "\n",
    "    # Вариант с маской np.where\n",
    "    # even_numbers_mask = np.where(arr % 2 == 0)\n",
    "    # even_numbers = arr[even_numbers_mask]\n",
    "\n",
    "    print(\n",
    "        f\"\"\"\n",
    "        Сумма элементов -> {summ}\n",
    "        Среднее значение -> {avg}\n",
    "        Четные числа -> {even_numbers}\n",
    "        \"\"\")\n",
    "\n",
    "task_1()"
   ]
  },
  {
   "cell_type": "markdown",
   "id": "3b2a1612",
   "metadata": {},
   "source": [
    "*`np.where` возвращает **индексы**, а не элементы. Чтобы получить элементы нужно использовать булеву маску in-place или булеву маску, полученную с помощью `np.where`. Также можно использовать `np.where(cond, x, y)`, где `x` и `y` - значения, которые будут добавляться по индексу в зависимости от `cond`. При этом нужно указывать и `x`, и `y`.*"
   ]
  },
  {
   "cell_type": "markdown",
   "id": "7f23a417",
   "metadata": {},
   "source": [
    "2. Индексация и срезы  \n",
    "Задача:  Создай массив из чисел от 0 до 20.\n",
    "- Выведи каждый третий элемент.\n",
    "- Выведи элементы с 5-го по 10-й включительно.\n",
    "- Замени все элементы больше 15 на 0."
   ]
  },
  {
   "cell_type": "code",
   "execution_count": 71,
   "id": "3960680c",
   "metadata": {},
   "outputs": [
    {
     "name": "stdout",
     "output_type": "stream",
     "text": [
      "\n",
      "        Каждый третий -> [ 0  3  6  9 12 15 18]\n",
      "        С 5 по 10 включительно -> [ 5  6  7  8  9 10]\n",
      "        После замены > 15 = 0 -> [ 0  1  2  3  4  5  6  7  8  9 10 11 12 13 14 15  0  0  0  0  0]\n",
      "        \n"
     ]
    }
   ],
   "source": [
    "def task_2():\n",
    "    arr = np.arange(0, 21)\n",
    "    each_third_elem = arr[::3].copy()\n",
    "    from_5_to_10_elem = arr[5:11].copy()\n",
    "    arr[arr > 15] = 0\n",
    "\n",
    "    # Вариант с созданием копии массива с помощью np.where\n",
    "    # each_third_elem = arr[::3]\n",
    "    # from_5_to_10_elem = arr[5:11]\n",
    "    # replaced_arr = np.where(arr > 15, 0, arr) # np.where возвращает новый массив, если указать x и y\n",
    "\n",
    "    print(\n",
    "        f\"\"\"\n",
    "        Каждый третий -> {each_third_elem}\n",
    "        С 5 по 10 включительно -> {from_5_to_10_elem}\n",
    "        После замены > 15 = 0 -> {arr}\n",
    "        \"\"\")\n",
    "    \n",
    "task_2()"
   ]
  },
  {
   "cell_type": "markdown",
   "id": "e6623949",
   "metadata": {},
   "source": [
    "*В numpy срезы работают как включения (т.е. если заменить элемент в срезе, то он изменится и в массиве). И наоборот, если изменить элемент в массиве, то и в срезе тоже изменится. Чтобы избежать этого можно использовать `.copy()`.*"
   ]
  },
  {
   "cell_type": "markdown",
   "id": "09ebd1e0",
   "metadata": {},
   "source": [
    "3. Работа с многомерными массивами  \n",
    "Задача:\n",
    "Создай матрицу 3×3 со случайными числами от 1 до 9.\n",
    "- Найди сумму всех элементов матрицы.\n",
    "- Найди максимум и минимум.\n",
    "- Выведи главную диагональ."
   ]
  },
  {
   "cell_type": "code",
   "execution_count": 72,
   "id": "5504e97e",
   "metadata": {},
   "outputs": [
    {
     "name": "stdout",
     "output_type": "stream",
     "text": [
      "Матрица ->\n",
      " [[7 3 8]\n",
      " [3 2 8]\n",
      " [6 7 9]]\n",
      "\n",
      "Сумма элементов -> 53\n",
      "Максимум и минимум -> 9, 2\n",
      "Главная диагональ -> [7 2 9]\n",
      "\n"
     ]
    }
   ],
   "source": [
    "rng = np.random.default_rng(12345)\n",
    "def task_3():\n",
    "    matrix = rng.integers(1, 10, size=(3, 3))\n",
    "    summ = np.sum(matrix)\n",
    "    max_el, min_el = np.max(matrix), np.min(matrix)\n",
    "    diag = np.diag(matrix)\n",
    "\n",
    "    print(f\"Матрица ->\\n\", matrix)\n",
    "    print(\n",
    "f\"\"\"\n",
    "Сумма элементов -> {summ}\n",
    "Максимум и минимум -> {max_el}, {min_el}\n",
    "Главная диагональ -> {diag}\n",
    "\"\"\")\n",
    "    \n",
    "task_3()"
   ]
  },
  {
   "cell_type": "markdown",
   "id": "c8a84229",
   "metadata": {},
   "source": [
    "4. Векторные операции  \n",
    "Задача:  \n",
    "Создай два массива длиной 5 со случайными числами от 0 до 10.\n",
    "- Посчитай их поэлементную сумму.\n",
    "- Посчитай их скалярное произведение.\n",
    "- Посчитай разницу между массивами."
   ]
  },
  {
   "cell_type": "code",
   "execution_count": 73,
   "id": "53717374",
   "metadata": {},
   "outputs": [
    {
     "name": "stdout",
     "output_type": "stream",
     "text": [
      "Вектор 1 -> [4 9 3 6 6]\n",
      "Вектор 2 -> [2 2 2 7 6]\n",
      "\n",
      "Сумма элементов -> [ 6 11  5 13 12]\n",
      "Скалярное произведение -> 110\n",
      "Разница -> [ 2  7  1 -1  0]\n",
      "\n"
     ]
    }
   ],
   "source": [
    "def task_4():\n",
    "    # reshape - O(1), стоит использовать этот вариант всегда, когда возможно. Здесь - вместо 2 отдельных вызовов\n",
    "    arr1, arr2 = rng.integers(0, 11, size=(2, 5))\n",
    "    element_by_summ = arr1 + arr2\n",
    "    dot_prod = np.dot(arr1, arr2) # dot - скалярное произведение, prod - произведение эл-тов вдоль одной оси\n",
    "    diff = arr1 - arr2\n",
    "\n",
    "    print(f\"Вектор 1 ->\", arr1)\n",
    "    print(f\"Вектор 2 ->\", arr2)\n",
    "    print(\n",
    "f\"\"\"\n",
    "Сумма элементов -> {element_by_summ}\n",
    "Скалярное произведение -> {dot_prod}\n",
    "Разница -> {diff}\n",
    "\"\"\")\n",
    "\n",
    "task_4()"
   ]
  },
  {
   "cell_type": "markdown",
   "id": "83039eb4",
   "metadata": {},
   "source": [
    "5. Булева маска  \n",
    "Задача:  \n",
    "Создай массив из 15 случайных чисел от 0 до 50.\n",
    "- Выведи только числа больше 25.\n",
    "- Замени все нечётные числа на -1.\n",
    "- Подсчитай количество элементов, делящихся на 5."
   ]
  },
  {
   "cell_type": "code",
   "execution_count": 81,
   "id": "f172977b",
   "metadata": {},
   "outputs": [
    {
     "name": "stdout",
     "output_type": "stream",
     "text": [
      "Массив -> [41 11 39 24 20 24 27 13  6 15 50 14 34 13 42]\n",
      "\n",
      "Больше 25 -> [41 39 27 50 34 42]\n",
      "Нечетные заменить на -1 -> [-1 -1 -1 24 20 24 -1 -1  6 -1 50 14 34 -1 42]\n",
      "Делятся на 5 -> 3\n",
      "\n"
     ]
    }
   ],
   "source": [
    "def task_5():\n",
    "    arr = rng.integers(0, 51, size=15)\n",
    "    larger_than_25 = arr[arr > 25]\n",
    "    replaced_odd_to_minus1 = np.where(arr % 2 == 1, -1, arr)\n",
    "    count_div_by_5 = np.sum(arr % 5 == 0)\n",
    "\n",
    "    print(f\"Массив ->\", arr)\n",
    "    print(\n",
    "f\"\"\"\n",
    "Больше 25 -> {larger_than_25}\n",
    "Нечетные заменить на -1 -> {replaced_odd_to_minus1}\n",
    "Делятся на 5 -> {count_div_by_5}\n",
    "\"\"\")\n",
    "    \n",
    "task_5()"
   ]
  },
  {
   "cell_type": "markdown",
   "id": "a04e135c",
   "metadata": {},
   "source": [
    "### Задачи посложнее"
   ]
  },
  {
   "cell_type": "markdown",
   "id": "0d1703c1",
   "metadata": {},
   "source": [
    "1. Нормализация данных\n",
    "\n",
    "- Создай массив из 100 случайных чисел (от 10 до 100).\n",
    "- Приведи все значения к диапазону от 0 до 1 (нормализация).\n",
    "- Проверь, что минимум массива стал равен 0, а максимум — 1."
   ]
  },
  {
   "cell_type": "code",
   "execution_count": 75,
   "id": "4cbba88f",
   "metadata": {},
   "outputs": [
    {
     "name": "stdout",
     "output_type": "stream",
     "text": [
      "Массив ->\n",
      "[0.19047619 0.34920635 0.04761905 0.93650794 1.         0.20634921\n",
      " 0.92063492 0.         0.44444444 0.11111111]\n",
      "Минимум -> 0.0\n",
      "Максимум -> 1.0\n"
     ]
    }
   ],
   "source": [
    "def task_6():\n",
    "    arr = rng.integers(10, 101, size=10)\n",
    "    largest, smallest = arr.max(), arr.min()\n",
    "    arr = (arr - smallest) / (largest - smallest)\n",
    "\n",
    "    print(f\"Массив ->\\n{arr}\")\n",
    "    print(f\"Минимум -> {arr.min()}\")\n",
    "    print(f\"Максимум -> {arr.max()}\")\n",
    "\n",
    "task_6()"
   ]
  },
  {
   "cell_type": "markdown",
   "id": "b2378aba",
   "metadata": {},
   "source": [
    "2. Генерация и обработка матрицы\n",
    "\n",
    "- Создай матрицу размером 5×5 со случайными целыми числами от 1 до 20.\n",
    "- Найди сумму элементов в каждом столбце.\n",
    "- Найди индекс строки с наибольшей суммой элементов.\n",
    "- Отсортируй матрицу по значениям первого столбца по убыванию."
   ]
  },
  {
   "cell_type": "code",
   "execution_count": 76,
   "id": "7dad8a01",
   "metadata": {},
   "outputs": [
    {
     "name": "stdout",
     "output_type": "stream",
     "text": [
      "Матрица ->\n",
      " [[15  7 10 10 10]\n",
      " [ 6 12 17 10  4]\n",
      " [ 1  3  2  2  3]\n",
      " [12 17 18 14 13]\n",
      " [ 7 19 13 15 15]]\n",
      "Сумма по столбцам ->  [41 58 60 51 45]\n",
      "Индекс строкми с максимальной суммой ->  3\n",
      "Отсортированная матрица по первому столбцу по убыванию ->\n",
      " [[15  7 10 10 10]\n",
      " [12 17 18 14 13]\n",
      " [ 7 19 13 15 15]\n",
      " [ 6 12 17 10  4]\n",
      " [ 1  3  2  2  3]]\n"
     ]
    }
   ],
   "source": [
    "def task_7():\n",
    "    matrix = rng.integers(1, 21, size=(5, 5))\n",
    "    summ_by_columns = np.sum(matrix, axis=0)\n",
    "    max_summ_row_idx = np.argmax(np.sum(matrix, axis=1))\n",
    "    sort_idx = np.argsort(matrix[:, 0])[::-1]\n",
    "    sorted_matrix = matrix[sort_idx]\n",
    "    print(\"Матрица ->\\n\", matrix)\n",
    "    print(\"Сумма по столбцам -> \", summ_by_columns)\n",
    "    print(\"Индекс строкми с максимальной суммой -> \", max_summ_row_idx)\n",
    "    print(\"Отсортированная матрица по первому столбцу по убыванию ->\\n\", sorted_matrix)\n",
    "\n",
    "task_7()"
   ]
  },
  {
   "cell_type": "markdown",
   "id": "f46c82fd",
   "metadata": {},
   "source": [
    "3. Работа с линейной алгеброй\n",
    "\n",
    "- Сгенерируй случайную квадратную матрицу 4×4.\n",
    "- Найди её определитель.\n",
    "- Найди обратную матрицу (если существует).\n",
    "- Проверь, что произведение матрицы и её обратной даёт единичную матрицу (с точностью до округления)."
   ]
  },
  {
   "cell_type": "code",
   "execution_count": null,
   "id": "efd1cf02",
   "metadata": {},
   "outputs": [
    {
     "name": "stdout",
     "output_type": "stream",
     "text": [
      "Матрица ->\n",
      " [[1 7 6 4]\n",
      " [8 4 5 8]\n",
      " [5 6 7 5]\n",
      " [1 1 5 3]]\n",
      "Определитель ->  -423.0\n",
      "Обратная матрица ->  [[-0.24349882 -0.03309693  0.3286052  -0.13475177]\n",
      " [ 0.1465721  -0.01891253  0.04491726 -0.21985816]\n",
      " [-0.13238771 -0.14420804  0.21749409  0.19858156]\n",
      " [ 0.25295508  0.25768322 -0.48699764  0.12056738]]\n",
      "Произведение матрицы на обратную ->\n",
      " [[ True  True  True  True]\n",
      " [ True  True  True  True]\n",
      " [ True  True  True  True]\n",
      " [ True  True  True  True]]\n"
     ]
    }
   ],
   "source": [
    "def task_8():\n",
    "    matrix = rng.integers(1, 10, size=(4, 4))\n",
    "    determinant = np.linalg.det(matrix)\n",
    "    inversed_matrix = np.linalg.inv(matrix)\n",
    "    must_be_ones_matrix = (matrix @ inversed_matrix)\n",
    "\n",
    "\n",
    "    print(\"Матрица ->\\n\", matrix)\n",
    "    print(\"Определитель -> \", determinant.round(2))\n",
    "    print(\"Обратная матрица -> \", inversed_matrix)\n",
    "    print(\"Произведение матрицы на обратную ->\\n\", must_be_ones_matrix)\n",
    "\n",
    "task_8()    \n"
   ]
  },
  {
   "cell_type": "markdown",
   "id": "188da367",
   "metadata": {},
   "source": [
    "*Чтобы проверить, что поэлементно матрицы примерно равны, следует использовать `np.isclose()` и `np.all_close()`.*  \n",
    "*Чтобы создать матрицу, все элементы на главной диагонали которой равны 1, а остальные - 0, нужно использовать `np.eye()`.*"
   ]
  }
 ],
 "metadata": {
  "kernelspec": {
   "display_name": "venv",
   "language": "python",
   "name": "python3"
  },
  "language_info": {
   "codemirror_mode": {
    "name": "ipython",
    "version": 3
   },
   "file_extension": ".py",
   "mimetype": "text/x-python",
   "name": "python",
   "nbconvert_exporter": "python",
   "pygments_lexer": "ipython3",
   "version": "3.12.2"
  }
 },
 "nbformat": 4,
 "nbformat_minor": 5
}
