{
 "cells": [
  {
   "cell_type": "markdown",
   "id": "d102c288",
   "metadata": {},
   "source": [
    "## Универсальные функции (u-функции)\n",
    "Универсальной функцией называется функция, которая выполняет поэлементные операции над данными, хранящимися в объектах `ndarray`. Можно считать, что это векторные обертки вокруг простых функций. "
   ]
  },
  {
   "cell_type": "markdown",
   "id": "07da22e2",
   "metadata": {},
   "source": [
    "Многие u-функции - простые поэлементные операции, например `numpy.sqrt` и `numpy.exp`:"
   ]
  },
  {
   "cell_type": "code",
   "execution_count": 4,
   "id": "359e54c7",
   "metadata": {},
   "outputs": [],
   "source": [
    "import numpy as np"
   ]
  },
  {
   "cell_type": "code",
   "execution_count": 5,
   "id": "e60a0da7",
   "metadata": {},
   "outputs": [
    {
     "data": {
      "text/plain": [
       "array([0, 1, 2, 3, 4, 5, 6, 7, 8, 9])"
      ]
     },
     "execution_count": 5,
     "metadata": {},
     "output_type": "execute_result"
    }
   ],
   "source": [
    "arr = np.arange(10)\n",
    "arr"
   ]
  },
  {
   "cell_type": "code",
   "execution_count": 6,
   "id": "30cfe5f5",
   "metadata": {},
   "outputs": [
    {
     "data": {
      "text/plain": [
       "array([0.        , 1.        , 1.41421356, 1.73205081, 2.        ,\n",
       "       2.23606798, 2.44948974, 2.64575131, 2.82842712, 3.        ])"
      ]
     },
     "execution_count": 6,
     "metadata": {},
     "output_type": "execute_result"
    }
   ],
   "source": [
    "np.sqrt(arr)"
   ]
  },
  {
   "cell_type": "code",
   "execution_count": null,
   "id": "cfea338e",
   "metadata": {},
   "outputs": [
    {
     "data": {
      "text/plain": [
       "array([1.00000000e+00, 2.71828183e+00, 7.38905610e+00, 2.00855369e+01,\n",
       "       5.45981500e+01, 1.48413159e+02, 4.03428793e+02, 1.09663316e+03,\n",
       "       2.98095799e+03, 8.10308393e+03])"
      ]
     },
     "execution_count": 7,
     "metadata": {},
     "output_type": "execute_result"
    }
   ],
   "source": [
    "np.exp(arr)"
   ]
  },
  {
   "cell_type": "markdown",
   "id": "8408e5af",
   "metadata": {},
   "source": [
    "Такие u-функции называются *унарными*. Другие, например `numpy.add` или `numpy.maximum` принимают два массива и возвращают один результирующий - *бинарные*."
   ]
  },
  {
   "cell_type": "code",
   "execution_count": 16,
   "id": "f21dabe2",
   "metadata": {},
   "outputs": [
    {
     "data": {
      "text/plain": [
       "array([6, 6, 8, 4, 4])"
      ]
     },
     "execution_count": 16,
     "metadata": {},
     "output_type": "execute_result"
    }
   ],
   "source": [
    "rng = np.random.default_rng(12346) # если seed указан, то при перезапусках результат не меняется\n",
    "x = rng.integers(0, 10, 5)\n",
    "y = rng.integers(0, 10, 5)\n",
    "\n",
    "np.maximum(x, y)"
   ]
  },
  {
   "cell_type": "markdown",
   "id": "b4e6892f",
   "metadata": {},
   "source": [
    "[Список u-функций на данный момент](https://numpy.org/doc/stable/reference/ufuncs.html)"
   ]
  }
 ],
 "metadata": {
  "kernelspec": {
   "display_name": "venv",
   "language": "python",
   "name": "python3"
  },
  "language_info": {
   "codemirror_mode": {
    "name": "ipython",
    "version": 3
   },
   "file_extension": ".py",
   "mimetype": "text/x-python",
   "name": "python",
   "nbconvert_exporter": "python",
   "pygments_lexer": "ipython3",
   "version": "3.13.6"
  }
 },
 "nbformat": 4,
 "nbformat_minor": 5
}
