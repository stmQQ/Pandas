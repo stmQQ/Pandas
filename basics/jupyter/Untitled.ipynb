{
 "cells": [
  {
   "cell_type": "code",
   "execution_count": 2,
   "id": "72734a7a-c6ee-4e0e-8408-b83a8a61a42f",
   "metadata": {},
   "outputs": [
    {
     "name": "stdout",
     "output_type": "stream",
     "text": [
      "Hello, world!\n"
     ]
    }
   ],
   "source": [
    "print('Hello, world!')"
   ]
  },
  {
   "cell_type": "code",
   "execution_count": 40,
   "id": "3a7f778c",
   "metadata": {},
   "outputs": [],
   "source": [
    "def add_num(a, b):\n",
    "    \"\"\"\n",
    "    Calculates summ of two arguments.\n",
    "\n",
    "    Args:\n",
    "        a: First number\n",
    "        b: Second number.\n",
    "\n",
    "    Returns:\n",
    "        s: Summ of a and b\n",
    "\n",
    "    Raises:\n",
    "        ValueError: If a or b is not numeric type\n",
    "    \"\"\"\n",
    "\n",
    "    return a + b"
   ]
  }
 ],
 "metadata": {
  "kernelspec": {
   "display_name": "venv",
   "language": "python",
   "name": "python3"
  },
  "language_info": {
   "codemirror_mode": {
    "name": "ipython",
    "version": 3
   },
   "file_extension": ".py",
   "mimetype": "text/x-python",
   "name": "python",
   "nbconvert_exporter": "python",
   "pygments_lexer": "ipython3",
   "version": "3.13.6"
  }
 },
 "nbformat": 4,
 "nbformat_minor": 5
}
